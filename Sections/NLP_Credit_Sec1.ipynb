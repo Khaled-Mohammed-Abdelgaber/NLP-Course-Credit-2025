{
  "cells": [
    {
      "cell_type": "markdown",
      "metadata": {
        "id": "6O6EkGGlrrXH"
      },
      "source": [
        "## Seminar 1: Fun with Word Embeddings (3 points)\n",
        "\n",
        "Today we gonna play with word embeddings: train our own little embedding, load one from   gensim model zoo and use it to visualize text corpora.\n",
        "\n",
        "This whole thing is gonna happen on top of embedding dataset.\n",
        "\n",
        "__Requirements:__  `pip install --upgrade nltk gensim bokeh` , but only if you're running locally."
      ]
    },
    {
      "cell_type": "markdown",
      "source": [
        "\n",
        "* **nltk** → Natural Language Toolkit (used for NLP tasks like tokenization, stemming, POS tagging, etc.).\n",
        "* **gensim** → Library for topic modeling, word embeddings (Word2Vec, FastText), and similarity search.\n",
        "* **bokeh** → Interactive visualization library for building dashboards and plots in the browser.\n",
        "\n"
      ],
      "metadata": {
        "id": "0L3OLTIrr9x8"
      }
    },
    {
      "cell_type": "code",
      "source": [
        "pip install --upgrade nltk gensim bokeh"
      ],
      "metadata": {
        "colab": {
          "base_uri": "https://localhost:8080/",
          "height": 1174
        },
        "id": "OFmk0fAkrylz",
        "outputId": "2d558f26-90e5-40a2-aad6-15b6442c99d7"
      },
      "execution_count": 1,
      "outputs": [
        {
          "output_type": "stream",
          "name": "stdout",
          "text": [
            "Requirement already satisfied: nltk in /usr/local/lib/python3.12/dist-packages (3.9.1)\n",
            "Collecting gensim\n",
            "  Downloading gensim-4.3.3-cp312-cp312-manylinux_2_17_x86_64.manylinux2014_x86_64.whl.metadata (8.1 kB)\n",
            "Requirement already satisfied: bokeh in /usr/local/lib/python3.12/dist-packages (3.7.3)\n",
            "Collecting bokeh\n",
            "  Downloading bokeh-3.8.0-py3-none-any.whl.metadata (10 kB)\n",
            "Requirement already satisfied: click in /usr/local/lib/python3.12/dist-packages (from nltk) (8.2.1)\n",
            "Requirement already satisfied: joblib in /usr/local/lib/python3.12/dist-packages (from nltk) (1.5.2)\n",
            "Requirement already satisfied: regex>=2021.8.3 in /usr/local/lib/python3.12/dist-packages (from nltk) (2024.11.6)\n",
            "Requirement already satisfied: tqdm in /usr/local/lib/python3.12/dist-packages (from nltk) (4.67.1)\n",
            "Collecting numpy<2.0,>=1.18.5 (from gensim)\n",
            "  Downloading numpy-1.26.4-cp312-cp312-manylinux_2_17_x86_64.manylinux2014_x86_64.whl.metadata (61 kB)\n",
            "\u001b[2K     \u001b[90m━━━━━━━━━━━━━━━━━━━━━━━━━━━━━━━━━━━━━━━━\u001b[0m \u001b[32m61.0/61.0 kB\u001b[0m \u001b[31m3.7 MB/s\u001b[0m eta \u001b[36m0:00:00\u001b[0m\n",
            "\u001b[?25hCollecting scipy<1.14.0,>=1.7.0 (from gensim)\n",
            "  Downloading scipy-1.13.1-cp312-cp312-manylinux_2_17_x86_64.manylinux2014_x86_64.whl.metadata (60 kB)\n",
            "\u001b[2K     \u001b[90m━━━━━━━━━━━━━━━━━━━━━━━━━━━━━━━━━━━━━━━━\u001b[0m \u001b[32m60.6/60.6 kB\u001b[0m \u001b[31m5.7 MB/s\u001b[0m eta \u001b[36m0:00:00\u001b[0m\n",
            "\u001b[?25hRequirement already satisfied: smart-open>=1.8.1 in /usr/local/lib/python3.12/dist-packages (from gensim) (7.3.1)\n",
            "Requirement already satisfied: Jinja2>=2.9 in /usr/local/lib/python3.12/dist-packages (from bokeh) (3.1.6)\n",
            "Requirement already satisfied: contourpy>=1.2 in /usr/local/lib/python3.12/dist-packages (from bokeh) (1.3.3)\n",
            "Requirement already satisfied: narwhals>=1.13 in /usr/local/lib/python3.12/dist-packages (from bokeh) (2.5.0)\n",
            "Requirement already satisfied: packaging>=16.8 in /usr/local/lib/python3.12/dist-packages (from bokeh) (25.0)\n",
            "Requirement already satisfied: pandas>=1.2 in /usr/local/lib/python3.12/dist-packages (from bokeh) (2.2.2)\n",
            "Requirement already satisfied: pillow>=7.1.0 in /usr/local/lib/python3.12/dist-packages (from bokeh) (11.3.0)\n",
            "Requirement already satisfied: PyYAML>=3.10 in /usr/local/lib/python3.12/dist-packages (from bokeh) (6.0.2)\n",
            "Requirement already satisfied: tornado>=6.2 in /usr/local/lib/python3.12/dist-packages (from bokeh) (6.4.2)\n",
            "Requirement already satisfied: xyzservices>=2021.09.1 in /usr/local/lib/python3.12/dist-packages (from bokeh) (2025.4.0)\n",
            "Requirement already satisfied: MarkupSafe>=2.0 in /usr/local/lib/python3.12/dist-packages (from Jinja2>=2.9->bokeh) (3.0.2)\n",
            "Requirement already satisfied: python-dateutil>=2.8.2 in /usr/local/lib/python3.12/dist-packages (from pandas>=1.2->bokeh) (2.9.0.post0)\n",
            "Requirement already satisfied: pytz>=2020.1 in /usr/local/lib/python3.12/dist-packages (from pandas>=1.2->bokeh) (2025.2)\n",
            "Requirement already satisfied: tzdata>=2022.7 in /usr/local/lib/python3.12/dist-packages (from pandas>=1.2->bokeh) (2025.2)\n",
            "Requirement already satisfied: wrapt in /usr/local/lib/python3.12/dist-packages (from smart-open>=1.8.1->gensim) (1.17.3)\n",
            "Requirement already satisfied: six>=1.5 in /usr/local/lib/python3.12/dist-packages (from python-dateutil>=2.8.2->pandas>=1.2->bokeh) (1.17.0)\n",
            "Downloading gensim-4.3.3-cp312-cp312-manylinux_2_17_x86_64.manylinux2014_x86_64.whl (26.6 MB)\n",
            "\u001b[2K   \u001b[90m━━━━━━━━━━━━━━━━━━━━━━━━━━━━━━━━━━━━━━━━\u001b[0m \u001b[32m26.6/26.6 MB\u001b[0m \u001b[31m76.1 MB/s\u001b[0m eta \u001b[36m0:00:00\u001b[0m\n",
            "\u001b[?25hDownloading bokeh-3.8.0-py3-none-any.whl (7.2 MB)\n",
            "\u001b[2K   \u001b[90m━━━━━━━━━━━━━━━━━━━━━━━━━━━━━━━━━━━━━━━━\u001b[0m \u001b[32m7.2/7.2 MB\u001b[0m \u001b[31m120.2 MB/s\u001b[0m eta \u001b[36m0:00:00\u001b[0m\n",
            "\u001b[?25hDownloading numpy-1.26.4-cp312-cp312-manylinux_2_17_x86_64.manylinux2014_x86_64.whl (18.0 MB)\n",
            "\u001b[2K   \u001b[90m━━━━━━━━━━━━━━━━━━━━━━━━━━━━━━━━━━━━━━━━\u001b[0m \u001b[32m18.0/18.0 MB\u001b[0m \u001b[31m110.0 MB/s\u001b[0m eta \u001b[36m0:00:00\u001b[0m\n",
            "\u001b[?25hDownloading scipy-1.13.1-cp312-cp312-manylinux_2_17_x86_64.manylinux2014_x86_64.whl (38.2 MB)\n",
            "\u001b[2K   \u001b[90m━━━━━━━━━━━━━━━━━━━━━━━━━━━━━━━━━━━━━━━━\u001b[0m \u001b[32m38.2/38.2 MB\u001b[0m \u001b[31m15.0 MB/s\u001b[0m eta \u001b[36m0:00:00\u001b[0m\n",
            "\u001b[?25hInstalling collected packages: numpy, scipy, gensim, bokeh\n",
            "  Attempting uninstall: numpy\n",
            "    Found existing installation: numpy 2.0.2\n",
            "    Uninstalling numpy-2.0.2:\n",
            "      Successfully uninstalled numpy-2.0.2\n",
            "  Attempting uninstall: scipy\n",
            "    Found existing installation: scipy 1.16.2\n",
            "    Uninstalling scipy-1.16.2:\n",
            "      Successfully uninstalled scipy-1.16.2\n",
            "  Attempting uninstall: bokeh\n",
            "    Found existing installation: bokeh 3.7.3\n",
            "    Uninstalling bokeh-3.7.3:\n",
            "      Successfully uninstalled bokeh-3.7.3\n",
            "\u001b[31mERROR: pip's dependency resolver does not currently take into account all the packages that are installed. This behaviour is the source of the following dependency conflicts.\n",
            "opencv-contrib-python 4.12.0.88 requires numpy<2.3.0,>=2; python_version >= \"3.9\", but you have numpy 1.26.4 which is incompatible.\n",
            "opencv-python-headless 4.12.0.88 requires numpy<2.3.0,>=2; python_version >= \"3.9\", but you have numpy 1.26.4 which is incompatible.\n",
            "thinc 8.3.6 requires numpy<3.0.0,>=2.0.0, but you have numpy 1.26.4 which is incompatible.\n",
            "opencv-python 4.12.0.88 requires numpy<2.3.0,>=2; python_version >= \"3.9\", but you have numpy 1.26.4 which is incompatible.\n",
            "tsfresh 0.21.1 requires scipy>=1.14.0; python_version >= \"3.10\", but you have scipy 1.13.1 which is incompatible.\u001b[0m\u001b[31m\n",
            "\u001b[0mSuccessfully installed bokeh-3.8.0 gensim-4.3.3 numpy-1.26.4 scipy-1.13.1\n"
          ]
        },
        {
          "output_type": "display_data",
          "data": {
            "application/vnd.colab-display-data+json": {
              "pip_warning": {
                "packages": [
                  "numpy"
                ]
              },
              "id": "5fb99c84825d4d6386df6b62ffc38b3d"
            }
          },
          "metadata": {}
        }
      ]
    },
    {
      "cell_type": "code",
      "execution_count": 1,
      "metadata": {
        "collapsed": true,
        "colab": {
          "base_uri": "https://localhost:8080/",
          "height": 0
        },
        "id": "S7SzFNhrrrXJ",
        "outputId": "e47a45a9-06df-4e31-be8c-ed2fd44c1880"
      },
      "outputs": [
        {
          "output_type": "stream",
          "name": "stdout",
          "text": [
            "--2025-09-30 03:38:21--  https://www.dropbox.com/s/obaitrix9jyu84r/quora.txt?dl=1\n",
            "Resolving www.dropbox.com (www.dropbox.com)... 162.125.6.18, 2620:100:601c:18::a27d:612\n",
            "Connecting to www.dropbox.com (www.dropbox.com)|162.125.6.18|:443... connected.\n",
            "HTTP request sent, awaiting response... 302 Found\n",
            "Location: https://www.dropbox.com/scl/fi/p0t2dw6oqs6oxpd6zz534/quora.txt?rlkey=bjupppwua4zmd4elz8octecy9&dl=1 [following]\n",
            "--2025-09-30 03:38:21--  https://www.dropbox.com/scl/fi/p0t2dw6oqs6oxpd6zz534/quora.txt?rlkey=bjupppwua4zmd4elz8octecy9&dl=1\n",
            "Reusing existing connection to www.dropbox.com:443.\n",
            "HTTP request sent, awaiting response... 302 Found\n",
            "Location: https://uc186224e97d53a6153c87a48119.dl.dropboxusercontent.com/cd/0/inline/CyWkuaVHuvrCaCD7Cswor1KHZzW0ZyzFwSgGL7ruxxT3wIAS9OfvTb1NCziiFygfmekz0vkxPttvQeyP178U15Pyd3lppcZ5z81DgC5L-GFvkEOTtiToUyHcOwE3itx6ae4/file?dl=1# [following]\n",
            "--2025-09-30 03:38:21--  https://uc186224e97d53a6153c87a48119.dl.dropboxusercontent.com/cd/0/inline/CyWkuaVHuvrCaCD7Cswor1KHZzW0ZyzFwSgGL7ruxxT3wIAS9OfvTb1NCziiFygfmekz0vkxPttvQeyP178U15Pyd3lppcZ5z81DgC5L-GFvkEOTtiToUyHcOwE3itx6ae4/file?dl=1\n",
            "Resolving uc186224e97d53a6153c87a48119.dl.dropboxusercontent.com (uc186224e97d53a6153c87a48119.dl.dropboxusercontent.com)... 162.125.6.15, 2620:100:601c:15::a27d:60f\n",
            "Connecting to uc186224e97d53a6153c87a48119.dl.dropboxusercontent.com (uc186224e97d53a6153c87a48119.dl.dropboxusercontent.com)|162.125.6.15|:443... connected.\n",
            "HTTP request sent, awaiting response... 200 OK\n",
            "Length: 33813903 (32M) [application/binary]\n",
            "Saving to: ‘./quora.txt’\n",
            "\n",
            "./quora.txt         100%[===================>]  32.25M  --.-KB/s    in 0.1s    \n",
            "\n",
            "2025-09-30 03:38:21 (262 MB/s) - ‘./quora.txt’ saved [33813903/33813903]\n",
            "\n"
          ]
        }
      ],
      "source": [
        "# download the data:\n",
        "!wget https://www.dropbox.com/s/obaitrix9jyu84r/quora.txt?dl=1 -O ./quora.txt\n",
        "# alternative download link: https://yadi.sk/i/BPQrUu1NaTduEw"
      ]
    },
    {
      "cell_type": "code",
      "execution_count": 2,
      "metadata": {
        "scrolled": false,
        "colab": {
          "base_uri": "https://localhost:8080/",
          "height": 36
        },
        "id": "E0v7FWdArrXK",
        "outputId": "caeedcfa-100e-40a3-ed8a-4b74d3fcc818"
      },
      "outputs": [
        {
          "output_type": "execute_result",
          "data": {
            "text/plain": [
              "\"What TV shows or books help you read people's body language?\\n\""
            ],
            "application/vnd.google.colaboratory.intrinsic+json": {
              "type": "string"
            }
          },
          "metadata": {},
          "execution_count": 2
        }
      ],
      "source": [
        "import numpy as np\n",
        "\n",
        "data = list(open(\"./quora.txt\", encoding=\"utf-8\"))\n",
        "data[50]"
      ]
    },
    {
      "cell_type": "markdown",
      "metadata": {
        "id": "PuZfOmMerrXK"
      },
      "source": [
        "__Tokenization:__ a typical first step for an nlp task is to split raw data into words.\n",
        "The text we're working with is in raw format: with all the punctuation and smiles attached to some words, so a simple str.split won't do.\n",
        "\n",
        "Let's use __`nltk`__ - a library that handles many nlp tasks like tokenization, stemming or part-of-speech tagging."
      ]
    },
    {
      "cell_type": "code",
      "execution_count": 3,
      "metadata": {
        "colab": {
          "base_uri": "https://localhost:8080/",
          "height": 0
        },
        "id": "HnmywPOJrrXK",
        "outputId": "5fb96175-455f-438e-d4a7-ac40110c01dd"
      },
      "outputs": [
        {
          "output_type": "stream",
          "name": "stdout",
          "text": [
            "['What', 'TV', 'shows', 'or', 'books', 'help', 'you', 'read', 'people', \"'\", 's', 'body', 'language', '?']\n"
          ]
        }
      ],
      "source": [
        "from nltk.tokenize import WordPunctTokenizer\n",
        "tokenizer = WordPunctTokenizer()\n",
        "\n",
        "print(tokenizer.tokenize(data[50]))"
      ]
    },
    {
      "cell_type": "markdown",
      "source": [
        "### ✅ How it works\n",
        "\n",
        "* It uses a **regular expression** internally:\n",
        "\n",
        "  ```regex\n",
        "  \\w+|[^\\w\\s]+\n",
        "  ```\n",
        "\n",
        "  This means:\n",
        "\n",
        "  * `\\w+` → match words (letters, digits, underscore).\n",
        "  * `[^\\w\\s]+` → match anything that is not a word character or whitespace (i.e., punctuation).\n",
        "\n",
        "So the tokenizer treats punctuation as **separate tokens** instead of attaching them to words.\n",
        "\n",
        "---\n",
        "\n",
        "### 🔹 Example\n",
        "\n",
        "```python\n",
        "from nltk.tokenize import WordPunctTokenizer\n",
        "\n",
        "tokenizer = WordPunctTokenizer()\n",
        "text = \"Hello, world! I'm testing NLTK's tokenizer.\"\n",
        "\n",
        "tokens = tokenizer.tokenize(text)\n",
        "print(tokens)\n",
        "```\n",
        "\n",
        "**Output:**\n",
        "\n",
        "```python\n",
        "['Hello', ',', 'world', '!', 'I', \"'\", 'm', 'testing', 'NLTK', \"'\", 's', 'tokenizer', '.']\n",
        "```\n",
        "\n",
        "Notice:\n",
        "\n",
        "* `\"I'm\"` becomes `[\"I\", \"'\", \"m\"]`.\n",
        "* `\"NLTK's\"` becomes `[\"NLTK\", \"'\", \"s\"]`.\n",
        "* Punctuation like `,` and `!` are **separate tokens**.\n",
        "\n",
        "---\n",
        "\n",
        "### 🔹 When to use\n",
        "\n",
        "* Useful if you want **fine-grained control** over words and punctuation (e.g., training models that need punctuation tokens).\n",
        "* Less useful if you want **whole words only** — in that case, use `nltk.word_tokenize`.\n",
        "\n"
      ],
      "metadata": {
        "id": "TM06XoNQsv58"
      }
    },
    {
      "cell_type": "code",
      "source": [],
      "metadata": {
        "id": "g9ijVwf4su_b"
      },
      "execution_count": null,
      "outputs": []
    },
    {
      "cell_type": "code",
      "execution_count": 4,
      "metadata": {
        "collapsed": true,
        "colab": {
          "base_uri": "https://localhost:8080/",
          "height": 0
        },
        "id": "9yK0J79arrXK",
        "outputId": "1bbd9e51-c70d-423a-a198-d559deaed3f3"
      },
      "outputs": [
        {
          "output_type": "execute_result",
          "data": {
            "text/plain": [
              "[['can',\n",
              "  'i',\n",
              "  'get',\n",
              "  'back',\n",
              "  'with',\n",
              "  'my',\n",
              "  'ex',\n",
              "  'even',\n",
              "  'though',\n",
              "  'she',\n",
              "  'is',\n",
              "  'pregnant',\n",
              "  'with',\n",
              "  'another',\n",
              "  'guy',\n",
              "  \"'\",\n",
              "  's',\n",
              "  'baby',\n",
              "  '?'],\n",
              " ['what',\n",
              "  'are',\n",
              "  'some',\n",
              "  'ways',\n",
              "  'to',\n",
              "  'overcome',\n",
              "  'a',\n",
              "  'fast',\n",
              "  'food',\n",
              "  'addiction',\n",
              "  '?'],\n",
              " ['who',\n",
              "  'were',\n",
              "  'the',\n",
              "  'great',\n",
              "  'chinese',\n",
              "  'soldiers',\n",
              "  'and',\n",
              "  'leaders',\n",
              "  'who',\n",
              "  'fought',\n",
              "  'in',\n",
              "  'ww2',\n",
              "  '?'],\n",
              " ['what', 'are', 'zip', 'codes', 'in', 'the', 'bay', 'area', '?'],\n",
              " ['why',\n",
              "  'was',\n",
              "  'george',\n",
              "  'rr',\n",
              "  'martin',\n",
              "  'critical',\n",
              "  'of',\n",
              "  'jk',\n",
              "  'rowling',\n",
              "  'after',\n",
              "  'losing',\n",
              "  'the',\n",
              "  'hugo',\n",
              "  'award',\n",
              "  '?']]"
            ]
          },
          "metadata": {},
          "execution_count": 4
        }
      ],
      "source": [
        "# TASK: lowercase everything and extract tokens with tokenizer.\n",
        "# data_tok should be a list of lists of tokens for each line in data.\n",
        "\n",
        "data_tok = [tokenizer.tokenize(line.lower()) for line in data]\n",
        "data_tok[:5]"
      ]
    },
    {
      "cell_type": "code",
      "execution_count": 6,
      "metadata": {
        "collapsed": true,
        "id": "_R6S_MANrrXL"
      },
      "outputs": [],
      "source": [
        "# ✅ Check 1: Ensure that each row in data_tok is a list (or tuple) of tokens\n",
        "assert all(isinstance(row, (list, tuple)) for row in data_tok), \\\n",
        "    \"please convert each line into a list of tokens (strings)\"\n",
        "\n",
        "# ✅ Check 2: Ensure that every element inside each row is a string (i.e., tokens are strings)\n",
        "assert all(all(isinstance(tok, str) for tok in row) for row in data_tok), \\\n",
        "    \"please convert each line into a list of tokens (strings)\"\n",
        "\n",
        "# Define a helper function to check if a token is composed entirely of Latin letters\n",
        "is_latin = lambda tok: all('a' <= x.lower() <= 'z' for x in tok)\n",
        "\n",
        "# ✅ Check 3: Ensure all Latin text is lowercased\n",
        "# - Join tokens in each row into a single string\n",
        "# - If it contains only Latin letters, verify that it is lowercase\n",
        "assert all(\n",
        "    map(lambda line: not is_latin(line) or line.islower(), map(' '.join, data_tok))\n",
        "), \"please make sure to lowercase the data\"\n"
      ]
    },
    {
      "cell_type": "code",
      "execution_count": 7,
      "metadata": {
        "colab": {
          "base_uri": "https://localhost:8080/",
          "height": 0
        },
        "id": "2JbjLqj9rrXL",
        "outputId": "b1f62b28-49ec-4c0f-a4f6-cf519f640d42"
      },
      "outputs": [
        {
          "output_type": "stream",
          "name": "stdout",
          "text": [
            "[\"can i get back with my ex even though she is pregnant with another guy ' s baby ?\", 'what are some ways to overcome a fast food addiction ?']\n"
          ]
        }
      ],
      "source": [
        "print([' '.join(row) for row in data_tok[:2]])"
      ]
    },
    {
      "cell_type": "markdown",
      "metadata": {
        "id": "-tOOND-5rrXL"
      },
      "source": [
        "__Word vectors:__ as the saying goes, there's more than one way to train word embeddings. There's Word2Vec and GloVe with different objective functions. Then there's fasttext that uses character-level models to train word embeddings.\n",
        "\n",
        "The choice is huge, so let's start someplace small: __gensim__ is another nlp library that features many vector-based models incuding word2vec."
      ]
    },
    {
      "cell_type": "markdown",
      "source": [
        "# 🔹 Word2Vec Training Process\n",
        "\n",
        "Word2Vec is a **shallow neural network** that learns to predict word-context relationships.\n",
        "There are two main architectures:\n",
        "\n",
        "1. **CBOW (Continuous Bag of Words)**\n",
        "\n",
        "   * Input: a group of context words\n",
        "   * Output: the target word\n",
        "   * Example: for the sentence `\"The cat sat on the mat\"`, if the target is `\"sat\"`, the model uses `[\"the\", \"cat\", \"on\", \"the\"]` to predict `\"sat\"`.\n",
        "\n",
        "2. **Skip-Gram**\n",
        "\n",
        "   * Input: the target word\n",
        "   * Output: predict surrounding context words\n",
        "   * Example: with target `\"sat\"`, the model tries to predict `[\"the\", \"cat\", \"on\", \"the\"]`.\n",
        "\n",
        "👉 In **gensim**, the default is **CBOW** (`sg=0`). You can switch to Skip-Gram with `sg=1`.\n",
        "\n",
        "---\n",
        "\n",
        "# 🔹 Role of the Context Window\n",
        "\n",
        "The **`window` parameter** defines how many words before and after the target word are considered as context.\n",
        "\n",
        "Example sentence:\n",
        "\n",
        "```text\n",
        "\"The cat sat on the mat\"\n",
        "```\n",
        "\n",
        "If:\n",
        "\n",
        "* `window=2`\n",
        "* Target word = `\"sat\"`\n",
        "\n",
        "Then context = `[ \"the\", \"cat\", \"on\", \"the\" ]` (2 before, 2 after).\n",
        "\n",
        "---\n",
        "\n",
        "### Intuition:\n",
        "\n",
        "* **Small window (e.g., 2–5)** → captures **syntactic/functional similarity** (words that occur in similar grammatical roles).\n",
        "\n",
        "  * `\"run\"` and `\"walk\"` may be close because they often occur in the same short-range contexts.\n",
        "* **Large window (e.g., 10)** → captures **semantic similarity** (words about similar topics).\n",
        "\n",
        "  * `\"doctor\"` and `\"hospital\"` may be close, even if they aren’t side-by-side.\n",
        "\n",
        "---\n",
        "\n",
        "# 🔹 Optimization Objective\n",
        "\n",
        "Word2Vec learns embeddings by maximizing the probability of predicting the right context words.\n",
        "The probability of a context word given a target word is defined using **softmax**:\n",
        "\n",
        "## Skip-gram Softmax Probability\n",
        "\n",
        "![image.png](data:image/png;base64,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)\n",
        "Since computing the denominator for all words is expensive, Word2Vec uses:\n",
        "\n",
        "* **Negative Sampling** (default in gensim)\n",
        "* Or **Hierarchical Softmax** (optional)\n",
        "\n",
        "---\n",
        "\n",
        "# 🔹 In gensim\n",
        "\n",
        "When you train:\n",
        "\n",
        "```python\n",
        "model = Word2Vec(\n",
        "    sentences=data_tok,\n",
        "    vector_size=32,\n",
        "    window=5,     # context window\n",
        "    min_count=5,\n",
        "    sg=1          # use skip-gram (set to 0 for CBOW)\n",
        ")\n",
        "```\n",
        "\n",
        "* Each training step picks a **target word**.\n",
        "* Collects `window` words on each side as **positive context pairs**.\n",
        "* Also generates random **negative samples** (words unlikely to be in context).\n",
        "* Updates embeddings so positive pairs are closer and negative pairs are farther.\n",
        "\n",
        "---\n",
        "\n",
        "# 🔹 Example in practice\n",
        "\n",
        "If your sentence is:\n",
        "\n",
        "```text\n",
        "\"I enjoy drinking hot coffee every morning\"\n",
        "```\n",
        "\n",
        "With `window=2`, and `sg=1` (skip-gram):\n",
        "\n",
        "* Target = `\"drinking\"`\n",
        "* Context pairs = `[(\"drinking\", \"I\"), (\"drinking\", \"enjoy\"), (\"drinking\", \"hot\"), (\"drinking\", \"coffee\")]`\n",
        "* Plus negative samples like `(\"drinking\", \"car\")`, `(\"drinking\", \"banana\")`\n",
        "\n",
        "The model learns:\n",
        "\n",
        "* `\"drinking\"` is close to `\"coffee\"`, `\"tea\"`, `\"beverage\"` in vector space.\n",
        "\n",
        "---\n",
        "\n",
        "✅ In short:\n",
        "\n",
        "* The **context window** decides how much \"neighborhood\" the model considers.\n",
        "* **Training** nudges vectors so that words appearing in similar contexts end up close together in embedding space.\n"
      ],
      "metadata": {
        "id": "PZNKPAQCwqzK"
      }
    },
    {
      "cell_type": "markdown",
      "source": [
        "# 🔹 Classical Word2Vec (theory)\n",
        "\n",
        "* In the **original papers**, the input word is represented as a **one-hot vector** of length = vocabulary size.\n",
        "* If vocab size (V = 100{,}000), that vector would look like:\n",
        "  `[0, 0, 0, ... 1 ... 0, 0]` (100k elements, mostly zeros).\n",
        "* Multiplying this one-hot by the weight matrix (W \\in \\mathbb{R}^{V \\times N}) simply **selects one row** (the embedding of that word).\n",
        "\n",
        "👉 But storing and multiplying full one-hot vectors would be **hugely wasteful**.\n",
        "\n",
        "---\n",
        "\n",
        "# 🔹 What gensim does in practice\n",
        "\n",
        "* Instead of actually creating one-hot vectors, gensim uses the **word’s integer index** (its ID in the vocabulary).\n",
        "* Example:\n",
        "\n",
        "  * `\"cat\"` = index 512\n",
        "  * `\"dog\"` = index 1337\n",
        "* Then gensim just **looks up row 512 of (W)**, instead of multiplying a giant one-hot.\n",
        "\n",
        "So:\n",
        "\n",
        "* **One-hot vectors are conceptual only**.\n",
        "* In reality, gensim keeps:\n",
        "\n",
        "  * An **embedding matrix (W)** (shape (V \\times N))\n",
        "  * A **vocabulary dictionary** mapping word → index\n",
        "\n",
        "When training, gensim:\n",
        "\n",
        "1. Finds the integer index of the word (via vocab dict).\n",
        "2. Directly fetches the corresponding row from the embedding matrix.\n",
        "\n",
        "---\n",
        "\n",
        "# 🔹 Where things are stored\n",
        "\n",
        "* Vocabulary mapping: `model.wv.key_to_index` (word → index)\n",
        "* Embedding matrix: `model.wv.vectors` (NumPy array, shape `[V, N]`)\n",
        "\n",
        "Example:\n",
        "\n",
        "```python\n",
        "print(model.wv.key_to_index[\"dog\"])   # e.g. 1337\n",
        "print(model.wv.vectors.shape)         # (V, 32)\n",
        "print(model.wv[\"dog\"].shape)          # (32,) → embedding of \"dog\"\n",
        "```\n",
        "\n",
        "---\n",
        "\n",
        "✅ So to answer you directly:\n",
        "\n",
        "* **One-hot vectors are never stored** (they are just an idea for how the math works).\n",
        "* Gensim replaces them with **efficient integer indexing** into the embedding matrix.\n"
      ],
      "metadata": {
        "id": "XUIivZ1o38wE"
      }
    },
    {
      "cell_type": "code",
      "source": [],
      "metadata": {
        "id": "qVTzYfzU4Hvl"
      },
      "execution_count": null,
      "outputs": []
    },
    {
      "cell_type": "code",
      "execution_count": 9,
      "metadata": {
        "collapsed": true,
        "id": "3c0oEEb3rrXL"
      },
      "outputs": [],
      "source": [
        "from gensim.models import Word2Vec\n",
        "\n",
        "# Train Word2Vec model\n",
        "model = Word2Vec(\n",
        "    sentences=data_tok,   # your tokenized sentences\n",
        "    vector_size=32,       # embedding vector size\n",
        "    window=5,             # context window size\n",
        "    min_count=5,          # ignore words with total frequency < 5\n",
        "    workers=4             # parallelization (set based on CPU cores)\n",
        ")\n",
        "\n",
        "# Access the KeyedVectors (word vectors)\n",
        "wv = model.wv\n"
      ]
    },
    {
      "cell_type": "code",
      "execution_count": 11,
      "metadata": {
        "colab": {
          "base_uri": "https://localhost:8080/",
          "height": 0
        },
        "id": "U5noR_pyrrXM",
        "outputId": "b4d61d25-2bbe-4947-d8a8-10c10b8ad390"
      },
      "outputs": [
        {
          "output_type": "execute_result",
          "data": {
            "text/plain": [
              "array([-2.0423462e+00, -2.0054679e+00, -1.4333248e-01, -7.4365938e-01,\n",
              "       -1.1975869e+00, -1.5953760e+00,  2.2534728e+00,  4.5905414e-01,\n",
              "        6.1650330e-01,  5.6228459e-01, -7.2874767e-03, -3.8930950e-01,\n",
              "        7.4759072e-01,  1.6197788e+00,  4.9388221e-01,  4.0008952e-03,\n",
              "        4.0123084e-01, -3.4540956e+00, -4.1496201e+00, -8.3979434e-01,\n",
              "       -9.5983362e-01,  1.1993283e+00, -3.5154718e-01, -1.8843369e+00,\n",
              "        1.5084225e+00,  4.9478003e-01, -1.0617627e-01, -1.1786098e+00,\n",
              "        1.3009177e+00,  7.8300214e-01, -9.7595036e-01,  1.6359425e+00],\n",
              "      dtype=float32)"
            ]
          },
          "metadata": {},
          "execution_count": 11
        }
      ],
      "source": [
        "# now you can get word vectors !\n",
        "wv['coffee']"
      ]
    },
    {
      "cell_type": "code",
      "execution_count": 13,
      "metadata": {
        "colab": {
          "base_uri": "https://localhost:8080/",
          "height": 0
        },
        "id": "4qXRC5M1rrXM",
        "outputId": "822259d1-f134-43b3-f589-2e2fbccbd855"
      },
      "outputs": [
        {
          "output_type": "execute_result",
          "data": {
            "text/plain": [
              "[('rice', 0.9530182480812073),\n",
              " ('soup', 0.9298695921897888),\n",
              " ('sauce', 0.9286038875579834),\n",
              " ('cheese', 0.9179543852806091),\n",
              " ('chocolate', 0.915020227432251),\n",
              " ('corn', 0.9141954183578491),\n",
              " ('butter', 0.9092555642127991),\n",
              " ('fruit', 0.9048038721084595),\n",
              " ('beans', 0.9030898809432983),\n",
              " ('chicken', 0.9018431901931763)]"
            ]
          },
          "metadata": {},
          "execution_count": 13
        }
      ],
      "source": [
        "# or query similar words directly. Go play with it!\n",
        "wv.most_similar('bread')"
      ]
    },
    {
      "cell_type": "markdown",
      "metadata": {
        "id": "UOyoX71srrXM"
      },
      "source": [
        "### Using pre-trained model\n",
        "\n",
        "Took it a while, huh? Now imagine training life-sized (100~300D) word embeddings on gigabytes of text: wikipedia articles or twitter posts.\n",
        "\n",
        "Thankfully, nowadays you can get a pre-trained word embedding model in 2 lines of code (no sms required, promise)."
      ]
    },
    {
      "cell_type": "code",
      "execution_count": 14,
      "metadata": {
        "collapsed": true,
        "colab": {
          "base_uri": "https://localhost:8080/",
          "height": 0
        },
        "id": "W9KEI4H0rrXM",
        "outputId": "991e5436-a07c-420f-e805-2dd56778a642"
      },
      "outputs": [
        {
          "output_type": "stream",
          "name": "stdout",
          "text": [
            "[==================================================] 100.0% 387.1/387.1MB downloaded\n"
          ]
        }
      ],
      "source": [
        "import gensim.downloader as api\n",
        "model = api.load('glove-twitter-100')"
      ]
    },
    {
      "cell_type": "markdown",
      "source": [
        "Nice 🎯 — you’re now stepping into how to **query semantic relationships** from your trained Word2Vec model. Let’s break down exactly what\n",
        "\n",
        "```python\n",
        "model.most_similar(positive=[\"coder\", \"money\"], negative=[\"brain\"])\n",
        "```\n",
        "\n",
        "does:\n",
        "\n",
        "---\n",
        "\n",
        "# 🔹 1. Vector arithmetic\n",
        "\n",
        "* Each word has an embedding vector, e.g.\n",
        "\n",
        "  * (v_{\\text{coder}})\n",
        "  * (v_{\\text{money}})\n",
        "  * (v_{\\text{brain}})\n",
        "\n",
        "* Gensim computes:\n",
        "\n",
        "[\n",
        "v_{\\text{query}} = v_{\\text{coder}} + v_{\\text{money}} - v_{\\text{brain}}\n",
        "]\n",
        "\n",
        "This is the \"analogy vector\".\n",
        "\n",
        "---\n",
        "\n",
        "# 🔹 2. Similarity search\n",
        "\n",
        "* Then it finds the **most similar words** (by cosine similarity) to this new vector (v_{\\text{query}}).\n",
        "\n",
        "---\n",
        "\n",
        "# 🔹 3. Result\n",
        "\n",
        "The output will be a **list of tuples** like:\n",
        "\n",
        "```python\n",
        "[(\"developer\", 0.72), (\"startup\", 0.68), (\"salary\", 0.65), ...]\n",
        "```\n",
        "\n",
        "* Each entry = `(word, similarity_score)`\n",
        "* The words are ranked by how close their embeddings are to the computed query vector.\n",
        "\n",
        "---\n",
        "\n",
        "# 🔹 4. Intuition\n",
        "\n",
        "You’re basically asking:\n",
        "\n",
        "> *\"Which word is to `coder` and `money` as something else is to `brain`?\"*\n",
        "\n",
        "Or rephrased:\n",
        "\n",
        "> *\"What concept do I get if I combine coder + money but remove brain?\"*\n",
        "\n",
        "---\n",
        "\n",
        "⚡ This is the same trick behind famous analogies like:\n",
        "\n",
        "```python\n",
        "model.most_similar(positive=[\"king\", \"woman\"], negative=[\"man\"])\n",
        "# → [('queen', 0.73), ...]\n",
        "```\n",
        "\n",
        "---\n",
        "\n",
        "Would you like me to also show you **how to visualize this vector arithmetic** (e.g., plotting coder, money, brain, and the result on a 2D PCA plot)? That way you’d literally see how the subtraction/addition moves the vectors.\n"
      ],
      "metadata": {
        "id": "1wb04SoX54Z_"
      }
    },
    {
      "cell_type": "code",
      "execution_count": 15,
      "metadata": {
        "colab": {
          "base_uri": "https://localhost:8080/",
          "height": 0
        },
        "id": "CtDX8Fs_rrXM",
        "outputId": "5b63fc09-c200-4061-a0de-4d687ff86b36"
      },
      "outputs": [
        {
          "output_type": "execute_result",
          "data": {
            "text/plain": [
              "[('broker', 0.5820155739784241),\n",
              " ('bonuses', 0.5424473285675049),\n",
              " ('banker', 0.5385112762451172),\n",
              " ('designer', 0.5197198390960693),\n",
              " ('merchandising', 0.4964233338832855),\n",
              " ('treet', 0.4922019839286804),\n",
              " ('shopper', 0.4920562207698822),\n",
              " ('part-time', 0.4912828207015991),\n",
              " ('freelance', 0.4843311905860901),\n",
              " ('aupair', 0.4796452522277832)]"
            ]
          },
          "metadata": {},
          "execution_count": 15
        }
      ],
      "source": [
        "model.most_similar(positive=[\"coder\", \"money\"], negative=[\"brain\"])"
      ]
    },
    {
      "cell_type": "markdown",
      "metadata": {
        "id": "En3LNUscrrXM"
      },
      "source": [
        "### Visualizing word vectors\n",
        "\n",
        "One way to see if our vectors are any good is to plot them. Thing is, those vectors are in 30D+ space and we humans are more used to 2-3D.\n",
        "\n",
        "Luckily, we machine learners know about __dimensionality reduction__ methods.\n",
        "\n",
        "Let's use that to plot 1000 most frequent words"
      ]
    },
    {
      "cell_type": "code",
      "execution_count": 21,
      "metadata": {
        "colab": {
          "base_uri": "https://localhost:8080/",
          "height": 0
        },
        "id": "0_KnQovbrrXM",
        "outputId": "79023c60-a233-4aec-a72c-c9522a2b1b5f"
      },
      "outputs": [
        {
          "output_type": "stream",
          "name": "stdout",
          "text": [
            "['<user>', '_', 'please', 'apa', 'justin', 'text', 'hari', 'playing', 'once', 'sei']\n"
          ]
        }
      ],
      "source": [
        "# Get the top 1000 most frequent words from the model's vocabulary\n",
        "\n",
        "# Step 1: Sort all words in the vocabulary\n",
        "words = sorted(\n",
        "    model.key_to_index.keys(),             # all words in the vocabulary\n",
        "    key=lambda word: model.get_vecattr(word, \"count\"),  # sort by how many times the word appeared in training\n",
        "    reverse=True                           # sort in descending order (most frequent first)\n",
        ")[:1000]                                   # take only the top 1000 words\n",
        "\n",
        "# Step 2: Print every 100th word (0th, 100th, 200th, ..., 900th)\n",
        "print(words[::100])\n",
        "\n",
        "\n"
      ]
    },
    {
      "cell_type": "code",
      "source": [
        "print(words[:5])"
      ],
      "metadata": {
        "colab": {
          "base_uri": "https://localhost:8080/",
          "height": 0
        },
        "id": "upfPuNs17cue",
        "outputId": "c566fa8c-b19b-4727-f634-f3890b60da23"
      },
      "execution_count": 22,
      "outputs": [
        {
          "output_type": "stream",
          "name": "stdout",
          "text": [
            "['<user>', '.', ':', 'rt', ',']\n"
          ]
        }
      ]
    },
    {
      "cell_type": "code",
      "source": [],
      "metadata": {
        "id": "PYsf7dtR7wyW"
      },
      "execution_count": null,
      "outputs": []
    },
    {
      "cell_type": "markdown",
      "source": [
        "\n",
        "```python\n",
        "# For each word in the vocabulary, get its vector representation\n",
        "word_vectors = {word: model[word] for word in model.key_to_index.keys()}\n",
        "\n",
        "# Example: print the vector of the word \"king\"\n",
        "print(word_vectors[\"king\"])\n",
        "```\n",
        "\n",
        "### Explanation:\n",
        "\n",
        "* `model[word]` → returns the embedding vector (a NumPy array) of that word.\n",
        "* `model.key_to_index.keys()` → iterates through all words in the vocabulary.\n",
        "* The dictionary comprehension `{word: model[word] for word in ...}` → builds a dictionary mapping each word to its vector.\n",
        "\n",
        "⚡ If you want *just the vectors* (without word keys), you can also do:\n",
        "\n",
        "```python\n",
        "word_vectors = model.vectors  # a NumPy array of shape (vocab_size, embedding_dim)\n",
        "```\n"
      ],
      "metadata": {
        "id": "N43nuOFl7xSk"
      }
    },
    {
      "cell_type": "code",
      "execution_count": 26,
      "metadata": {
        "id": "74WFBMK7rrXM"
      },
      "outputs": [],
      "source": [
        "# For each word in the vocabulary, get its vector representation\n",
        "word_vectors = np.array([model[word] for word in words])"
      ]
    },
    {
      "cell_type": "code",
      "execution_count": 27,
      "metadata": {
        "collapsed": true,
        "id": "hk2E-7W2rrXM"
      },
      "outputs": [],
      "source": [
        "assert isinstance(word_vectors, np.ndarray)\n",
        "assert word_vectors.shape == (len(words), 100)\n",
        "assert np.isfinite(word_vectors).all()"
      ]
    },
    {
      "cell_type": "markdown",
      "metadata": {
        "id": "XSKgj3i0rrXM"
      },
      "source": [
        "#### Linear projection: PCA\n",
        "\n",
        "The simplest linear dimensionality reduction method is __P__rincipial __C__omponent __A__nalysis.\n",
        "\n",
        "In geometric terms, PCA tries to find axes along which most of the variance occurs. The \"natural\" axes, if you wish.\n",
        "\n",
        "<img src=\"https://github.com/yandexdataschool/Practical_RL/raw/master/yet_another_week/_resource/pca_fish.png\" style=\"width:30%\">\n",
        "\n",
        "\n",
        "Under the hood, it attempts to decompose object-feature matrix $X$ into two smaller matrices: $W$ and $\\hat W$ minimizing _mean squared error_:\n",
        "\n",
        "$$\\|(X W) \\hat{W} - X\\|^2_2 \\to_{W, \\hat{W}} \\min$$\n",
        "- $X \\in \\mathbb{R}^{n \\times m}$ - object matrix (**centered**);\n",
        "- $W \\in \\mathbb{R}^{m \\times d}$ - matrix of direct transformation;\n",
        "- $\\hat{W} \\in \\mathbb{R}^{d \\times m}$ - matrix of reverse transformation;\n",
        "- $n$ samples, $m$ original dimensions and $d$ target dimensions;\n",
        "\n"
      ]
    },
    {
      "cell_type": "markdown",
      "source": [
        "### 1. What PCA does\n",
        "\n",
        "* Word embeddings usually have **high dimensionality** (e.g., 100, 300, 768 dimensions).\n",
        "* To **visualize** them on a 2D plane (scatter plot), we need to **reduce their dimensionality**.\n",
        "* **PCA** is a mathematical technique that projects data into a lower-dimensional space while keeping as much variance (information) as possible.\n",
        "\n",
        "---\n",
        "\n",
        "### 2. How PCA works (intuitively)\n",
        "\n",
        "* Imagine your data points are clouds of dots in 100D space.\n",
        "* PCA finds **new axes (principal components)** such that:\n",
        "\n",
        "  * The **first axis (PC1)** captures the most variance in the data.\n",
        "  * The **second axis (PC2)** captures the next most variance, orthogonal to PC1.\n",
        "* By keeping only the first 2 axes, you can **plot words in 2D** and still see meaningful relationships.\n",
        "\n",
        "---\n",
        "\n",
        "### 3. Why normalize after PCA\n",
        "\n",
        "* After PCA, the projected vectors can have arbitrary scale and offset.\n",
        "* Normalizing to **zero mean and unit variance** ensures that:\n",
        "\n",
        "  * No axis dominates the visualization due to scaling.\n",
        "  * The scatter plot is centered and comparable across different runs.\n"
      ],
      "metadata": {
        "id": "Z-n5n0B5CJo_"
      }
    },
    {
      "cell_type": "code",
      "execution_count": 28,
      "metadata": {
        "collapsed": true,
        "colab": {
          "base_uri": "https://localhost:8080/",
          "height": 0
        },
        "id": "P5m6XpIjrrXN",
        "outputId": "08e822d3-6ed4-469f-d13f-907c078908ce"
      },
      "outputs": [
        {
          "output_type": "stream",
          "name": "stdout",
          "text": [
            "Word vectors after PCA: (1000, 2)\n",
            "Mean (should be ~0): [-2.7477741e-08  6.0945751e-09]\n",
            "Std (should be ~1): [1.0000004 1.       ]\n"
          ]
        }
      ],
      "source": [
        "from sklearn.decomposition import PCA\n",
        "from sklearn.preprocessing import StandardScaler\n",
        "\n",
        "# Step 1: Reduce to 2D with PCA\n",
        "pca = PCA(n_components=2)\n",
        "word_vectors_pca = pca.fit_transform(word_vectors)\n",
        "\n",
        "# Step 2: Normalize (zero mean, unit variance)\n",
        "scaler = StandardScaler()\n",
        "word_vectors_pca = scaler.fit_transform(word_vectors_pca)\n",
        "\n",
        "print(\"Word vectors after PCA:\", word_vectors_pca.shape)\n",
        "print(\"Mean (should be ~0):\", word_vectors_pca.mean(axis=0))\n",
        "print(\"Std (should be ~1):\", word_vectors_pca.std(axis=0))\n"
      ]
    },
    {
      "cell_type": "code",
      "execution_count": 29,
      "metadata": {
        "collapsed": true,
        "id": "CyVj2S0orrXN"
      },
      "outputs": [],
      "source": [
        "assert word_vectors_pca.shape == (len(word_vectors), 2), \"there must be a 2d vector for each word\"\n",
        "assert max(abs(word_vectors_pca.mean(0))) < 1e-5, \"points must be zero-centered\"\n",
        "assert max(abs(1.0 - word_vectors_pca.std(0))) < 1e-2, \"points must have unit variance\""
      ]
    },
    {
      "cell_type": "markdown",
      "metadata": {
        "id": "kEZIH_YurrXN"
      },
      "source": [
        "#### Let's draw it!"
      ]
    },
    {
      "cell_type": "code",
      "execution_count": 32,
      "metadata": {
        "id": "zzeGjclUrrXN"
      },
      "outputs": [],
      "source": [
        "import bokeh.models as bm, bokeh.plotting as pl\n",
        "from bokeh.io import output_notebook\n",
        "\n",
        "# Make sure Bokeh outputs plots directly inside the notebook\n",
        "output_notebook()\n",
        "\n",
        "def draw_vectors(x, y, radius=10, alpha=0.25, color='blue',\n",
        "                 width=600, height=400, show=True, **kwargs):\n",
        "    \"\"\"\n",
        "    Draws an interactive scatter plot for word vectors (or any 2D data).\n",
        "    Includes hover info for extra metadata (like word labels).\n",
        "\n",
        "    Parameters:\n",
        "    - x, y: coordinates of points (e.g., PCA-reduced embeddings)\n",
        "    - radius: point size\n",
        "    - alpha: transparency\n",
        "    - color: point color (single string or list of colors)\n",
        "    - width, height: figure size\n",
        "    - show: whether to display the plot immediately\n",
        "    - **kwargs: additional metadata to display on hover (e.g., words)\n",
        "    \"\"\"\n",
        "\n",
        "    # If a single color is given (e.g., \"blue\"), broadcast it to all points\n",
        "    if isinstance(color, str):\n",
        "        color = [color] * len(x)\n",
        "\n",
        "    # Create a Bokeh ColumnDataSource to store data for plotting\n",
        "    # This ties together x, y, color, and any extra info for hover display\n",
        "    data_source = bm.ColumnDataSource({\n",
        "        'x' : x,\n",
        "        'y' : y,\n",
        "        'color': color,\n",
        "        **kwargs\n",
        "    })\n",
        "\n",
        "    # Create a figure with zoom enabled via mouse wheel\n",
        "    fig = pl.figure(active_scroll='wheel_zoom', width=width, height=height)\n",
        "\n",
        "    # Add scatter points to the figure\n",
        "    fig.scatter('x', 'y', size=radius, color='color', alpha=alpha, source=data_source)\n",
        "\n",
        "    # Add hover tooltips: show metadata (from kwargs) when hovering over points\n",
        "    fig.add_tools(bm.HoverTool(tooltips=[(key, \"@\" + key) for key in kwargs.keys()]))\n",
        "\n",
        "    # Show the plot if requested\n",
        "    if show:\n",
        "        pl.show(fig)\n",
        "\n",
        "    # Return the figure object (so you can reuse or modify later)\n",
        "    return fig\n"
      ]
    },
    {
      "cell_type": "code",
      "execution_count": 33,
      "metadata": {
        "colab": {
          "base_uri": "https://localhost:8080/",
          "height": 434
        },
        "id": "LeC4xbxRrrXN",
        "outputId": "82a76ec0-8aa5-4da9-e38d-54527d985376"
      },
      "outputs": [
        {
          "output_type": "display_data",
          "data": {
            "application/javascript": [
              "'use strict';\n",
              "(function(root) {\n",
              "  function now() {\n",
              "    return new Date();\n",
              "  }\n",
              "\n",
              "  const force = true;\n",
              "\n",
              "  if (typeof root._bokeh_onload_callbacks === \"undefined\" || force === true) {\n",
              "    root._bokeh_onload_callbacks = [];\n",
              "    root._bokeh_is_loading = undefined;\n",
              "  }\n",
              "\n",
              "const JS_MIME_TYPE = 'application/javascript';\n",
              "  const HTML_MIME_TYPE = 'text/html';\n",
              "  const EXEC_MIME_TYPE = 'application/vnd.bokehjs_exec.v0+json';\n",
              "  const CLASS_NAME = 'output_bokeh rendered_html';\n",
              "\n",
              "  /**\n",
              "   * Render data to the DOM node\n",
              "   */\n",
              "  function render(props, node) {\n",
              "    const script = document.createElement(\"script\");\n",
              "    node.appendChild(script);\n",
              "  }\n",
              "\n",
              "  /**\n",
              "   * Handle when an output is cleared or removed\n",
              "   */\n",
              "  function handleClearOutput(event, handle) {\n",
              "    function drop(id) {\n",
              "      const view = Bokeh.index.get_by_id(id)\n",
              "      if (view != null) {\n",
              "        view.model.document.clear()\n",
              "        Bokeh.index.delete(view)\n",
              "      }\n",
              "    }\n",
              "\n",
              "    const cell = handle.cell;\n",
              "\n",
              "    const id = cell.output_area._bokeh_element_id;\n",
              "    const server_id = cell.output_area._bokeh_server_id;\n",
              "\n",
              "    // Clean up Bokeh references\n",
              "    if (id != null) {\n",
              "      drop(id)\n",
              "    }\n",
              "\n",
              "    if (server_id !== undefined) {\n",
              "      // Clean up Bokeh references\n",
              "      const cmd_clean = \"from bokeh.io.state import curstate; print(curstate().uuid_to_server['\" + server_id + \"'].get_sessions()[0].document.roots[0]._id)\";\n",
              "      cell.notebook.kernel.execute(cmd_clean, {\n",
              "        iopub: {\n",
              "          output: function(msg) {\n",
              "            const id = msg.content.text.trim()\n",
              "            drop(id)\n",
              "          }\n",
              "        }\n",
              "      });\n",
              "      // Destroy server and session\n",
              "      const cmd_destroy = \"import bokeh.io.notebook as ion; ion.destroy_server('\" + server_id + \"')\";\n",
              "      cell.notebook.kernel.execute(cmd_destroy);\n",
              "    }\n",
              "  }\n",
              "\n",
              "  /**\n",
              "   * Handle when a new output is added\n",
              "   */\n",
              "  function handleAddOutput(event, handle) {\n",
              "    const output_area = handle.output_area;\n",
              "    const output = handle.output;\n",
              "\n",
              "    // limit handleAddOutput to display_data with EXEC_MIME_TYPE content only\n",
              "    if ((output.output_type != \"display_data\") || (!Object.prototype.hasOwnProperty.call(output.data, EXEC_MIME_TYPE))) {\n",
              "      return\n",
              "    }\n",
              "\n",
              "    const toinsert = output_area.element.find(\".\" + CLASS_NAME.split(' ')[0]);\n",
              "\n",
              "    if (output.metadata[EXEC_MIME_TYPE][\"id\"] !== undefined) {\n",
              "      toinsert[toinsert.length - 1].firstChild.textContent = output.data[JS_MIME_TYPE];\n",
              "      // store reference to embed id on output_area\n",
              "      output_area._bokeh_element_id = output.metadata[EXEC_MIME_TYPE][\"id\"];\n",
              "    }\n",
              "    if (output.metadata[EXEC_MIME_TYPE][\"server_id\"] !== undefined) {\n",
              "      const bk_div = document.createElement(\"div\");\n",
              "      bk_div.innerHTML = output.data[HTML_MIME_TYPE];\n",
              "      const script_attrs = bk_div.children[0].attributes;\n",
              "      for (let i = 0; i < script_attrs.length; i++) {\n",
              "        toinsert[toinsert.length - 1].firstChild.setAttribute(script_attrs[i].name, script_attrs[i].value);\n",
              "        toinsert[toinsert.length - 1].firstChild.textContent = bk_div.children[0].textContent\n",
              "      }\n",
              "      // store reference to server id on output_area\n",
              "      output_area._bokeh_server_id = output.metadata[EXEC_MIME_TYPE][\"server_id\"];\n",
              "    }\n",
              "  }\n",
              "\n",
              "  function register_renderer(events, OutputArea) {\n",
              "\n",
              "    function append_mime(data, metadata, element) {\n",
              "      // create a DOM node to render to\n",
              "      const toinsert = this.create_output_subarea(\n",
              "        metadata,\n",
              "        CLASS_NAME,\n",
              "        EXEC_MIME_TYPE\n",
              "      );\n",
              "      this.keyboard_manager.register_events(toinsert);\n",
              "      // Render to node\n",
              "      const props = {data: data, metadata: metadata[EXEC_MIME_TYPE]};\n",
              "      render(props, toinsert[toinsert.length - 1]);\n",
              "      element.append(toinsert);\n",
              "      return toinsert\n",
              "    }\n",
              "\n",
              "    /* Handle when an output is cleared or removed */\n",
              "    events.on('clear_output.CodeCell', handleClearOutput);\n",
              "    events.on('delete.Cell', handleClearOutput);\n",
              "\n",
              "    /* Handle when a new output is added */\n",
              "    events.on('output_added.OutputArea', handleAddOutput);\n",
              "\n",
              "    /**\n",
              "     * Register the mime type and append_mime function with output_area\n",
              "     */\n",
              "    OutputArea.prototype.register_mime_type(EXEC_MIME_TYPE, append_mime, {\n",
              "      /* Is output safe? */\n",
              "      safe: true,\n",
              "      /* Index of renderer in `output_area.display_order` */\n",
              "      index: 0\n",
              "    });\n",
              "  }\n",
              "\n",
              "  // register the mime type if in Jupyter Notebook environment and previously unregistered\n",
              "  if (root.Jupyter !== undefined) {\n",
              "    const events = require('base/js/events');\n",
              "    const OutputArea = require('notebook/js/outputarea').OutputArea;\n",
              "\n",
              "    if (OutputArea.prototype.mime_types().indexOf(EXEC_MIME_TYPE) == -1) {\n",
              "      register_renderer(events, OutputArea);\n",
              "    }\n",
              "  }\n",
              "  if (typeof (root._bokeh_timeout) === \"undefined\" || force === true) {\n",
              "    root._bokeh_timeout = Date.now() + 5000;\n",
              "    root._bokeh_failed_load = false;\n",
              "  }\n",
              "\n",
              "  const NB_LOAD_WARNING = {'data': {'text/html':\n",
              "     \"<div style='background-color: #fdd'>\\n\"+\n",
              "     \"<p>\\n\"+\n",
              "     \"BokehJS does not appear to have successfully loaded. If loading BokehJS from CDN, this \\n\"+\n",
              "     \"may be due to a slow or bad network connection. Possible fixes:\\n\"+\n",
              "     \"</p>\\n\"+\n",
              "     \"<ul>\\n\"+\n",
              "     \"<li>re-rerun `output_notebook()` to attempt to load from CDN again, or</li>\\n\"+\n",
              "     \"<li>use INLINE resources instead, as so:</li>\\n\"+\n",
              "     \"</ul>\\n\"+\n",
              "     \"<code>\\n\"+\n",
              "     \"from bokeh.resources import INLINE\\n\"+\n",
              "     \"output_notebook(resources=INLINE)\\n\"+\n",
              "     \"</code>\\n\"+\n",
              "     \"</div>\"}};\n",
              "\n",
              "  function display_loaded(error = null) {\n",
              "    const el = document.getElementById(null);\n",
              "    if (el != null) {\n",
              "      const html = (() => {\n",
              "        if (typeof root.Bokeh === \"undefined\") {\n",
              "          if (error == null) {\n",
              "            return \"BokehJS is loading ...\";\n",
              "          } else {\n",
              "            return \"BokehJS failed to load.\";\n",
              "          }\n",
              "        } else {\n",
              "          const prefix = `BokehJS ${root.Bokeh.version}`;\n",
              "          if (error == null) {\n",
              "            return `${prefix} successfully loaded.`;\n",
              "          } else {\n",
              "            return `${prefix} <b>encountered errors</b> while loading and may not function as expected.`;\n",
              "          }\n",
              "        }\n",
              "      })();\n",
              "      el.innerHTML = html;\n",
              "\n",
              "      if (error != null) {\n",
              "        const wrapper = document.createElement(\"div\");\n",
              "        wrapper.style.overflow = \"auto\";\n",
              "        wrapper.style.height = \"5em\";\n",
              "        wrapper.style.resize = \"vertical\";\n",
              "        const content = document.createElement(\"div\");\n",
              "        content.style.fontFamily = \"monospace\";\n",
              "        content.style.whiteSpace = \"pre-wrap\";\n",
              "        content.style.backgroundColor = \"rgb(255, 221, 221)\";\n",
              "        content.textContent = error.stack ?? error.toString();\n",
              "        wrapper.append(content);\n",
              "        el.append(wrapper);\n",
              "      }\n",
              "    } else if (Date.now() < root._bokeh_timeout) {\n",
              "      setTimeout(() => display_loaded(error), 100);\n",
              "    }\n",
              "  }\n",
              "\n",
              "  function run_callbacks() {\n",
              "    try {\n",
              "      root._bokeh_onload_callbacks.forEach(function(callback) {\n",
              "        if (callback != null)\n",
              "          callback();\n",
              "      });\n",
              "    } finally {\n",
              "      delete root._bokeh_onload_callbacks\n",
              "    }\n",
              "    console.debug(\"Bokeh: all callbacks have finished\");\n",
              "  }\n",
              "\n",
              "  function load_libs(css_urls, js_urls, callback) {\n",
              "    if (css_urls == null) css_urls = [];\n",
              "    if (js_urls == null) js_urls = [];\n",
              "\n",
              "    root._bokeh_onload_callbacks.push(callback);\n",
              "    if (root._bokeh_is_loading > 0) {\n",
              "      console.debug(\"Bokeh: BokehJS is being loaded, scheduling callback at\", now());\n",
              "      return null;\n",
              "    }\n",
              "    if (js_urls == null || js_urls.length === 0) {\n",
              "      run_callbacks();\n",
              "      return null;\n",
              "    }\n",
              "    console.debug(\"Bokeh: BokehJS not loaded, scheduling load and callback at\", now());\n",
              "    root._bokeh_is_loading = css_urls.length + js_urls.length;\n",
              "\n",
              "    function on_load() {\n",
              "      root._bokeh_is_loading--;\n",
              "      if (root._bokeh_is_loading === 0) {\n",
              "        console.debug(\"Bokeh: all BokehJS libraries/stylesheets loaded\");\n",
              "        run_callbacks()\n",
              "      }\n",
              "    }\n",
              "\n",
              "    function on_error(url) {\n",
              "      console.error(\"failed to load \" + url);\n",
              "    }\n",
              "\n",
              "    for (let i = 0; i < css_urls.length; i++) {\n",
              "      const url = css_urls[i];\n",
              "      const element = document.createElement(\"link\");\n",
              "      element.onload = on_load;\n",
              "      element.onerror = on_error.bind(null, url);\n",
              "      element.rel = \"stylesheet\";\n",
              "      element.type = \"text/css\";\n",
              "      element.href = url;\n",
              "      console.debug(\"Bokeh: injecting link tag for BokehJS stylesheet: \", url);\n",
              "      document.body.appendChild(element);\n",
              "    }\n",
              "\n",
              "    for (let i = 0; i < js_urls.length; i++) {\n",
              "      const url = js_urls[i];\n",
              "      const element = document.createElement('script');\n",
              "      element.onload = on_load;\n",
              "      element.onerror = on_error.bind(null, url);\n",
              "      element.async = false;\n",
              "      element.src = url;\n",
              "      console.debug(\"Bokeh: injecting script tag for BokehJS library: \", url);\n",
              "      document.head.appendChild(element);\n",
              "    }\n",
              "  };\n",
              "\n",
              "  function inject_raw_css(css) {\n",
              "    const element = document.createElement(\"style\");\n",
              "    element.appendChild(document.createTextNode(css));\n",
              "    document.body.appendChild(element);\n",
              "  }\n",
              "\n",
              "  const js_urls = [\"https://cdn.bokeh.org/bokeh/release/bokeh-3.8.0.min.js\", \"https://cdn.bokeh.org/bokeh/release/bokeh-gl-3.8.0.min.js\", \"https://cdn.bokeh.org/bokeh/release/bokeh-widgets-3.8.0.min.js\", \"https://cdn.bokeh.org/bokeh/release/bokeh-tables-3.8.0.min.js\", \"https://cdn.bokeh.org/bokeh/release/bokeh-mathjax-3.8.0.min.js\"];\n",
              "  const css_urls = [];\n",
              "\n",
              "  const inline_js = [    function(Bokeh) {\n",
              "      Bokeh.set_log_level(\"info\");\n",
              "    },\n",
              "function(Bokeh) {\n",
              "    }\n",
              "  ];\n",
              "\n",
              "  function run_inline_js() {\n",
              "    if (root.Bokeh !== undefined || force === true) {\n",
              "      try {\n",
              "            for (let i = 0; i < inline_js.length; i++) {\n",
              "      inline_js[i].call(root, root.Bokeh);\n",
              "    }\n",
              "\n",
              "      } catch (error) {throw error;\n",
              "      }} else if (Date.now() < root._bokeh_timeout) {\n",
              "      setTimeout(run_inline_js, 100);\n",
              "    } else if (!root._bokeh_failed_load) {\n",
              "      console.log(\"Bokeh: BokehJS failed to load within specified timeout.\");\n",
              "      root._bokeh_failed_load = true;\n",
              "    } else if (force !== true) {\n",
              "      const cell = $(document.getElementById(null)).parents('.cell').data().cell;\n",
              "      cell.output_area.append_execute_result(NB_LOAD_WARNING)\n",
              "    }\n",
              "  }\n",
              "\n",
              "  if (root._bokeh_is_loading === 0) {\n",
              "    console.debug(\"Bokeh: BokehJS loaded, going straight to plotting\");\n",
              "    run_inline_js();\n",
              "  } else {\n",
              "    load_libs(css_urls, js_urls, function() {\n",
              "      console.debug(\"Bokeh: BokehJS plotting callback run at\", now());\n",
              "      run_inline_js();\n",
              "    });\n",
              "  }\n",
              "}(window));"
            ],
            "application/vnd.bokehjs_load.v0+json": "'use strict';\n(function(root) {\n  function now() {\n    return new Date();\n  }\n\n  const force = true;\n\n  if (typeof root._bokeh_onload_callbacks === \"undefined\" || force === true) {\n    root._bokeh_onload_callbacks = [];\n    root._bokeh_is_loading = undefined;\n  }\n\n\n  if (typeof (root._bokeh_timeout) === \"undefined\" || force === true) {\n    root._bokeh_timeout = Date.now() + 5000;\n    root._bokeh_failed_load = false;\n  }\n\n  const NB_LOAD_WARNING = {'data': {'text/html':\n     \"<div style='background-color: #fdd'>\\n\"+\n     \"<p>\\n\"+\n     \"BokehJS does not appear to have successfully loaded. If loading BokehJS from CDN, this \\n\"+\n     \"may be due to a slow or bad network connection. Possible fixes:\\n\"+\n     \"</p>\\n\"+\n     \"<ul>\\n\"+\n     \"<li>re-rerun `output_notebook()` to attempt to load from CDN again, or</li>\\n\"+\n     \"<li>use INLINE resources instead, as so:</li>\\n\"+\n     \"</ul>\\n\"+\n     \"<code>\\n\"+\n     \"from bokeh.resources import INLINE\\n\"+\n     \"output_notebook(resources=INLINE)\\n\"+\n     \"</code>\\n\"+\n     \"</div>\"}};\n\n  function display_loaded(error = null) {\n    const el = document.getElementById(null);\n    if (el != null) {\n      const html = (() => {\n        if (typeof root.Bokeh === \"undefined\") {\n          if (error == null) {\n            return \"BokehJS is loading ...\";\n          } else {\n            return \"BokehJS failed to load.\";\n          }\n        } else {\n          const prefix = `BokehJS ${root.Bokeh.version}`;\n          if (error == null) {\n            return `${prefix} successfully loaded.`;\n          } else {\n            return `${prefix} <b>encountered errors</b> while loading and may not function as expected.`;\n          }\n        }\n      })();\n      el.innerHTML = html;\n\n      if (error != null) {\n        const wrapper = document.createElement(\"div\");\n        wrapper.style.overflow = \"auto\";\n        wrapper.style.height = \"5em\";\n        wrapper.style.resize = \"vertical\";\n        const content = document.createElement(\"div\");\n        content.style.fontFamily = \"monospace\";\n        content.style.whiteSpace = \"pre-wrap\";\n        content.style.backgroundColor = \"rgb(255, 221, 221)\";\n        content.textContent = error.stack ?? error.toString();\n        wrapper.append(content);\n        el.append(wrapper);\n      }\n    } else if (Date.now() < root._bokeh_timeout) {\n      setTimeout(() => display_loaded(error), 100);\n    }\n  }\n\n  function run_callbacks() {\n    try {\n      root._bokeh_onload_callbacks.forEach(function(callback) {\n        if (callback != null)\n          callback();\n      });\n    } finally {\n      delete root._bokeh_onload_callbacks\n    }\n    console.debug(\"Bokeh: all callbacks have finished\");\n  }\n\n  function load_libs(css_urls, js_urls, callback) {\n    if (css_urls == null) css_urls = [];\n    if (js_urls == null) js_urls = [];\n\n    root._bokeh_onload_callbacks.push(callback);\n    if (root._bokeh_is_loading > 0) {\n      console.debug(\"Bokeh: BokehJS is being loaded, scheduling callback at\", now());\n      return null;\n    }\n    if (js_urls == null || js_urls.length === 0) {\n      run_callbacks();\n      return null;\n    }\n    console.debug(\"Bokeh: BokehJS not loaded, scheduling load and callback at\", now());\n    root._bokeh_is_loading = css_urls.length + js_urls.length;\n\n    function on_load() {\n      root._bokeh_is_loading--;\n      if (root._bokeh_is_loading === 0) {\n        console.debug(\"Bokeh: all BokehJS libraries/stylesheets loaded\");\n        run_callbacks()\n      }\n    }\n\n    function on_error(url) {\n      console.error(\"failed to load \" + url);\n    }\n\n    for (let i = 0; i < css_urls.length; i++) {\n      const url = css_urls[i];\n      const element = document.createElement(\"link\");\n      element.onload = on_load;\n      element.onerror = on_error.bind(null, url);\n      element.rel = \"stylesheet\";\n      element.type = \"text/css\";\n      element.href = url;\n      console.debug(\"Bokeh: injecting link tag for BokehJS stylesheet: \", url);\n      document.body.appendChild(element);\n    }\n\n    for (let i = 0; i < js_urls.length; i++) {\n      const url = js_urls[i];\n      const element = document.createElement('script');\n      element.onload = on_load;\n      element.onerror = on_error.bind(null, url);\n      element.async = false;\n      element.src = url;\n      console.debug(\"Bokeh: injecting script tag for BokehJS library: \", url);\n      document.head.appendChild(element);\n    }\n  };\n\n  function inject_raw_css(css) {\n    const element = document.createElement(\"style\");\n    element.appendChild(document.createTextNode(css));\n    document.body.appendChild(element);\n  }\n\n  const js_urls = [\"https://cdn.bokeh.org/bokeh/release/bokeh-3.8.0.min.js\", \"https://cdn.bokeh.org/bokeh/release/bokeh-gl-3.8.0.min.js\", \"https://cdn.bokeh.org/bokeh/release/bokeh-widgets-3.8.0.min.js\", \"https://cdn.bokeh.org/bokeh/release/bokeh-tables-3.8.0.min.js\", \"https://cdn.bokeh.org/bokeh/release/bokeh-mathjax-3.8.0.min.js\"];\n  const css_urls = [];\n\n  const inline_js = [    function(Bokeh) {\n      Bokeh.set_log_level(\"info\");\n    },\nfunction(Bokeh) {\n    }\n  ];\n\n  function run_inline_js() {\n    if (root.Bokeh !== undefined || force === true) {\n      try {\n            for (let i = 0; i < inline_js.length; i++) {\n      inline_js[i].call(root, root.Bokeh);\n    }\n\n      } catch (error) {throw error;\n      }} else if (Date.now() < root._bokeh_timeout) {\n      setTimeout(run_inline_js, 100);\n    } else if (!root._bokeh_failed_load) {\n      console.log(\"Bokeh: BokehJS failed to load within specified timeout.\");\n      root._bokeh_failed_load = true;\n    } else if (force !== true) {\n      const cell = $(document.getElementById(null)).parents('.cell').data().cell;\n      cell.output_area.append_execute_result(NB_LOAD_WARNING)\n    }\n  }\n\n  if (root._bokeh_is_loading === 0) {\n    console.debug(\"Bokeh: BokehJS loaded, going straight to plotting\");\n    run_inline_js();\n  } else {\n    load_libs(css_urls, js_urls, function() {\n      console.debug(\"Bokeh: BokehJS plotting callback run at\", now());\n      run_inline_js();\n    });\n  }\n}(window));"
          },
          "metadata": {}
        },
        {
          "output_type": "display_data",
          "data": {
            "text/html": [
              "\n",
              "  <div id=\"ca3834b4-9952-4a29-8e9c-8b077b4e5093\" data-root-id=\"p1064\" style=\"display: contents;\"></div>\n"
            ]
          },
          "metadata": {}
        },
        {
          "output_type": "display_data",
          "data": {
            "application/javascript": [
              "(function(root) {\n",
              "  function embed_document(root) {\n",
              "  const docs_json = {\"dddf1d5a-2a48-42a7-9f27-861f84961aee\":{\"version\":\"3.8.0\",\"title\":\"Bokeh Application\",\"config\":{\"type\":\"object\",\"name\":\"DocumentConfig\",\"id\":\"p1108\",\"attributes\":{\"notifications\":{\"type\":\"object\",\"name\":\"Notifications\",\"id\":\"p1109\"}}},\"roots\":[{\"type\":\"object\",\"name\":\"Figure\",\"id\":\"p1064\",\"attributes\":{\"height\":400,\"x_range\":{\"type\":\"object\",\"name\":\"DataRange1d\",\"id\":\"p1065\"},\"y_range\":{\"type\":\"object\",\"name\":\"DataRange1d\",\"id\":\"p1066\"},\"x_scale\":{\"type\":\"object\",\"name\":\"LinearScale\",\"id\":\"p1073\"},\"y_scale\":{\"type\":\"object\",\"name\":\"LinearScale\",\"id\":\"p1074\"},\"title\":{\"type\":\"object\",\"name\":\"Title\",\"id\":\"p1071\"},\"renderers\":[{\"type\":\"object\",\"name\":\"GlyphRenderer\",\"id\":\"p1104\",\"attributes\":{\"data_source\":{\"type\":\"object\",\"name\":\"ColumnDataSource\",\"id\":\"p1061\",\"attributes\":{\"selected\":{\"type\":\"object\",\"name\":\"Selection\",\"id\":\"p1062\",\"attributes\":{\"indices\":[],\"line_indices\":[]}},\"selection_policy\":{\"type\":\"object\",\"name\":\"UnionRenderers\",\"id\":\"p1063\"},\"data\":{\"type\":\"map\",\"entries\":[[\"x\",{\"type\":\"ndarray\",\"array\":{\"type\":\"bytes\",\"data\":\"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\"},\"shape\":[1000],\"dtype\":\"float32\",\"order\":\"little\"}],[\"y\",{\"type\":\"ndarray\",\"array\":{\"type\":\"bytes\",\"data\":\"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\"},\"shape\":[1000],\"dtype\":\"float32\",\"order\":\"little\"}],[\"color\",[\"blue\",\"blue\",\"blue\",\"blue\",\"blue\",\"blue\",\"blue\",\"blue\",\"blue\",\"blue\",\"blue\",\"blue\",\"blue\",\"blue\",\"blue\",\"blue\",\"blue\",\"blue\",\"blue\",\"blue\",\"blue\",\"blue\",\"blue\",\"blue\",\"blue\",\"blue\",\"blue\",\"blue\",\"blue\",\"blue\",\"blue\",\"blue\",\"blue\",\"blue\",\"blue\",\"blue\",\"blue\",\"blue\",\"blue\",\"blue\",\"blue\",\"blue\",\"blue\",\"blue\",\"blue\",\"blue\",\"blue\",\"blue\",\"blue\",\"blue\",\"blue\",\"blue\",\"blue\",\"blue\",\"blue\",\"blue\",\"blue\",\"blue\",\"blue\",\"blue\",\"blue\",\"blue\",\"blue\",\"blue\",\"blue\",\"blue\",\"blue\",\"blue\",\"blue\",\"blue\",\"blue\",\"blue\",\"blue\",\"blue\",\"blue\",\"blue\",\"blue\",\"blue\",\"blue\",\"blue\",\"blue\",\"blue\",\"blue\",\"blue\",\"blue\",\"blue\",\"blue\",\"blue\",\"blue\",\"blue\",\"blue\",\"blue\",\"blue\",\"blue\",\"blue\",\"blue\",\"blue\",\"blue\",\"blue\",\"blue\",\"blue\",\"blue\",\"blue\",\"blue\",\"blue\",\"blue\",\"blue\",\"blue\",\"blue\",\"blue\",\"blue\",\"blue\",\"blue\",\"blue\",\"blue\",\"blue\",\"blue\",\"blue\",\"blue\",\"blue\",\"blue\",\"blue\",\"blue\",\"blue\",\"blue\",\"blue\",\"blue\",\"blue\",\"blue\",\"blue\",\"blue\",\"blue\",\"blue\",\"blue\",\"blue\",\"blue\",\"blue\",\"blue\",\"blue\",\"blue\",\"blue\",\"blue\",\"blue\",\"blue\",\"blue\",\"blue\",\"blue\",\"blue\",\"blue\",\"blue\",\"blue\",\"blue\",\"blue\",\"blue\",\"blue\",\"blue\",\"blue\",\"blue\",\"blue\",\"blue\",\"blue\",\"blue\",\"blue\",\"blue\",\"blue\",\"blue\",\"blue\",\"blue\",\"blue\",\"blue\",\"blue\",\"blue\",\"blue\",\"blue\",\"blue\",\"blue\",\"blue\",\"blue\",\"blue\",\"blue\",\"blue\",\"blue\",\"blue\",\"blue\",\"blue\",\"blue\",\"blue\",\"blue\",\"blue\",\"blue\",\"blue\",\"blue\",\"blue\",\"blue\",\"blue\",\"blue\",\"blue\",\"blue\",\"blue\",\"blue\",\"blue\",\"blue\",\"blue\",\"blue\",\"blue\",\"blue\",\"blue\",\"blue\",\"blue\",\"blue\",\"blue\",\"blue\",\"blue\",\"blue\",\"blue\",\"blue\",\"blue\",\"blue\",\"blue\",\"blue\",\"blue\",\"blue\",\"blue\",\"blue\",\"blue\",\"blue\",\"blue\",\"blue\",\"blue\",\"blue\",\"blue\",\"blue\",\"blue\",\"blue\",\"blue\",\"blue\",\"blue\",\"blue\",\"blue\",\"blue\",\"blue\",\"blue\",\"blue\",\"blue\",\"blue\",\"blue\",\"blue\",\"blue\",\"blue\",\"blue\",\"blue\",\"blue\",\"blue\",\"blue\",\"blue\",\"blue\",\"blue\",\"blue\",\"blue\",\"blue\",\"blue\",\"blue\",\"blue\",\"blue\",\"blue\",\"blue\",\"blue\",\"blue\",\"blue\",\"blue\",\"blue\",\"blue\",\"blue\",\"blue\",\"blue\",\"blue\",\"blue\",\"blue\",\"blue\",\"blue\",\"blue\",\"blue\",\"blue\",\"blue\",\"blue\",\"blue\",\"blue\",\"blue\",\"blue\",\"blue\",\"blue\",\"blue\",\"blue\",\"blue\",\"blue\",\"blue\",\"blue\",\"blue\",\"blue\",\"blue\",\"blue\",\"blue\",\"blue\",\"blue\",\"blue\",\"blue\",\"blue\",\"blue\",\"blue\",\"blue\",\"blue\",\"blue\",\"blue\",\"blue\",\"blue\",\"blue\",\"blue\",\"blue\",\"blue\",\"blue\",\"blue\",\"blue\",\"blue\",\"blue\",\"blue\",\"blue\",\"blue\",\"blue\",\"blue\",\"blue\",\"blue\",\"blue\",\"blue\",\"blue\",\"blue\",\"blue\",\"blue\",\"blue\",\"blue\",\"blue\",\"blue\",\"blue\",\"blue\",\"blue\",\"blue\",\"blue\",\"blue\",\"blue\",\"blue\",\"blue\",\"blue\",\"blue\",\"blue\",\"blue\",\"blue\",\"blue\",\"blue\",\"blue\",\"blue\",\"blue\",\"blue\",\"blue\",\"blue\",\"blue\",\"blue\",\"blue\",\"blue\",\"blue\",\"blue\",\"blue\",\"blue\",\"blue\",\"blue\",\"blue\",\"blue\",\"blue\",\"blue\",\"blue\",\"blue\",\"blue\",\"blue\",\"blue\",\"blue\",\"blue\",\"blue\",\"blue\",\"blue\",\"blue\",\"blue\",\"blue\",\"blue\",\"blue\",\"blue\",\"blue\",\"blue\",\"blue\",\"blue\",\"blue\",\"blue\",\"blue\",\"blue\",\"blue\",\"blue\",\"blue\",\"blue\",\"blue\",\"blue\",\"blue\",\"blue\",\"blue\",\"blue\",\"blue\",\"blue\",\"blue\",\"blue\",\"blue\",\"blue\",\"blue\",\"blue\",\"blue\",\"blue\",\"blue\",\"blue\",\"blue\",\"blue\",\"blue\",\"blue\",\"blue\",\"blue\",\"blue\",\"blue\",\"blue\",\"blue\",\"blue\",\"blue\",\"blue\",\"blue\",\"blue\",\"blue\",\"blue\",\"blue\",\"blue\",\"blue\",\"blue\",\"blue\",\"blue\",\"blue\",\"blue\",\"blue\",\"blue\",\"blue\",\"blue\",\"blue\",\"blue\",\"blue\",\"blue\",\"blue\",\"blue\",\"blue\",\"blue\",\"blue\",\"blue\",\"blue\",\"blue\",\"blue\",\"blue\",\"blue\",\"blue\",\"blue\",\"blue\",\"blue\",\"blue\",\"blue\",\"blue\",\"blue\",\"blue\",\"blue\",\"blue\",\"blue\",\"blue\",\"blue\",\"blue\",\"blue\",\"blue\",\"blue\",\"blue\",\"blue\",\"blue\",\"blue\",\"blue\",\"blue\",\"blue\",\"blue\",\"blue\",\"blue\",\"blue\",\"blue\",\"blue\",\"blue\",\"blue\",\"blue\",\"blue\",\"blue\",\"blue\",\"blue\",\"blue\",\"blue\",\"blue\",\"blue\",\"blue\",\"blue\",\"blue\",\"blue\",\"blue\",\"blue\",\"blue\",\"blue\",\"blue\",\"blue\",\"blue\",\"blue\",\"blue\",\"blue\",\"blue\",\"blue\",\"blue\",\"blue\",\"blue\",\"blue\",\"blue\",\"blue\",\"blue\",\"blue\",\"blue\",\"blue\",\"blue\",\"blue\",\"blue\",\"blue\",\"blue\",\"blue\",\"blue\",\"blue\",\"blue\",\"blue\",\"blue\",\"blue\",\"blue\",\"blue\",\"blue\",\"blue\",\"blue\",\"blue\",\"blue\",\"blue\",\"blue\",\"blue\",\"blue\",\"blue\",\"blue\",\"blue\",\"blue\",\"blue\",\"blue\",\"blue\",\"blue\",\"blue\",\"blue\",\"blue\",\"blue\",\"blue\",\"blue\",\"blue\",\"blue\",\"blue\",\"blue\",\"blue\",\"blue\",\"blue\",\"blue\",\"blue\",\"blue\",\"blue\",\"blue\",\"blue\",\"blue\",\"blue\",\"blue\",\"blue\",\"blue\",\"blue\",\"blue\",\"blue\",\"blue\",\"blue\",\"blue\",\"blue\",\"blue\",\"blue\",\"blue\",\"blue\",\"blue\",\"blue\",\"blue\",\"blue\",\"blue\",\"blue\",\"blue\",\"blue\",\"blue\",\"blue\",\"blue\",\"blue\",\"blue\",\"blue\",\"blue\",\"blue\",\"blue\",\"blue\",\"blue\",\"blue\",\"blue\",\"blue\",\"blue\",\"blue\",\"blue\",\"blue\",\"blue\",\"blue\",\"blue\",\"blue\",\"blue\",\"blue\",\"blue\",\"blue\",\"blue\",\"blue\",\"blue\",\"blue\",\"blue\",\"blue\",\"blue\",\"blue\",\"blue\",\"blue\",\"blue\",\"blue\",\"blue\",\"blue\",\"blue\",\"blue\",\"blue\",\"blue\",\"blue\",\"blue\",\"blue\",\"blue\",\"blue\",\"blue\",\"blue\",\"blue\",\"blue\",\"blue\",\"blue\",\"blue\",\"blue\",\"blue\",\"blue\",\"blue\",\"blue\",\"blue\",\"blue\",\"blue\",\"blue\",\"blue\",\"blue\",\"blue\",\"blue\",\"blue\",\"blue\",\"blue\",\"blue\",\"blue\",\"blue\",\"blue\",\"blue\",\"blue\",\"blue\",\"blue\",\"blue\",\"blue\",\"blue\",\"blue\",\"blue\",\"blue\",\"blue\",\"blue\",\"blue\",\"blue\",\"blue\",\"blue\",\"blue\",\"blue\",\"blue\",\"blue\",\"blue\",\"blue\",\"blue\",\"blue\",\"blue\",\"blue\",\"blue\",\"blue\",\"blue\",\"blue\",\"blue\",\"blue\",\"blue\",\"blue\",\"blue\",\"blue\",\"blue\",\"blue\",\"blue\",\"blue\",\"blue\",\"blue\",\"blue\",\"blue\",\"blue\",\"blue\",\"blue\",\"blue\",\"blue\",\"blue\",\"blue\",\"blue\",\"blue\",\"blue\",\"blue\",\"blue\",\"blue\",\"blue\",\"blue\",\"blue\",\"blue\",\"blue\",\"blue\",\"blue\",\"blue\",\"blue\",\"blue\",\"blue\",\"blue\",\"blue\",\"blue\",\"blue\",\"blue\",\"blue\",\"blue\",\"blue\",\"blue\",\"blue\",\"blue\",\"blue\",\"blue\",\"blue\",\"blue\",\"blue\",\"blue\",\"blue\",\"blue\",\"blue\",\"blue\",\"blue\",\"blue\",\"blue\",\"blue\",\"blue\",\"blue\",\"blue\",\"blue\",\"blue\",\"blue\",\"blue\",\"blue\",\"blue\",\"blue\",\"blue\",\"blue\",\"blue\",\"blue\",\"blue\",\"blue\",\"blue\",\"blue\",\"blue\",\"blue\",\"blue\",\"blue\",\"blue\",\"blue\",\"blue\",\"blue\",\"blue\",\"blue\",\"blue\",\"blue\",\"blue\",\"blue\",\"blue\",\"blue\",\"blue\",\"blue\",\"blue\",\"blue\",\"blue\",\"blue\",\"blue\",\"blue\",\"blue\",\"blue\",\"blue\",\"blue\",\"blue\",\"blue\",\"blue\",\"blue\",\"blue\",\"blue\",\"blue\",\"blue\",\"blue\",\"blue\",\"blue\",\"blue\",\"blue\",\"blue\",\"blue\",\"blue\",\"blue\",\"blue\",\"blue\",\"blue\",\"blue\",\"blue\",\"blue\",\"blue\",\"blue\",\"blue\",\"blue\",\"blue\",\"blue\",\"blue\",\"blue\",\"blue\",\"blue\",\"blue\",\"blue\",\"blue\",\"blue\",\"blue\",\"blue\",\"blue\",\"blue\",\"blue\",\"blue\",\"blue\",\"blue\",\"blue\",\"blue\",\"blue\",\"blue\",\"blue\",\"blue\",\"blue\",\"blue\",\"blue\",\"blue\",\"blue\",\"blue\",\"blue\",\"blue\",\"blue\",\"blue\",\"blue\",\"blue\",\"blue\",\"blue\",\"blue\",\"blue\",\"blue\",\"blue\",\"blue\",\"blue\",\"blue\",\"blue\",\"blue\",\"blue\",\"blue\",\"blue\",\"blue\",\"blue\",\"blue\",\"blue\",\"blue\",\"blue\",\"blue\",\"blue\",\"blue\",\"blue\",\"blue\",\"blue\",\"blue\",\"blue\",\"blue\",\"blue\",\"blue\",\"blue\",\"blue\",\"blue\",\"blue\",\"blue\",\"blue\",\"blue\",\"blue\",\"blue\",\"blue\",\"blue\",\"blue\",\"blue\",\"blue\",\"blue\",\"blue\",\"blue\",\"blue\",\"blue\",\"blue\",\"blue\",\"blue\",\"blue\",\"blue\",\"blue\",\"blue\",\"blue\",\"blue\",\"blue\",\"blue\",\"blue\",\"blue\",\"blue\",\"blue\",\"blue\",\"blue\",\"blue\",\"blue\",\"blue\",\"blue\",\"blue\",\"blue\",\"blue\",\"blue\",\"blue\",\"blue\",\"blue\",\"blue\",\"blue\",\"blue\",\"blue\",\"blue\",\"blue\",\"blue\",\"blue\",\"blue\",\"blue\",\"blue\",\"blue\",\"blue\",\"blue\",\"blue\",\"blue\",\"blue\",\"blue\",\"blue\",\"blue\",\"blue\",\"blue\",\"blue\",\"blue\",\"blue\",\"blue\",\"blue\",\"blue\",\"blue\",\"blue\",\"blue\",\"blue\",\"blue\",\"blue\",\"blue\"]],[\"token\",[\"<user>\",\".\",\":\",\"rt\",\",\",\"<repeat>\",\"<hashtag>\",\"<number>\",\"<url>\",\"!\",\"i\",\"a\",\"\\\"\",\"the\",\"?\",\"you\",\"to\",\"(\",\"<allcaps>\",\"<elong>\",\")\",\"me\",\"de\",\"<smile>\",\"\\uff01\",\"que\",\"and\",\"\\u3002\",\"-\",\"my\",\"no\",\"\\u3001\",\"is\",\"it\",\"\\u2026\",\"in\",\"n\",\"for\",\"/\",\"of\",\"la\",\"'s\",\"*\",\"do\",\"n't\",\"that\",\"on\",\"y\",\"'\",\"e\",\"o\",\"u\",\"en\",\"this\",\"el\",\"so\",\"be\",\"'m\",\"with\",\"just\",\">\",\"your\",\"^\",\"like\",\"have\",\"te\",\"at\",\"\\uff1f\",\"love\",\"se\",\"are\",\"<\",\"m\",\"r\",\"if\",\"all\",\"b\",\"\\u30fb\",\"not\",\"but\",\"we\",\"es\",\"ya\",\"&\",\"follow\",\"up\",\"what\",\"get\",\"lol\",\"un\",\"\\u2665\",\"lo\",\"when\",\"was\",\"\\u201c\",\"\\u201d\",\"one\",\"por\",\"si\",\"out\",\"_\",\"mi\",\"can\",\"<sadface>\",\"\\u0645\\u0646\",\"\\u2661\",\"\\u00b4\",\"he\",\"con\",\"they\",\"now\",\"go\",\"\\u060c\",\"para\",\"los\",\"know\",\"haha\",\"good\",\"tu\",\"back\",\"~\",\"about\",\"new\",\";\",\"as\",\"day\",\"how\",\"who\",\"will\",\"want\",\"people\",\"yo\",\"eu\",\"from\",\"di\",\"time\",\"<heart>\",\"s\",\"aku\",\"da\",\"'re\",\"<lolface>\",\"una\",\"got\",\"las\",\"more\",\"x\",\"she\",\"today\",\"\\uff08\",\">>\",\"k\",\"by\",\"or\",\"\\u0641\\u064a\",\"\\uff65\",\"too\",\"le\",\"\\u00e9\",\"|\",\"[\",\"\\uff09\",\"]\",\"see\",\"why\",\"yg\",\"ca\",\"como\",\"her\",\"\\u2014\",\"q\",\"need\",\"an\",\"na\",\"\\u7b11\",\"there\",\"\\u03c9\",\"happy\",\"im\",\"mas\",\"je\",\"life\",\"really\",\"make\",\"yang\",\"shit\",\"think\",\"t\",\"\\u2764\",\"n\\u00e3o\",\"never\",\"some\",\"\\uff5e\",\"oh\",\"\\u2605\",\"did\",\"would\",\"del\",\"`\",\"d\",\"please\",\"via\",\"much\",\"fuck\",\"al\",\"dia\",\"$\",\"\\u0648\",\"right\",\"best\",\"c\",\"going\",\"\\u0627\\u0644\\u0644\\u0647\",\"pero\",\"only\",\"has\",\"\\u266a\",\"'ll\",\"twitter\",\"=\",\"hahaha\",\"its\",\"nn\",\"\\uff40\",\"\\u00bf\",\"am\",\"say\",\"<neutralface>\",\"them\",\"here\",\"\\u0644\\u0627\",\"off\",\"still\",\"dan\",\"+\",\"night\",\"w\",\"ada\",\"someone\",\"even\",\"then\",\"\\u2606\",\"ni\",\"come\",\"com\",\"always\",\"man\",\"'ve\",\"been\",\"his\",\"itu\",\"\\u0639\\u0644\\u0649\",\"-_-\",\"\\u263a\",\"over\",\"um\",\"\\u0645\\u0627\",\"hate\",\"girl\",\"ai\",\"had\",\"pra\",\"todo\",\"mais\",\"feel\",\"let\",\"ini\",\"because\",\"\\uff9f\",\"thanks\",\"ah\",\"way\",\"ever\",\"look\",\"tweet\",\"followers\",\"should\",\"our\",\"xd\",\"aja\",\"esta\",\"school\",\"him\",\"ser\",\"take\",\"than\",\"video\",\"em\",\"last\",\"wanna\",\"does\",\"us\",\"miss\",\"l\",\"ga\",\"better\",\"well\",\"could\",\"\\u25bd\",\"%\",\"apa\",\"cuando\",\"team\",\"\\u2714\",\"@\",\"ok\",\"\\u061f\",\"\\u2022\",\"vida\",\"quiero\",\"les\",\"being\",\"real\",\"down\",\"kamu\",\"everyone\",\"gonna\",\"live\",\"tonight\",\"yes\",\"work\",\"ass\",\"retweet\",\"nada\",\"sama\",\"first\",\"<<\",\"photo\",\"tomorrow\",\"where\",\"god\",\"son\",\"ke\",\"ta\",\"f\",\"home\",\"lagi\",\"thank\",\"birthday\",\"\\u2588\",\"ha\",\"great\",\"lmao\",\"omg\",\"morning\",\"m\\u00e1s\",\"mau\",\"baby\",\"dont\",\"\\uff61\",\"their\",\"p\",\"things\",\"game\",\"pas\",\"bad\",\"year\",\"yeah\",\"su\",\"bitch\",\"\\u0432\",\"stop\",\"hoy\",\"something\",\"meu\",\"tak\",\"gak\",\"world\",\"amor\",\"h\",\"\\\\\",\"ver\",\"\\uff1b\",\"porque\",\"give\",\"these\",\"\\u0627\\u0644\\u0644\\u0647\\u0645\",\"were\",\"hay\",\"sleep\",\"gue\",\"every\",\"friends\",\"uma\",\"tell\",\"amo\",\"vou\",\"bien\",\"\\u00a1\",\"again\",\"\\uff3e\",\"\\uff0f\",\"done\",\"after\",\"todos\",\"girls\",\"guys\",\"getting\",\"big\",\"wait\",\"justin\",\"eh\",\"\\u2192\",\"kan\",\"kita\",\"jajaja\",\"wish\",\"said\",\"fucking\",\"show\",\"thing\",\"next\",\"voc\\u00ea\",\"nos\",\"little\",\"tengo\",\"keep\",\"person\",\"''\",\"\\u2200\",\"hope\",\"\\u0643\\u0644\",\"hey\",\"bisa\",\"free\",\"made\",\"foto\",\"va\",\"everything\",\"iya\",\"nigga\",\"eso\",\"et\",\"watch\",\"music\",\"week\",\"talk\",\"ne\",\"solo\",\"gente\",\"udah\",\"\\uff1a\",\"--\",\"\\uff3c\",\"mejor\",\"facebook\",\"ma\",\"v\",\"phone\",\"most\",\"same\",\"okay\",\"ik\",\"before\",\"minha\",\"days\",\"g\",\"ti\",\"damn\",\"nice\",\"voy\",\"vai\",\"call\",\"long\",\"tapi\",\"http\",\"sin\",\"nunca\",\"doing\",\"other\",\"find\",\"il\",\"sa\",\"sorry\",\"nya\",\"orang\",\"\\u00b0\",\"hard\",\"mean\",\"die\",\"\\u0627\\u0644\\u0644\\u064a\",\"tem\",\"soy\",\"este\",\"kalo\",\"s\\u00f3\",\"th\",\"win\",\"nothing\",\"into\",\"face\",\"cute\",\"'d\",\"gracias\",\"lah\",\"\\u0438\",\"any\",\"play\",\"\\u2190\",\"ko\",\"text\",\"\\u2323\",\"estoy\",\"tau\",\"ur\",\"buat\",\"#\",\"cause\",\"\\u044f\",\"put\",\"kau\",\"siempre\",\"juga\",\"casa\",\"\\u0623\\u0646\",\"help\",\"start\",\"feliz\",\"old\",\"ir\",\"very\",\"care\",\"bir\",\"makes\",\"song\",\"check\",\"watching\",\"ahora\",\"jadi\",\"os\",\"may\",\"friend\",\"beautiful\",\"heart\",\"ka\",\"vc\",\"mundo\",\"\\u043d\\u0430\",\"sure\",\"tan\",\"pretty\",\"aqui\",\"\\u043d\\u0435\",\"house\",\"\\u0631\\u062a\\u0648\\u064a\\u062a\",\"\\u064a\\u0627\",\"ja\",\"true\",\"muy\",\"away\",\"already\",\"actually\",\"believe\",\"try\",\"many\",\"ma\\u00f1ana\",\"mis\",\"lu\",\"those\",\"hot\",\"qu\\u00e9\",\"mal\",\"\\u0639\\u0646\",\"though\",\"ask\",\"amazing\",\"bed\",\"}\",\"two\",\"mom\",\"d\\u00eda\",\"ve\",\"dari\",\"gameinsight\",\"stay\",\"fun\",\"around\",\"van\",\"cont\",\"ready\",\"money\",\"bu\",\"funny\",\"cool\",\"hair\",\"\\u00e0\",\"tho\",\"{\",\"wo\",\"hi\",\"name\",\"tiene\",\"hahahaha\",\"pa\",\"algo\",\"gotta\",\"\\u0648\\u0644\\u0627\",\"boy\",\"another\",\"c'est\",\"hari\",\"jajajaja\",\"having\",\"cara\",\"jaja\",\"dm\",\"looking\",\"top\",\"android\",\"dah\",\"wow\",\"\\u2591\",\"eres\",\"ben\",\"must\",\"news\",\"met\",\"est\\u00e1\",\"nih\",\"family\",\"black\",\"thought\",\"nak\",\"super\",\"end\",\"hace\",\"remember\",\"ama\",\"party\",\"cant\",\"vamos\",\"anything\",\"anyone\",\"\\u0641\\u0648\\u0644\\u0648\",\"perfect\",\"guy\",\"vez\",\"christmas\",\"dos\",\"bueno\",\"nao\",\"years\",\"vote\",\"dormir\",\"bro\",\"else\",\"quien\",\"untuk\",\"jangan\",\"myself\",\"head\",\"mind\",\"gua\",\"talking\",\"while\",\"dat\",\"food\",\"\\u0434\",\"coming\",\"wkwk\",\"trying\",\"saya\",\"mucho\",\"without\",\"wrong\",\"\\u2019s\",\"baru\",\"__\",\"hehe\",\"hacer\",\"lot\",\"followed\",\"crazy\",\"hell\",\"feeling\",\"des\",\"kok\",\"j\",\"stats\",\"j'\",\"\\u0627\\u0646\",\"tweets\",\"non\",\"cosas\",\"era\",\"high\",\"niggas\",\"change\",\"movie\",\"xx\",\"mad\",\"sih\",\"sometimes\",\"deh\",\"allah\",\"through\",\"pour\",\"ela\",\"soon\",\"gone\",\"playing\",\"smile\",\"bukan\",\"tv\",\"fans\",\"hasta\",\"akan\",\"y'\",\"looks\",\"isso\",\"\\u270c\",\"tired\",\"boys\",\"might\",\"dong\",\"lg\",\"use\",\"maybe\",\"until\",\"menos\",\"own\",\"dengan\",\"eat\",\"ou\",\"weekend\",\"\\u02d8\",\"class\",\"ele\",\"harry\",\"iphone\",\"friday\",\"single\",\"ff\",\"awesome\",\"bout\",\"muito\",\"hoje\",\"\\u00ac\",\"dios\",\"such\",\"estar\",\"j\\u00e1\",\"quando\",\"esa\",\"making\",\"\\u2501\",\"times\",\"lmfao\",\"gw\",\"moment\",\"yet\",\"aw\",\"smh\",\"banget\",\"masih\",\"qui\",\"quem\",\"\\u2013\",\"leave\",\"du\",\"une\",\"guess\",\"hit\",\"\\u0441\",\"pm\",\"since\",\"pues\",\"est\",\"job\",\"\\uff89\",\"mana\",\"bom\",\"siapa\",\"suka\",\"bieber\",\"mention\",\"lebih\",\"favorite\",\"bitches\",\"forever\",\"\\u0644\\u064a\",\"final\",\"read\",\"alguien\",\"open\",\"yourself\",\"ese\",\"che\",\"sex\",\"yaa\",\"car\",\"direction\",\"tidak\",\"seu\",\"gets\",\"left\",\"re\",\"jam\",\"enough\",\"\\u0625\\u0644\\u0627\",\"once\",\"\\u2019\",\"part\",\"cada\",\"\\u5b9a\\u671f\",\"\\u0644\\u0643\",\"een\",\"seen\",\"kak\",\"as\\u00ed\",\"nem\",\"\\u0639\\u0645\\u0644\",\"white\",\"told\",\"says\",\"esto\",\"sad\",\"mo\",\"fue\",\"yah\",\"summer\",\"\\u0647\",\"\\u2b55\",\"\\u00bb\",\"thats\",\"\\u0645\\u0639\",\"posted\",\"wants\",\"agora\",\"together\",\"fan\",\"men\",\"hear\",\"full\",\"\\u2600\",\"sigo\",\"pq\",\"dulu\",\"plus\",\"foi\",\"tudo\",\"\\u0647\\u0648\",\"ill\",\"\\u3042\",\"thinking\",\"wtf\",\"pagi\",\"mama\",\"kalau\",\"hati\",\"sexy\",\"sayang\",\"baik\",\"semua\",\"hola\",\"went\",\"vos\",\"tanto\",\"finally\",\"fb\",\"sea\",\"stupid\",\"tus\",\"seriously\",\"hora\",\"min\",\"pic\",\"estas\",\"turn\",\"hours\",\"excited\",\"nah\",\"buy\",\"saying\",\"mah\",\"break\",\"needs\",\"ce\",\"room\",\"choice\",\"far\",\"dead\",\"quero\",\"saw\",\"kids\",\"lil\",\"whole\",\"puede\",\"fall\",\"sus\",\"lost\",\"asi\",\"word\",\"\\u2639\",\"also\",\"\\u0631\\u064a\\u062a\\u0648\\u064a\\u062a\",\"probably\",\"everybody\",\"tarde\",\"run\",\"sei\",\"follback\",\"forget\",\"sweet\",\"welcome\",\"selamat\",\"\\uff3f\",\"sur\",\"place\",\"gusta\",\"sabe\",\"androidgames\",\"tp\",\"tiempo\",\"\\u0628\\u0633\",\"sou\",\"tuh\",\"vs\",\"eyes\",\"\\u0627\\u0646\\u0627\",\"picture\",\"das\",\"meet\",\"anak\",\"persona\",\"essa\",\"bored\",\"following\",\"nadie\",\"nobody\",\"dice\",\"alone\",\"sick\",\"red\",\"city\",\"cinta\",\"\\u6708\",\"linda\",\"dream\",\"story\",\"km\",\"het\",\"waiting\",\"^_^\",\"mine\",\"\\u0447\\u0442\\u043e\",\"reason\",\"kk\",\"\\u0644\\u0648\",\"online\",\"fast\",\"udh\",\"wanted\",\"op\",\"others\",\"gay\",\"n\\u2019t\",\"used\",\"sem\",\"understand\",\"moi\",\"sm\",\"aint\",\"donde\",\"bem\",\"which\",\"ng\",\"followback\",\"punya\",\"late\",\"anda\",\"tidur\",\"puedo\",\"early\",\"nd\",\"personas\",\"banyak\",\"\\u2705\",\"\\u278a\",\"trust\",\"noche\",\"tl\",\"\\uff1e\",\"\\u00ab\",\"af\",\"move\",\"pro\",\"bring\",\"ku\",\"called\",\"relationship\",\"idk\",\"hurt\",\"st\",\"pernah\",\"pessoas\",\"hello\",\"uno\",\"unfollowers\",\"cry\"]]]}}},\"view\":{\"type\":\"object\",\"name\":\"CDSView\",\"id\":\"p1105\",\"attributes\":{\"filter\":{\"type\":\"object\",\"name\":\"AllIndices\",\"id\":\"p1106\"}}},\"glyph\":{\"type\":\"object\",\"name\":\"Scatter\",\"id\":\"p1101\",\"attributes\":{\"x\":{\"type\":\"field\",\"field\":\"x\"},\"y\":{\"type\":\"field\",\"field\":\"y\"},\"size\":{\"type\":\"value\",\"value\":10},\"line_color\":{\"type\":\"field\",\"field\":\"color\"},\"line_alpha\":{\"type\":\"value\",\"value\":0.25},\"fill_color\":{\"type\":\"field\",\"field\":\"color\"},\"fill_alpha\":{\"type\":\"value\",\"value\":0.25},\"hatch_color\":{\"type\":\"field\",\"field\":\"color\"},\"hatch_alpha\":{\"type\":\"value\",\"value\":0.25}}},\"nonselection_glyph\":{\"type\":\"object\",\"name\":\"Scatter\",\"id\":\"p1102\",\"attributes\":{\"x\":{\"type\":\"field\",\"field\":\"x\"},\"y\":{\"type\":\"field\",\"field\":\"y\"},\"size\":{\"type\":\"value\",\"value\":10},\"line_color\":{\"type\":\"field\",\"field\":\"color\"},\"line_alpha\":{\"type\":\"value\",\"value\":0.1},\"fill_color\":{\"type\":\"field\",\"field\":\"color\"},\"fill_alpha\":{\"type\":\"value\",\"value\":0.1},\"hatch_color\":{\"type\":\"field\",\"field\":\"color\"},\"hatch_alpha\":{\"type\":\"value\",\"value\":0.1}}},\"muted_glyph\":{\"type\":\"object\",\"name\":\"Scatter\",\"id\":\"p1103\",\"attributes\":{\"x\":{\"type\":\"field\",\"field\":\"x\"},\"y\":{\"type\":\"field\",\"field\":\"y\"},\"size\":{\"type\":\"value\",\"value\":10},\"line_color\":{\"type\":\"field\",\"field\":\"color\"},\"line_alpha\":{\"type\":\"value\",\"value\":0.2},\"fill_color\":{\"type\":\"field\",\"field\":\"color\"},\"fill_alpha\":{\"type\":\"value\",\"value\":0.2},\"hatch_color\":{\"type\":\"field\",\"field\":\"color\"},\"hatch_alpha\":{\"type\":\"value\",\"value\":0.2}}}}}],\"toolbar\":{\"type\":\"object\",\"name\":\"Toolbar\",\"id\":\"p1072\",\"attributes\":{\"tools\":[{\"type\":\"object\",\"name\":\"PanTool\",\"id\":\"p1085\"},{\"type\":\"object\",\"name\":\"WheelZoomTool\",\"id\":\"p1086\",\"attributes\":{\"renderers\":\"auto\"}},{\"type\":\"object\",\"name\":\"BoxZoomTool\",\"id\":\"p1087\",\"attributes\":{\"dimensions\":\"both\",\"overlay\":{\"type\":\"object\",\"name\":\"BoxAnnotation\",\"id\":\"p1088\",\"attributes\":{\"syncable\":false,\"line_color\":\"black\",\"line_alpha\":1.0,\"line_width\":2,\"line_dash\":[4,4],\"fill_color\":\"lightgrey\",\"fill_alpha\":0.5,\"level\":\"overlay\",\"visible\":false,\"left\":{\"type\":\"number\",\"value\":\"nan\"},\"right\":{\"type\":\"number\",\"value\":\"nan\"},\"top\":{\"type\":\"number\",\"value\":\"nan\"},\"bottom\":{\"type\":\"number\",\"value\":\"nan\"},\"left_units\":\"canvas\",\"right_units\":\"canvas\",\"top_units\":\"canvas\",\"bottom_units\":\"canvas\",\"handles\":{\"type\":\"object\",\"name\":\"BoxInteractionHandles\",\"id\":\"p1094\",\"attributes\":{\"all\":{\"type\":\"object\",\"name\":\"AreaVisuals\",\"id\":\"p1093\",\"attributes\":{\"fill_color\":\"white\",\"hover_fill_color\":\"lightgray\"}}}}}}}},{\"type\":\"object\",\"name\":\"SaveTool\",\"id\":\"p1095\"},{\"type\":\"object\",\"name\":\"ResetTool\",\"id\":\"p1096\"},{\"type\":\"object\",\"name\":\"HelpTool\",\"id\":\"p1097\"},{\"type\":\"object\",\"name\":\"HoverTool\",\"id\":\"p1107\",\"attributes\":{\"renderers\":\"auto\",\"tooltips\":[[\"token\",\"@token\"]],\"sort_by\":null}}],\"active_scroll\":{\"id\":\"p1086\"}}},\"left\":[{\"type\":\"object\",\"name\":\"LinearAxis\",\"id\":\"p1080\",\"attributes\":{\"ticker\":{\"type\":\"object\",\"name\":\"BasicTicker\",\"id\":\"p1081\",\"attributes\":{\"mantissas\":[1,2,5]}},\"formatter\":{\"type\":\"object\",\"name\":\"BasicTickFormatter\",\"id\":\"p1082\"},\"major_label_policy\":{\"type\":\"object\",\"name\":\"AllLabels\",\"id\":\"p1083\"}}}],\"below\":[{\"type\":\"object\",\"name\":\"LinearAxis\",\"id\":\"p1075\",\"attributes\":{\"ticker\":{\"type\":\"object\",\"name\":\"BasicTicker\",\"id\":\"p1076\",\"attributes\":{\"mantissas\":[1,2,5]}},\"formatter\":{\"type\":\"object\",\"name\":\"BasicTickFormatter\",\"id\":\"p1077\"},\"major_label_policy\":{\"type\":\"object\",\"name\":\"AllLabels\",\"id\":\"p1078\"}}}],\"center\":[{\"type\":\"object\",\"name\":\"Grid\",\"id\":\"p1079\",\"attributes\":{\"axis\":{\"id\":\"p1075\"}}},{\"type\":\"object\",\"name\":\"Grid\",\"id\":\"p1084\",\"attributes\":{\"dimension\":1,\"axis\":{\"id\":\"p1080\"}}}]}}]}};\n",
              "  const render_items = [{\"docid\":\"dddf1d5a-2a48-42a7-9f27-861f84961aee\",\"roots\":{\"p1064\":\"ca3834b4-9952-4a29-8e9c-8b077b4e5093\"},\"root_ids\":[\"p1064\"]}];\n",
              "  void root.Bokeh.embed.embed_items_notebook(docs_json, render_items);\n",
              "  }\n",
              "  if (root.Bokeh !== undefined) {\n",
              "    embed_document(root);\n",
              "  } else {\n",
              "    let attempts = 0;\n",
              "    const timer = setInterval(function(root) {\n",
              "      if (root.Bokeh !== undefined) {\n",
              "        clearInterval(timer);\n",
              "        embed_document(root);\n",
              "      } else {\n",
              "        attempts++;\n",
              "        if (attempts > 100) {\n",
              "          clearInterval(timer);\n",
              "          console.log(\"Bokeh: ERROR: Unable to run BokehJS code because BokehJS library is missing\");\n",
              "        }\n",
              "      }\n",
              "    }, 10, root)\n",
              "  }\n",
              "})(window);"
            ],
            "application/vnd.bokehjs_exec.v0+json": ""
          },
          "metadata": {
            "application/vnd.bokehjs_exec.v0+json": {
              "id": "p1064"
            }
          }
        },
        {
          "output_type": "execute_result",
          "data": {
            "text/plain": [
              "figure(id='p1064', ...)"
            ],
            "text/html": [
              "<div style=\"display: table;\"><div style=\"display: table-row;\"><div style=\"display: table-cell;\"><b title=\"bokeh.plotting._figure.figure\">figure</b>(</div><div style=\"display: table-cell;\">id&nbsp;=&nbsp;'p1064', <span id=\"p1113\" style=\"cursor: pointer;\">&hellip;)</span></div></div><div class=\"p1112\" style=\"display: none;\"><div style=\"display: table-cell;\"></div><div style=\"display: table-cell;\">above&nbsp;=&nbsp;[],</div></div><div class=\"p1112\" style=\"display: none;\"><div style=\"display: table-cell;\"></div><div style=\"display: table-cell;\">align&nbsp;=&nbsp;'auto',</div></div><div class=\"p1112\" style=\"display: none;\"><div style=\"display: table-cell;\"></div><div style=\"display: table-cell;\">aspect_ratio&nbsp;=&nbsp;None,</div></div><div class=\"p1112\" style=\"display: none;\"><div style=\"display: table-cell;\"></div><div style=\"display: table-cell;\">aspect_scale&nbsp;=&nbsp;1,</div></div><div class=\"p1112\" style=\"display: none;\"><div style=\"display: table-cell;\"></div><div style=\"display: table-cell;\">attribution&nbsp;=&nbsp;[],</div></div><div class=\"p1112\" style=\"display: none;\"><div style=\"display: table-cell;\"></div><div style=\"display: table-cell;\">background_fill_alpha&nbsp;=&nbsp;1.0,</div></div><div class=\"p1112\" style=\"display: none;\"><div style=\"display: table-cell;\"></div><div style=\"display: table-cell;\">background_fill_color&nbsp;=&nbsp;'#ffffff',</div></div><div class=\"p1112\" style=\"display: none;\"><div style=\"display: table-cell;\"></div><div style=\"display: table-cell;\">background_hatch_alpha&nbsp;=&nbsp;1.0,</div></div><div class=\"p1112\" style=\"display: none;\"><div style=\"display: table-cell;\"></div><div style=\"display: table-cell;\">background_hatch_color&nbsp;=&nbsp;'black',</div></div><div class=\"p1112\" style=\"display: none;\"><div style=\"display: table-cell;\"></div><div style=\"display: table-cell;\">background_hatch_extra&nbsp;=&nbsp;{},</div></div><div class=\"p1112\" style=\"display: none;\"><div style=\"display: table-cell;\"></div><div style=\"display: table-cell;\">background_hatch_pattern&nbsp;=&nbsp;None,</div></div><div class=\"p1112\" style=\"display: none;\"><div style=\"display: table-cell;\"></div><div style=\"display: table-cell;\">background_hatch_scale&nbsp;=&nbsp;12.0,</div></div><div class=\"p1112\" style=\"display: none;\"><div style=\"display: table-cell;\"></div><div style=\"display: table-cell;\">background_hatch_weight&nbsp;=&nbsp;1.0,</div></div><div class=\"p1112\" style=\"display: none;\"><div style=\"display: table-cell;\"></div><div style=\"display: table-cell;\">below&nbsp;=&nbsp;[LinearAxis(id='p1075', ...)],</div></div><div class=\"p1112\" style=\"display: none;\"><div style=\"display: table-cell;\"></div><div style=\"display: table-cell;\">border_fill_alpha&nbsp;=&nbsp;1.0,</div></div><div class=\"p1112\" style=\"display: none;\"><div style=\"display: table-cell;\"></div><div style=\"display: table-cell;\">border_fill_color&nbsp;=&nbsp;'#ffffff',</div></div><div class=\"p1112\" style=\"display: none;\"><div style=\"display: table-cell;\"></div><div style=\"display: table-cell;\">border_hatch_alpha&nbsp;=&nbsp;1.0,</div></div><div class=\"p1112\" style=\"display: none;\"><div style=\"display: table-cell;\"></div><div style=\"display: table-cell;\">border_hatch_color&nbsp;=&nbsp;'black',</div></div><div class=\"p1112\" style=\"display: none;\"><div style=\"display: table-cell;\"></div><div style=\"display: table-cell;\">border_hatch_extra&nbsp;=&nbsp;{},</div></div><div class=\"p1112\" style=\"display: none;\"><div style=\"display: table-cell;\"></div><div style=\"display: table-cell;\">border_hatch_pattern&nbsp;=&nbsp;None,</div></div><div class=\"p1112\" style=\"display: none;\"><div style=\"display: table-cell;\"></div><div style=\"display: table-cell;\">border_hatch_scale&nbsp;=&nbsp;12.0,</div></div><div class=\"p1112\" style=\"display: none;\"><div style=\"display: table-cell;\"></div><div style=\"display: table-cell;\">border_hatch_weight&nbsp;=&nbsp;1.0,</div></div><div class=\"p1112\" style=\"display: none;\"><div style=\"display: table-cell;\"></div><div style=\"display: table-cell;\">border_line_alpha&nbsp;=&nbsp;1.0,</div></div><div class=\"p1112\" style=\"display: none;\"><div style=\"display: table-cell;\"></div><div style=\"display: table-cell;\">border_line_cap&nbsp;=&nbsp;'butt',</div></div><div class=\"p1112\" style=\"display: none;\"><div style=\"display: table-cell;\"></div><div style=\"display: table-cell;\">border_line_color&nbsp;=&nbsp;None,</div></div><div class=\"p1112\" style=\"display: none;\"><div style=\"display: table-cell;\"></div><div style=\"display: table-cell;\">border_line_dash&nbsp;=&nbsp;[],</div></div><div class=\"p1112\" style=\"display: none;\"><div style=\"display: table-cell;\"></div><div style=\"display: table-cell;\">border_line_dash_offset&nbsp;=&nbsp;0,</div></div><div class=\"p1112\" style=\"display: none;\"><div style=\"display: table-cell;\"></div><div style=\"display: table-cell;\">border_line_join&nbsp;=&nbsp;'bevel',</div></div><div class=\"p1112\" style=\"display: none;\"><div style=\"display: table-cell;\"></div><div style=\"display: table-cell;\">border_line_width&nbsp;=&nbsp;1,</div></div><div class=\"p1112\" style=\"display: none;\"><div style=\"display: table-cell;\"></div><div style=\"display: table-cell;\">center&nbsp;=&nbsp;[Grid(id='p1079', ...), Grid(id='p1084', ...)],</div></div><div class=\"p1112\" style=\"display: none;\"><div style=\"display: table-cell;\"></div><div style=\"display: table-cell;\">context_menu&nbsp;=&nbsp;'auto',</div></div><div class=\"p1112\" style=\"display: none;\"><div style=\"display: table-cell;\"></div><div style=\"display: table-cell;\">css_classes&nbsp;=&nbsp;[],</div></div><div class=\"p1112\" style=\"display: none;\"><div style=\"display: table-cell;\"></div><div style=\"display: table-cell;\">css_variables&nbsp;=&nbsp;{},</div></div><div class=\"p1112\" style=\"display: none;\"><div style=\"display: table-cell;\"></div><div style=\"display: table-cell;\">disabled&nbsp;=&nbsp;False,</div></div><div class=\"p1112\" style=\"display: none;\"><div style=\"display: table-cell;\"></div><div style=\"display: table-cell;\">elements&nbsp;=&nbsp;[],</div></div><div class=\"p1112\" style=\"display: none;\"><div style=\"display: table-cell;\"></div><div style=\"display: table-cell;\">extra_x_ranges&nbsp;=&nbsp;{},</div></div><div class=\"p1112\" style=\"display: none;\"><div style=\"display: table-cell;\"></div><div style=\"display: table-cell;\">extra_x_scales&nbsp;=&nbsp;{},</div></div><div class=\"p1112\" style=\"display: none;\"><div style=\"display: table-cell;\"></div><div style=\"display: table-cell;\">extra_y_ranges&nbsp;=&nbsp;{},</div></div><div class=\"p1112\" style=\"display: none;\"><div style=\"display: table-cell;\"></div><div style=\"display: table-cell;\">extra_y_scales&nbsp;=&nbsp;{},</div></div><div class=\"p1112\" style=\"display: none;\"><div style=\"display: table-cell;\"></div><div style=\"display: table-cell;\">flow_mode&nbsp;=&nbsp;'block',</div></div><div class=\"p1112\" style=\"display: none;\"><div style=\"display: table-cell;\"></div><div style=\"display: table-cell;\">frame_align&nbsp;=&nbsp;True,</div></div><div class=\"p1112\" style=\"display: none;\"><div style=\"display: table-cell;\"></div><div style=\"display: table-cell;\">frame_height&nbsp;=&nbsp;None,</div></div><div class=\"p1112\" style=\"display: none;\"><div style=\"display: table-cell;\"></div><div style=\"display: table-cell;\">frame_width&nbsp;=&nbsp;None,</div></div><div class=\"p1112\" style=\"display: none;\"><div style=\"display: table-cell;\"></div><div style=\"display: table-cell;\">height&nbsp;=&nbsp;400,</div></div><div class=\"p1112\" style=\"display: none;\"><div style=\"display: table-cell;\"></div><div style=\"display: table-cell;\">height_policy&nbsp;=&nbsp;'auto',</div></div><div class=\"p1112\" style=\"display: none;\"><div style=\"display: table-cell;\"></div><div style=\"display: table-cell;\">hidpi&nbsp;=&nbsp;True,</div></div><div class=\"p1112\" style=\"display: none;\"><div style=\"display: table-cell;\"></div><div style=\"display: table-cell;\">hold_render&nbsp;=&nbsp;False,</div></div><div class=\"p1112\" style=\"display: none;\"><div style=\"display: table-cell;\"></div><div style=\"display: table-cell;\">html_attributes&nbsp;=&nbsp;{},</div></div><div class=\"p1112\" style=\"display: none;\"><div style=\"display: table-cell;\"></div><div style=\"display: table-cell;\">html_id&nbsp;=&nbsp;None,</div></div><div class=\"p1112\" style=\"display: none;\"><div style=\"display: table-cell;\"></div><div style=\"display: table-cell;\">js_event_callbacks&nbsp;=&nbsp;{},</div></div><div class=\"p1112\" style=\"display: none;\"><div style=\"display: table-cell;\"></div><div style=\"display: table-cell;\">js_property_callbacks&nbsp;=&nbsp;{},</div></div><div class=\"p1112\" style=\"display: none;\"><div style=\"display: table-cell;\"></div><div style=\"display: table-cell;\">left&nbsp;=&nbsp;[LinearAxis(id='p1080', ...)],</div></div><div class=\"p1112\" style=\"display: none;\"><div style=\"display: table-cell;\"></div><div style=\"display: table-cell;\">lod_factor&nbsp;=&nbsp;10,</div></div><div class=\"p1112\" style=\"display: none;\"><div style=\"display: table-cell;\"></div><div style=\"display: table-cell;\">lod_interval&nbsp;=&nbsp;300,</div></div><div class=\"p1112\" style=\"display: none;\"><div style=\"display: table-cell;\"></div><div style=\"display: table-cell;\">lod_threshold&nbsp;=&nbsp;2000,</div></div><div class=\"p1112\" style=\"display: none;\"><div style=\"display: table-cell;\"></div><div style=\"display: table-cell;\">lod_timeout&nbsp;=&nbsp;500,</div></div><div class=\"p1112\" style=\"display: none;\"><div style=\"display: table-cell;\"></div><div style=\"display: table-cell;\">margin&nbsp;=&nbsp;None,</div></div><div class=\"p1112\" style=\"display: none;\"><div style=\"display: table-cell;\"></div><div style=\"display: table-cell;\">match_aspect&nbsp;=&nbsp;False,</div></div><div class=\"p1112\" style=\"display: none;\"><div style=\"display: table-cell;\"></div><div style=\"display: table-cell;\">max_height&nbsp;=&nbsp;None,</div></div><div class=\"p1112\" style=\"display: none;\"><div style=\"display: table-cell;\"></div><div style=\"display: table-cell;\">max_width&nbsp;=&nbsp;None,</div></div><div class=\"p1112\" style=\"display: none;\"><div style=\"display: table-cell;\"></div><div style=\"display: table-cell;\">min_border&nbsp;=&nbsp;5,</div></div><div class=\"p1112\" style=\"display: none;\"><div style=\"display: table-cell;\"></div><div style=\"display: table-cell;\">min_border_bottom&nbsp;=&nbsp;None,</div></div><div class=\"p1112\" style=\"display: none;\"><div style=\"display: table-cell;\"></div><div style=\"display: table-cell;\">min_border_left&nbsp;=&nbsp;None,</div></div><div class=\"p1112\" style=\"display: none;\"><div style=\"display: table-cell;\"></div><div style=\"display: table-cell;\">min_border_right&nbsp;=&nbsp;None,</div></div><div class=\"p1112\" style=\"display: none;\"><div style=\"display: table-cell;\"></div><div style=\"display: table-cell;\">min_border_top&nbsp;=&nbsp;None,</div></div><div class=\"p1112\" style=\"display: none;\"><div style=\"display: table-cell;\"></div><div style=\"display: table-cell;\">min_height&nbsp;=&nbsp;None,</div></div><div class=\"p1112\" style=\"display: none;\"><div style=\"display: table-cell;\"></div><div style=\"display: table-cell;\">min_width&nbsp;=&nbsp;None,</div></div><div class=\"p1112\" style=\"display: none;\"><div style=\"display: table-cell;\"></div><div style=\"display: table-cell;\">name&nbsp;=&nbsp;None,</div></div><div class=\"p1112\" style=\"display: none;\"><div style=\"display: table-cell;\"></div><div style=\"display: table-cell;\">outline_line_alpha&nbsp;=&nbsp;1.0,</div></div><div class=\"p1112\" style=\"display: none;\"><div style=\"display: table-cell;\"></div><div style=\"display: table-cell;\">outline_line_cap&nbsp;=&nbsp;'butt',</div></div><div class=\"p1112\" style=\"display: none;\"><div style=\"display: table-cell;\"></div><div style=\"display: table-cell;\">outline_line_color&nbsp;=&nbsp;'#e5e5e5',</div></div><div class=\"p1112\" style=\"display: none;\"><div style=\"display: table-cell;\"></div><div style=\"display: table-cell;\">outline_line_dash&nbsp;=&nbsp;[],</div></div><div class=\"p1112\" style=\"display: none;\"><div style=\"display: table-cell;\"></div><div style=\"display: table-cell;\">outline_line_dash_offset&nbsp;=&nbsp;0,</div></div><div class=\"p1112\" style=\"display: none;\"><div style=\"display: table-cell;\"></div><div style=\"display: table-cell;\">outline_line_join&nbsp;=&nbsp;'bevel',</div></div><div class=\"p1112\" style=\"display: none;\"><div style=\"display: table-cell;\"></div><div style=\"display: table-cell;\">outline_line_width&nbsp;=&nbsp;1,</div></div><div class=\"p1112\" style=\"display: none;\"><div style=\"display: table-cell;\"></div><div style=\"display: table-cell;\">output_backend&nbsp;=&nbsp;'canvas',</div></div><div class=\"p1112\" style=\"display: none;\"><div style=\"display: table-cell;\"></div><div style=\"display: table-cell;\">renderers&nbsp;=&nbsp;[GlyphRenderer(id='p1104', ...)],</div></div><div class=\"p1112\" style=\"display: none;\"><div style=\"display: table-cell;\"></div><div style=\"display: table-cell;\">reset_policy&nbsp;=&nbsp;'standard',</div></div><div class=\"p1112\" style=\"display: none;\"><div style=\"display: table-cell;\"></div><div style=\"display: table-cell;\">resizable&nbsp;=&nbsp;False,</div></div><div class=\"p1112\" style=\"display: none;\"><div style=\"display: table-cell;\"></div><div style=\"display: table-cell;\">right&nbsp;=&nbsp;[],</div></div><div class=\"p1112\" style=\"display: none;\"><div style=\"display: table-cell;\"></div><div style=\"display: table-cell;\">sizing_mode&nbsp;=&nbsp;None,</div></div><div class=\"p1112\" style=\"display: none;\"><div style=\"display: table-cell;\"></div><div style=\"display: table-cell;\">styles&nbsp;=&nbsp;{},</div></div><div class=\"p1112\" style=\"display: none;\"><div style=\"display: table-cell;\"></div><div style=\"display: table-cell;\">stylesheets&nbsp;=&nbsp;[],</div></div><div class=\"p1112\" style=\"display: none;\"><div style=\"display: table-cell;\"></div><div style=\"display: table-cell;\">subscribed_events&nbsp;=&nbsp;PropertyValueSet(),</div></div><div class=\"p1112\" style=\"display: none;\"><div style=\"display: table-cell;\"></div><div style=\"display: table-cell;\">syncable&nbsp;=&nbsp;True,</div></div><div class=\"p1112\" style=\"display: none;\"><div style=\"display: table-cell;\"></div><div style=\"display: table-cell;\">tags&nbsp;=&nbsp;[],</div></div><div class=\"p1112\" style=\"display: none;\"><div style=\"display: table-cell;\"></div><div style=\"display: table-cell;\">title&nbsp;=&nbsp;Title(id='p1071', ...),</div></div><div class=\"p1112\" style=\"display: none;\"><div style=\"display: table-cell;\"></div><div style=\"display: table-cell;\">title_location&nbsp;=&nbsp;'above',</div></div><div class=\"p1112\" style=\"display: none;\"><div style=\"display: table-cell;\"></div><div style=\"display: table-cell;\">toolbar&nbsp;=&nbsp;Toolbar(id='p1072', ...),</div></div><div class=\"p1112\" style=\"display: none;\"><div style=\"display: table-cell;\"></div><div style=\"display: table-cell;\">toolbar_inner&nbsp;=&nbsp;False,</div></div><div class=\"p1112\" style=\"display: none;\"><div style=\"display: table-cell;\"></div><div style=\"display: table-cell;\">toolbar_location&nbsp;=&nbsp;'right',</div></div><div class=\"p1112\" style=\"display: none;\"><div style=\"display: table-cell;\"></div><div style=\"display: table-cell;\">toolbar_sticky&nbsp;=&nbsp;True,</div></div><div class=\"p1112\" style=\"display: none;\"><div style=\"display: table-cell;\"></div><div style=\"display: table-cell;\">visible&nbsp;=&nbsp;True,</div></div><div class=\"p1112\" style=\"display: none;\"><div style=\"display: table-cell;\"></div><div style=\"display: table-cell;\">width&nbsp;=&nbsp;600,</div></div><div class=\"p1112\" style=\"display: none;\"><div style=\"display: table-cell;\"></div><div style=\"display: table-cell;\">width_policy&nbsp;=&nbsp;'auto',</div></div><div class=\"p1112\" style=\"display: none;\"><div style=\"display: table-cell;\"></div><div style=\"display: table-cell;\">window_axis&nbsp;=&nbsp;'none',</div></div><div class=\"p1112\" style=\"display: none;\"><div style=\"display: table-cell;\"></div><div style=\"display: table-cell;\">x_range&nbsp;=&nbsp;DataRange1d(id='p1065', ...),</div></div><div class=\"p1112\" style=\"display: none;\"><div style=\"display: table-cell;\"></div><div style=\"display: table-cell;\">x_scale&nbsp;=&nbsp;LinearScale(id='p1073', ...),</div></div><div class=\"p1112\" style=\"display: none;\"><div style=\"display: table-cell;\"></div><div style=\"display: table-cell;\">y_range&nbsp;=&nbsp;DataRange1d(id='p1066', ...),</div></div><div class=\"p1112\" style=\"display: none;\"><div style=\"display: table-cell;\"></div><div style=\"display: table-cell;\">y_scale&nbsp;=&nbsp;LinearScale(id='p1074', ...))</div></div></div>\n",
              "<script>\n",
              "(function() {\n",
              "  let expanded = false;\n",
              "  const ellipsis = document.getElementById(\"p1113\");\n",
              "  ellipsis.addEventListener(\"click\", function() {\n",
              "    const rows = document.getElementsByClassName(\"p1112\");\n",
              "    for (let i = 0; i < rows.length; i++) {\n",
              "      const el = rows[i];\n",
              "      el.style.display = expanded ? \"none\" : \"table-row\";\n",
              "    }\n",
              "    ellipsis.innerHTML = expanded ? \"&hellip;)\" : \"&lsaquo;&lsaquo;&lsaquo;\";\n",
              "    expanded = !expanded;\n",
              "  });\n",
              "})();\n",
              "</script>\n"
            ]
          },
          "metadata": {},
          "execution_count": 33
        }
      ],
      "source": [
        "draw_vectors(word_vectors_pca[:, 0], word_vectors_pca[:, 1], token=words)\n",
        "\n",
        "# hover a mouse over there and see if you can identify the clusters"
      ]
    },
    {
      "cell_type": "markdown",
      "metadata": {
        "id": "6Uhq_t4HrrXN"
      },
      "source": [
        "### Visualizing neighbors with t-SNE\n",
        "PCA is nice but it's strictly linear and thus only able to capture coarse high-level structure of the data.\n",
        "\n",
        "If we instead want to focus on keeping neighboring points near, we could use TSNE, which is itself an embedding method. Here you can read __[more on TSNE](https://distill.pub/2016/misread-tsne/)__."
      ]
    },
    {
      "cell_type": "markdown",
      "source": [
        "## 1. What is t-SNE?\n",
        "\n",
        "**t-SNE (t-distributed Stochastic Neighbor Embedding)** is a **non-linear dimensionality reduction** algorithm designed for visualization.\n",
        "\n",
        "* PCA finds **global directions of variance** (linear projections).\n",
        "* t-SNE focuses on **local neighborhoods**: it tries to keep *similar points close together* and *dissimilar points far apart* in the 2D (or 3D) space.\n",
        "\n",
        "That’s why t-SNE usually produces clusters where similar words or phrases group tightly.\n",
        "\n",
        "---\n",
        "\n",
        "## 2. How t-SNE works (intuition)\n",
        "\n",
        "1. Start with high-dimensional vectors (e.g., 100D word embeddings).\n",
        "2. Compute **pairwise similarities** between points based on probability distributions.\n",
        "\n",
        "   * Similar items → high probability.\n",
        "   * Dissimilar items → low probability.\n",
        "3. Map data into 2D/3D and **adjust positions** so the similarity structure is preserved.\n",
        "\n",
        "   * Uses a **“student-t distribution”** to prevent distant points from crowding together.\n",
        "4. The result: clusters are more visually separated than PCA.\n",
        "\n",
        "---\n",
        "\n",
        "## 3. Why normalize after t-SNE\n",
        "\n",
        "* Just like PCA, the output of t-SNE can be shifted or scaled arbitrarily.\n",
        "* Normalization (zero mean, unit variance) makes the visualization **balanced** and easy to interpret.\n",
        "\n",
        "---\n",
        "\n",
        "## 4. Your code (annotated)\n",
        "\n",
        "```python\n",
        "from sklearn.manifold import TSNE\n",
        "from sklearn.preprocessing import StandardScaler\n",
        "\n",
        "# Step 1: Initialize t-SNE (map to 2D for visualization)\n",
        "tsne = TSNE(n_components=2, random_state=42, perplexity=30, n_iter=1000)\n",
        "\n",
        "# Step 2: Fit-transform word vectors\n",
        "word_tsne = tsne.fit_transform(word_vectors)\n",
        "\n",
        "# Step 3: Normalize results (zero mean, unit variance)\n",
        "scaler = StandardScaler()\n",
        "word_tsne = scaler.fit_transform(word_tsne)\n",
        "```\n",
        "\n",
        "---\n",
        "\n",
        "## 5. PCA vs. t-SNE for embeddings\n",
        "\n",
        "| **Aspect**           | **PCA** 🧮                               | **t-SNE** 🎨                    |\n",
        "| -------------------- | ---------------------------------------- | ------------------------------- |\n",
        "| **Type**             | Linear projection                        | Non-linear, probabilistic       |\n",
        "| **Goal**             | Preserve global variance                 | Preserve local neighborhoods    |\n",
        "| **Speed**            | Fast                                     | Much slower                     |\n",
        "| **Interpretability** | Easy (directions = principal components) | Harder (no simple axes meaning) |\n",
        "| **Visualization**    | Rough clusters, overlaps                 | Clear clusters, separation      |\n",
        "\n",
        "---\n"
      ],
      "metadata": {
        "id": "bx__Lbb6CZSX"
      }
    },
    {
      "cell_type": "code",
      "execution_count": 36,
      "metadata": {
        "colab": {
          "base_uri": "https://localhost:8080/",
          "height": 0
        },
        "id": "A3bnhuhcrrXN",
        "outputId": "2e599dba-1822-46b8-98c2-b11ee822e961"
      },
      "outputs": [
        {
          "output_type": "stream",
          "name": "stderr",
          "text": [
            "/usr/local/lib/python3.12/dist-packages/sklearn/manifold/_t_sne.py:1164: FutureWarning: 'n_iter' was renamed to 'max_iter' in version 1.5 and will be removed in 1.7.\n",
            "  warnings.warn(\n"
          ]
        },
        {
          "output_type": "stream",
          "name": "stdout",
          "text": [
            "t-SNE word vectors shape: (1000, 2)\n"
          ]
        }
      ],
      "source": [
        "from sklearn.manifold import TSNE\n",
        "from sklearn.preprocessing import StandardScaler\n",
        "\n",
        "# Initialize t-SNE to reduce embeddings from 100 dimensions → 2 dimensions\n",
        "# - n_components=2: we want 2D output for visualization\n",
        "# - random_state=42: for reproducibility\n",
        "# - init=\"pca\": initialize with PCA for faster convergence\n",
        "# - perplexity=30: balances local vs. global structure (acts like neighborhood size)\n",
        "# - n_iter=1000: number of optimization iterations (t-SNE needs many steps)\n",
        "tsne = TSNE(n_components=2, random_state=42, init=\"pca\", perplexity=30, n_iter=1000)\n",
        "\n",
        "# Fit t-SNE on the word vectors and transform them into 2D coordinates\n",
        "word_tsne = tsne.fit_transform(word_vectors)\n",
        "\n",
        "# Normalize the resulting 2D vectors so they have zero mean and unit variance\n",
        "# This makes plots more stable and comparable across different runs\n",
        "word_tsne = StandardScaler().fit_transform(word_tsne)\n",
        "\n",
        "print(\"t-SNE word vectors shape:\", word_tsne.shape)  # should be (len(words), 2)\n",
        "\n"
      ]
    },
    {
      "cell_type": "code",
      "execution_count": 37,
      "metadata": {
        "collapsed": true,
        "scrolled": false,
        "colab": {
          "base_uri": "https://localhost:8080/",
          "height": 434
        },
        "id": "9FaWZJA3rrXN",
        "outputId": "480d60d6-4576-4af4-edf6-562fd4f045ed"
      },
      "outputs": [
        {
          "output_type": "display_data",
          "data": {
            "application/javascript": [
              "'use strict';\n",
              "(function(root) {\n",
              "  function now() {\n",
              "    return new Date();\n",
              "  }\n",
              "\n",
              "  const force = true;\n",
              "\n",
              "  if (typeof root._bokeh_onload_callbacks === \"undefined\" || force === true) {\n",
              "    root._bokeh_onload_callbacks = [];\n",
              "    root._bokeh_is_loading = undefined;\n",
              "  }\n",
              "\n",
              "const JS_MIME_TYPE = 'application/javascript';\n",
              "  const HTML_MIME_TYPE = 'text/html';\n",
              "  const EXEC_MIME_TYPE = 'application/vnd.bokehjs_exec.v0+json';\n",
              "  const CLASS_NAME = 'output_bokeh rendered_html';\n",
              "\n",
              "  /**\n",
              "   * Render data to the DOM node\n",
              "   */\n",
              "  function render(props, node) {\n",
              "    const script = document.createElement(\"script\");\n",
              "    node.appendChild(script);\n",
              "  }\n",
              "\n",
              "  /**\n",
              "   * Handle when an output is cleared or removed\n",
              "   */\n",
              "  function handleClearOutput(event, handle) {\n",
              "    function drop(id) {\n",
              "      const view = Bokeh.index.get_by_id(id)\n",
              "      if (view != null) {\n",
              "        view.model.document.clear()\n",
              "        Bokeh.index.delete(view)\n",
              "      }\n",
              "    }\n",
              "\n",
              "    const cell = handle.cell;\n",
              "\n",
              "    const id = cell.output_area._bokeh_element_id;\n",
              "    const server_id = cell.output_area._bokeh_server_id;\n",
              "\n",
              "    // Clean up Bokeh references\n",
              "    if (id != null) {\n",
              "      drop(id)\n",
              "    }\n",
              "\n",
              "    if (server_id !== undefined) {\n",
              "      // Clean up Bokeh references\n",
              "      const cmd_clean = \"from bokeh.io.state import curstate; print(curstate().uuid_to_server['\" + server_id + \"'].get_sessions()[0].document.roots[0]._id)\";\n",
              "      cell.notebook.kernel.execute(cmd_clean, {\n",
              "        iopub: {\n",
              "          output: function(msg) {\n",
              "            const id = msg.content.text.trim()\n",
              "            drop(id)\n",
              "          }\n",
              "        }\n",
              "      });\n",
              "      // Destroy server and session\n",
              "      const cmd_destroy = \"import bokeh.io.notebook as ion; ion.destroy_server('\" + server_id + \"')\";\n",
              "      cell.notebook.kernel.execute(cmd_destroy);\n",
              "    }\n",
              "  }\n",
              "\n",
              "  /**\n",
              "   * Handle when a new output is added\n",
              "   */\n",
              "  function handleAddOutput(event, handle) {\n",
              "    const output_area = handle.output_area;\n",
              "    const output = handle.output;\n",
              "\n",
              "    // limit handleAddOutput to display_data with EXEC_MIME_TYPE content only\n",
              "    if ((output.output_type != \"display_data\") || (!Object.prototype.hasOwnProperty.call(output.data, EXEC_MIME_TYPE))) {\n",
              "      return\n",
              "    }\n",
              "\n",
              "    const toinsert = output_area.element.find(\".\" + CLASS_NAME.split(' ')[0]);\n",
              "\n",
              "    if (output.metadata[EXEC_MIME_TYPE][\"id\"] !== undefined) {\n",
              "      toinsert[toinsert.length - 1].firstChild.textContent = output.data[JS_MIME_TYPE];\n",
              "      // store reference to embed id on output_area\n",
              "      output_area._bokeh_element_id = output.metadata[EXEC_MIME_TYPE][\"id\"];\n",
              "    }\n",
              "    if (output.metadata[EXEC_MIME_TYPE][\"server_id\"] !== undefined) {\n",
              "      const bk_div = document.createElement(\"div\");\n",
              "      bk_div.innerHTML = output.data[HTML_MIME_TYPE];\n",
              "      const script_attrs = bk_div.children[0].attributes;\n",
              "      for (let i = 0; i < script_attrs.length; i++) {\n",
              "        toinsert[toinsert.length - 1].firstChild.setAttribute(script_attrs[i].name, script_attrs[i].value);\n",
              "        toinsert[toinsert.length - 1].firstChild.textContent = bk_div.children[0].textContent\n",
              "      }\n",
              "      // store reference to server id on output_area\n",
              "      output_area._bokeh_server_id = output.metadata[EXEC_MIME_TYPE][\"server_id\"];\n",
              "    }\n",
              "  }\n",
              "\n",
              "  function register_renderer(events, OutputArea) {\n",
              "\n",
              "    function append_mime(data, metadata, element) {\n",
              "      // create a DOM node to render to\n",
              "      const toinsert = this.create_output_subarea(\n",
              "        metadata,\n",
              "        CLASS_NAME,\n",
              "        EXEC_MIME_TYPE\n",
              "      );\n",
              "      this.keyboard_manager.register_events(toinsert);\n",
              "      // Render to node\n",
              "      const props = {data: data, metadata: metadata[EXEC_MIME_TYPE]};\n",
              "      render(props, toinsert[toinsert.length - 1]);\n",
              "      element.append(toinsert);\n",
              "      return toinsert\n",
              "    }\n",
              "\n",
              "    /* Handle when an output is cleared or removed */\n",
              "    events.on('clear_output.CodeCell', handleClearOutput);\n",
              "    events.on('delete.Cell', handleClearOutput);\n",
              "\n",
              "    /* Handle when a new output is added */\n",
              "    events.on('output_added.OutputArea', handleAddOutput);\n",
              "\n",
              "    /**\n",
              "     * Register the mime type and append_mime function with output_area\n",
              "     */\n",
              "    OutputArea.prototype.register_mime_type(EXEC_MIME_TYPE, append_mime, {\n",
              "      /* Is output safe? */\n",
              "      safe: true,\n",
              "      /* Index of renderer in `output_area.display_order` */\n",
              "      index: 0\n",
              "    });\n",
              "  }\n",
              "\n",
              "  // register the mime type if in Jupyter Notebook environment and previously unregistered\n",
              "  if (root.Jupyter !== undefined) {\n",
              "    const events = require('base/js/events');\n",
              "    const OutputArea = require('notebook/js/outputarea').OutputArea;\n",
              "\n",
              "    if (OutputArea.prototype.mime_types().indexOf(EXEC_MIME_TYPE) == -1) {\n",
              "      register_renderer(events, OutputArea);\n",
              "    }\n",
              "  }\n",
              "  if (typeof (root._bokeh_timeout) === \"undefined\" || force === true) {\n",
              "    root._bokeh_timeout = Date.now() + 5000;\n",
              "    root._bokeh_failed_load = false;\n",
              "  }\n",
              "\n",
              "  const NB_LOAD_WARNING = {'data': {'text/html':\n",
              "     \"<div style='background-color: #fdd'>\\n\"+\n",
              "     \"<p>\\n\"+\n",
              "     \"BokehJS does not appear to have successfully loaded. If loading BokehJS from CDN, this \\n\"+\n",
              "     \"may be due to a slow or bad network connection. Possible fixes:\\n\"+\n",
              "     \"</p>\\n\"+\n",
              "     \"<ul>\\n\"+\n",
              "     \"<li>re-rerun `output_notebook()` to attempt to load from CDN again, or</li>\\n\"+\n",
              "     \"<li>use INLINE resources instead, as so:</li>\\n\"+\n",
              "     \"</ul>\\n\"+\n",
              "     \"<code>\\n\"+\n",
              "     \"from bokeh.resources import INLINE\\n\"+\n",
              "     \"output_notebook(resources=INLINE)\\n\"+\n",
              "     \"</code>\\n\"+\n",
              "     \"</div>\"}};\n",
              "\n",
              "  function display_loaded(error = null) {\n",
              "    const el = document.getElementById(null);\n",
              "    if (el != null) {\n",
              "      const html = (() => {\n",
              "        if (typeof root.Bokeh === \"undefined\") {\n",
              "          if (error == null) {\n",
              "            return \"BokehJS is loading ...\";\n",
              "          } else {\n",
              "            return \"BokehJS failed to load.\";\n",
              "          }\n",
              "        } else {\n",
              "          const prefix = `BokehJS ${root.Bokeh.version}`;\n",
              "          if (error == null) {\n",
              "            return `${prefix} successfully loaded.`;\n",
              "          } else {\n",
              "            return `${prefix} <b>encountered errors</b> while loading and may not function as expected.`;\n",
              "          }\n",
              "        }\n",
              "      })();\n",
              "      el.innerHTML = html;\n",
              "\n",
              "      if (error != null) {\n",
              "        const wrapper = document.createElement(\"div\");\n",
              "        wrapper.style.overflow = \"auto\";\n",
              "        wrapper.style.height = \"5em\";\n",
              "        wrapper.style.resize = \"vertical\";\n",
              "        const content = document.createElement(\"div\");\n",
              "        content.style.fontFamily = \"monospace\";\n",
              "        content.style.whiteSpace = \"pre-wrap\";\n",
              "        content.style.backgroundColor = \"rgb(255, 221, 221)\";\n",
              "        content.textContent = error.stack ?? error.toString();\n",
              "        wrapper.append(content);\n",
              "        el.append(wrapper);\n",
              "      }\n",
              "    } else if (Date.now() < root._bokeh_timeout) {\n",
              "      setTimeout(() => display_loaded(error), 100);\n",
              "    }\n",
              "  }\n",
              "\n",
              "  function run_callbacks() {\n",
              "    try {\n",
              "      root._bokeh_onload_callbacks.forEach(function(callback) {\n",
              "        if (callback != null)\n",
              "          callback();\n",
              "      });\n",
              "    } finally {\n",
              "      delete root._bokeh_onload_callbacks\n",
              "    }\n",
              "    console.debug(\"Bokeh: all callbacks have finished\");\n",
              "  }\n",
              "\n",
              "  function load_libs(css_urls, js_urls, callback) {\n",
              "    if (css_urls == null) css_urls = [];\n",
              "    if (js_urls == null) js_urls = [];\n",
              "\n",
              "    root._bokeh_onload_callbacks.push(callback);\n",
              "    if (root._bokeh_is_loading > 0) {\n",
              "      console.debug(\"Bokeh: BokehJS is being loaded, scheduling callback at\", now());\n",
              "      return null;\n",
              "    }\n",
              "    if (js_urls == null || js_urls.length === 0) {\n",
              "      run_callbacks();\n",
              "      return null;\n",
              "    }\n",
              "    console.debug(\"Bokeh: BokehJS not loaded, scheduling load and callback at\", now());\n",
              "    root._bokeh_is_loading = css_urls.length + js_urls.length;\n",
              "\n",
              "    function on_load() {\n",
              "      root._bokeh_is_loading--;\n",
              "      if (root._bokeh_is_loading === 0) {\n",
              "        console.debug(\"Bokeh: all BokehJS libraries/stylesheets loaded\");\n",
              "        run_callbacks()\n",
              "      }\n",
              "    }\n",
              "\n",
              "    function on_error(url) {\n",
              "      console.error(\"failed to load \" + url);\n",
              "    }\n",
              "\n",
              "    for (let i = 0; i < css_urls.length; i++) {\n",
              "      const url = css_urls[i];\n",
              "      const element = document.createElement(\"link\");\n",
              "      element.onload = on_load;\n",
              "      element.onerror = on_error.bind(null, url);\n",
              "      element.rel = \"stylesheet\";\n",
              "      element.type = \"text/css\";\n",
              "      element.href = url;\n",
              "      console.debug(\"Bokeh: injecting link tag for BokehJS stylesheet: \", url);\n",
              "      document.body.appendChild(element);\n",
              "    }\n",
              "\n",
              "    for (let i = 0; i < js_urls.length; i++) {\n",
              "      const url = js_urls[i];\n",
              "      const element = document.createElement('script');\n",
              "      element.onload = on_load;\n",
              "      element.onerror = on_error.bind(null, url);\n",
              "      element.async = false;\n",
              "      element.src = url;\n",
              "      console.debug(\"Bokeh: injecting script tag for BokehJS library: \", url);\n",
              "      document.head.appendChild(element);\n",
              "    }\n",
              "  };\n",
              "\n",
              "  function inject_raw_css(css) {\n",
              "    const element = document.createElement(\"style\");\n",
              "    element.appendChild(document.createTextNode(css));\n",
              "    document.body.appendChild(element);\n",
              "  }\n",
              "\n",
              "  const js_urls = [\"https://cdn.bokeh.org/bokeh/release/bokeh-3.8.0.min.js\", \"https://cdn.bokeh.org/bokeh/release/bokeh-gl-3.8.0.min.js\", \"https://cdn.bokeh.org/bokeh/release/bokeh-widgets-3.8.0.min.js\", \"https://cdn.bokeh.org/bokeh/release/bokeh-tables-3.8.0.min.js\", \"https://cdn.bokeh.org/bokeh/release/bokeh-mathjax-3.8.0.min.js\"];\n",
              "  const css_urls = [];\n",
              "\n",
              "  const inline_js = [    function(Bokeh) {\n",
              "      Bokeh.set_log_level(\"info\");\n",
              "    },\n",
              "function(Bokeh) {\n",
              "    }\n",
              "  ];\n",
              "\n",
              "  function run_inline_js() {\n",
              "    if (root.Bokeh !== undefined || force === true) {\n",
              "      try {\n",
              "            for (let i = 0; i < inline_js.length; i++) {\n",
              "      inline_js[i].call(root, root.Bokeh);\n",
              "    }\n",
              "\n",
              "      } catch (error) {throw error;\n",
              "      }} else if (Date.now() < root._bokeh_timeout) {\n",
              "      setTimeout(run_inline_js, 100);\n",
              "    } else if (!root._bokeh_failed_load) {\n",
              "      console.log(\"Bokeh: BokehJS failed to load within specified timeout.\");\n",
              "      root._bokeh_failed_load = true;\n",
              "    } else if (force !== true) {\n",
              "      const cell = $(document.getElementById(null)).parents('.cell').data().cell;\n",
              "      cell.output_area.append_execute_result(NB_LOAD_WARNING)\n",
              "    }\n",
              "  }\n",
              "\n",
              "  if (root._bokeh_is_loading === 0) {\n",
              "    console.debug(\"Bokeh: BokehJS loaded, going straight to plotting\");\n",
              "    run_inline_js();\n",
              "  } else {\n",
              "    load_libs(css_urls, js_urls, function() {\n",
              "      console.debug(\"Bokeh: BokehJS plotting callback run at\", now());\n",
              "      run_inline_js();\n",
              "    });\n",
              "  }\n",
              "}(window));"
            ],
            "application/vnd.bokehjs_load.v0+json": "'use strict';\n(function(root) {\n  function now() {\n    return new Date();\n  }\n\n  const force = true;\n\n  if (typeof root._bokeh_onload_callbacks === \"undefined\" || force === true) {\n    root._bokeh_onload_callbacks = [];\n    root._bokeh_is_loading = undefined;\n  }\n\n\n  if (typeof (root._bokeh_timeout) === \"undefined\" || force === true) {\n    root._bokeh_timeout = Date.now() + 5000;\n    root._bokeh_failed_load = false;\n  }\n\n  const NB_LOAD_WARNING = {'data': {'text/html':\n     \"<div style='background-color: #fdd'>\\n\"+\n     \"<p>\\n\"+\n     \"BokehJS does not appear to have successfully loaded. If loading BokehJS from CDN, this \\n\"+\n     \"may be due to a slow or bad network connection. Possible fixes:\\n\"+\n     \"</p>\\n\"+\n     \"<ul>\\n\"+\n     \"<li>re-rerun `output_notebook()` to attempt to load from CDN again, or</li>\\n\"+\n     \"<li>use INLINE resources instead, as so:</li>\\n\"+\n     \"</ul>\\n\"+\n     \"<code>\\n\"+\n     \"from bokeh.resources import INLINE\\n\"+\n     \"output_notebook(resources=INLINE)\\n\"+\n     \"</code>\\n\"+\n     \"</div>\"}};\n\n  function display_loaded(error = null) {\n    const el = document.getElementById(null);\n    if (el != null) {\n      const html = (() => {\n        if (typeof root.Bokeh === \"undefined\") {\n          if (error == null) {\n            return \"BokehJS is loading ...\";\n          } else {\n            return \"BokehJS failed to load.\";\n          }\n        } else {\n          const prefix = `BokehJS ${root.Bokeh.version}`;\n          if (error == null) {\n            return `${prefix} successfully loaded.`;\n          } else {\n            return `${prefix} <b>encountered errors</b> while loading and may not function as expected.`;\n          }\n        }\n      })();\n      el.innerHTML = html;\n\n      if (error != null) {\n        const wrapper = document.createElement(\"div\");\n        wrapper.style.overflow = \"auto\";\n        wrapper.style.height = \"5em\";\n        wrapper.style.resize = \"vertical\";\n        const content = document.createElement(\"div\");\n        content.style.fontFamily = \"monospace\";\n        content.style.whiteSpace = \"pre-wrap\";\n        content.style.backgroundColor = \"rgb(255, 221, 221)\";\n        content.textContent = error.stack ?? error.toString();\n        wrapper.append(content);\n        el.append(wrapper);\n      }\n    } else if (Date.now() < root._bokeh_timeout) {\n      setTimeout(() => display_loaded(error), 100);\n    }\n  }\n\n  function run_callbacks() {\n    try {\n      root._bokeh_onload_callbacks.forEach(function(callback) {\n        if (callback != null)\n          callback();\n      });\n    } finally {\n      delete root._bokeh_onload_callbacks\n    }\n    console.debug(\"Bokeh: all callbacks have finished\");\n  }\n\n  function load_libs(css_urls, js_urls, callback) {\n    if (css_urls == null) css_urls = [];\n    if (js_urls == null) js_urls = [];\n\n    root._bokeh_onload_callbacks.push(callback);\n    if (root._bokeh_is_loading > 0) {\n      console.debug(\"Bokeh: BokehJS is being loaded, scheduling callback at\", now());\n      return null;\n    }\n    if (js_urls == null || js_urls.length === 0) {\n      run_callbacks();\n      return null;\n    }\n    console.debug(\"Bokeh: BokehJS not loaded, scheduling load and callback at\", now());\n    root._bokeh_is_loading = css_urls.length + js_urls.length;\n\n    function on_load() {\n      root._bokeh_is_loading--;\n      if (root._bokeh_is_loading === 0) {\n        console.debug(\"Bokeh: all BokehJS libraries/stylesheets loaded\");\n        run_callbacks()\n      }\n    }\n\n    function on_error(url) {\n      console.error(\"failed to load \" + url);\n    }\n\n    for (let i = 0; i < css_urls.length; i++) {\n      const url = css_urls[i];\n      const element = document.createElement(\"link\");\n      element.onload = on_load;\n      element.onerror = on_error.bind(null, url);\n      element.rel = \"stylesheet\";\n      element.type = \"text/css\";\n      element.href = url;\n      console.debug(\"Bokeh: injecting link tag for BokehJS stylesheet: \", url);\n      document.body.appendChild(element);\n    }\n\n    for (let i = 0; i < js_urls.length; i++) {\n      const url = js_urls[i];\n      const element = document.createElement('script');\n      element.onload = on_load;\n      element.onerror = on_error.bind(null, url);\n      element.async = false;\n      element.src = url;\n      console.debug(\"Bokeh: injecting script tag for BokehJS library: \", url);\n      document.head.appendChild(element);\n    }\n  };\n\n  function inject_raw_css(css) {\n    const element = document.createElement(\"style\");\n    element.appendChild(document.createTextNode(css));\n    document.body.appendChild(element);\n  }\n\n  const js_urls = [\"https://cdn.bokeh.org/bokeh/release/bokeh-3.8.0.min.js\", \"https://cdn.bokeh.org/bokeh/release/bokeh-gl-3.8.0.min.js\", \"https://cdn.bokeh.org/bokeh/release/bokeh-widgets-3.8.0.min.js\", \"https://cdn.bokeh.org/bokeh/release/bokeh-tables-3.8.0.min.js\", \"https://cdn.bokeh.org/bokeh/release/bokeh-mathjax-3.8.0.min.js\"];\n  const css_urls = [];\n\n  const inline_js = [    function(Bokeh) {\n      Bokeh.set_log_level(\"info\");\n    },\nfunction(Bokeh) {\n    }\n  ];\n\n  function run_inline_js() {\n    if (root.Bokeh !== undefined || force === true) {\n      try {\n            for (let i = 0; i < inline_js.length; i++) {\n      inline_js[i].call(root, root.Bokeh);\n    }\n\n      } catch (error) {throw error;\n      }} else if (Date.now() < root._bokeh_timeout) {\n      setTimeout(run_inline_js, 100);\n    } else if (!root._bokeh_failed_load) {\n      console.log(\"Bokeh: BokehJS failed to load within specified timeout.\");\n      root._bokeh_failed_load = true;\n    } else if (force !== true) {\n      const cell = $(document.getElementById(null)).parents('.cell').data().cell;\n      cell.output_area.append_execute_result(NB_LOAD_WARNING)\n    }\n  }\n\n  if (root._bokeh_is_loading === 0) {\n    console.debug(\"Bokeh: BokehJS loaded, going straight to plotting\");\n    run_inline_js();\n  } else {\n    load_libs(css_urls, js_urls, function() {\n      console.debug(\"Bokeh: BokehJS plotting callback run at\", now());\n      run_inline_js();\n    });\n  }\n}(window));"
          },
          "metadata": {}
        },
        {
          "output_type": "display_data",
          "data": {
            "text/html": [
              "\n",
              "  <div id=\"d2916995-a9a4-419d-a10d-538cc766bf6f\" data-root-id=\"p1170\" style=\"display: contents;\"></div>\n"
            ]
          },
          "metadata": {}
        },
        {
          "output_type": "display_data",
          "data": {
            "application/javascript": [
              "(function(root) {\n",
              "  function embed_document(root) {\n",
              "  const docs_json = {\"2894b992-b498-40fc-9c9e-0da2d8bac658\":{\"version\":\"3.8.0\",\"title\":\"Bokeh Application\",\"config\":{\"type\":\"object\",\"name\":\"DocumentConfig\",\"id\":\"p1214\",\"attributes\":{\"notifications\":{\"type\":\"object\",\"name\":\"Notifications\",\"id\":\"p1215\"}}},\"roots\":[{\"type\":\"object\",\"name\":\"Figure\",\"id\":\"p1170\",\"attributes\":{\"height\":400,\"x_range\":{\"type\":\"object\",\"name\":\"DataRange1d\",\"id\":\"p1171\"},\"y_range\":{\"type\":\"object\",\"name\":\"DataRange1d\",\"id\":\"p1172\"},\"x_scale\":{\"type\":\"object\",\"name\":\"LinearScale\",\"id\":\"p1179\"},\"y_scale\":{\"type\":\"object\",\"name\":\"LinearScale\",\"id\":\"p1180\"},\"title\":{\"type\":\"object\",\"name\":\"Title\",\"id\":\"p1177\"},\"renderers\":[{\"type\":\"object\",\"name\":\"GlyphRenderer\",\"id\":\"p1210\",\"attributes\":{\"data_source\":{\"type\":\"object\",\"name\":\"ColumnDataSource\",\"id\":\"p1167\",\"attributes\":{\"selected\":{\"type\":\"object\",\"name\":\"Selection\",\"id\":\"p1168\",\"attributes\":{\"indices\":[],\"line_indices\":[]}},\"selection_policy\":{\"type\":\"object\",\"name\":\"UnionRenderers\",\"id\":\"p1169\"},\"data\":{\"type\":\"map\",\"entries\":[[\"x\",{\"type\":\"ndarray\",\"array\":{\"type\":\"bytes\",\"data\":\"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\"},\"shape\":[1000],\"dtype\":\"float32\",\"order\":\"little\"}],[\"y\",{\"type\":\"ndarray\",\"array\":{\"type\":\"bytes\",\"data\":\"H4sIAAEAAAAC/w2X+TsVahtGSwNCaU7IkFBpcuKQvd9nN5MoMhaSUJ2iQhNim4cMbSqUJCpJIcUp7PeWVFKaEF+pnFKhDI2a+/oL7h/WutZ13T4zzWlFlgU1rGdUt3cx1d/9iyoltuTqJCGIrGl/bTgFf3egI69tkDspjt/7qk0bTeVYactEevnFDAPjanhTtoQa6tJoydDdtE8vlaZM6sWJt9XQ58vpvG8HvSp2wyDxamGeWzfpTQom743bhVeyu/Go/y2dPxABeUslDJi7lUq1drP3xofpvkOWtEkmnq5FqLN1Eg1kCIsFKeeSSPi7Bt2ntGHpPwGy+WmsS74aBrVf2DmxF4XM1mQLy/dSz781cC0cw54K7uKf2Do+xvUnn/lAi049SBL+qhgLnfWR1Ny3TJjgkUWztHXh7KWLn7qLoTzgFzu2/Dm9W+1c2XxtDcb5WcNTP4rkhJvppOoeejlnFnbaOXBDqwC6uKKLcg2HQiZmGPR+aGFxRzacQ20oLO+H4KlaBtXudWZ7SubiqEaF4MqsSIwxuY53BiWU4rYMW1U0oLMvGkrJBmQbOZU+Td7CX6jtQ3XfUuQt9GMDbkaTve5/iKJ8XuViRwXyyqJLX0poelwlZbsdR3lfPbR+GuP+sSusTGW/UPnQKFG1QSpqX/yHzuZpaIscQlsaM4VJBmq4U7iA3qinUNuhVVDcpUobhH9RfutN/u7MFqpVMMGBIhPsLDrIR2cZcZvrz/lUkw4sN3BAeYsp86psYzN13rHpz4spys2JbqeqUWxitvB7iDViClVoz9hbsF81Q1he+j/MrkjkxqkqtMN0K/SHe1KtUS9dyT1G85cEVFRMXMLqYqu47uLRopTielqQPJhvC++ApmQ7nl4LJ+m+NBr8rIcWHU6jDfmBPDnfBNuX+5Jh91Z4tURi1RQVbtmvTE0eFjDyeSVdE/KaO+qGsbqmVjI88YmXVdTTkFcpFNisQwPuOUG48TUsM4Zj2KNxUC8qlfZabacnvmHYY6yD8Ch7+l/OBTp/YQOUbQfB53M+t1jxhky3RwnHL79F30stEHb7Li8zvI/Kkou079M8cr0fTkNXiWn3zAL+d5AYa00bcWmWiKvP8aAy6UiR/cBC9iVPjZ0S2BJ3+S18fWm06OD0XGgKWnnQ38cRsKSaDuU68EZ7H9ruv5rcVAbSNW0Z6B/NpJn3a2lGUhbYwFn0j9p89LywJ63kE9zQ4y4b3DZBZLUijD1w7eNjolOp5qAz5drupSEGrhSv5EzWcTrY93U4dPo0+avXdRTaLmX/W/xa6L/NDEXbhgDFmhhmFwSf9YGwGj+NjypzpxAaLeofLKJnz3zI2FIeZhW6KJAoiSYfc8dum1beVJ4Kj7vRiNy6FDKKoSj8kQJJSRncizSkS1PFFPJhPF64Xaemh6nMtv01a8ksrlRI7eNH12Tw5tpQmlN8kGbr3+ARjTkVaQ1KtOuqNR2JTMPT37601nQZ/3kkDonzlaUWdce4q7I++d/UgJOhAUW3J+KQuzZU9f+4kVRf2fbdnQq6J1GQY4D0/qcBvOHcdf5epZikFcupSyygl9oXcfn8Mrr+4x5ZTI6jVlktFqOgLDoy+AhV3XKF8X8S2Ot14ut7d8yr1sECKxGLMzaji9G2aI77T1gRTJTJdlPs+xrhjK1aFDNPgupeCZl77sH0rO303kOPSt8fI7orS6+ubaTrJu/570Qvdt6vC1tFgyl6Ygroii/dqDCl7KbttLMnhcUbp9LYR5fp/LkLTMb0uFBvSyyej2ivLJMLIx+vaBxYu4jGO9XwGepheLz0BmUOUZV2vDent9LZ2JQURD5y3ehumIM7qrPIveeWML66DV03kyG34zO1mxlj3MxTCHdVgdh+CrI+ytI9PUP68NKE3d3rjKFHHclvehrxaQmwzGugjopwCCyzpOK5p3jJaSVRttsKVH3nmKR1H7Wz9Gm4Wihb6pXIny0wRV6EDWQ0BRjvuBhZN8swYm86tHc3sDMtDTQ2+BktdXzHctQHkF34MewP7uUVi77zpGGfTXt770qPjlCnl+YPeHJMK3sa/YgqTo6hzjNeNGGkBJ8nrpNeW7QHuTW+EC0yo0uT27jcIz36RxyBC53H8VbwF1d/k44Zto8FDksZsGU0DX5/nRLUvaX1P5RErgE+7F6BHQ0yMKUQPyu+yfMMl1W7jGfqEyEcu4xG38xA2paT6Dn7Et0VqpS54CEzrFlCCi+9oF0Sy5pf3cJSjW1Yt0JEh/u+UnHuOjJ3eUIF048j65I3HUivhslVD4ob5oi/Gov4yp6bvNtNk3XWJ6Jmx282cz6DxhRTqjkuInnxKixaGQDx2NuVZ4KOwPvaCjzoXwNj6yJWm2xHkWvWUzuvguCHO37On8BHBtbz8Iz9fETNDYhHJzDX3Nns+FF3cqnfTKnCk3S1WwaFcUZ46rQXYdlyotAWFwgkB9BddRHG4kUk2++MmhOH6eT0bTTp4XAYBZ5jX43u82WtNrxx5D2uOCcShTrjSd7yG00Z9Zu3yYZR3aFmsozPY3LBazDd70979x/AqJ+mdOSdh1ByPYo8Bak0bmQIpM2/yCirsXL09VFUxgog5+lEV5zjMDd9osh+eDiNTfrJPgvNsTM7h3sHJGD6tYn8/L4dsH8+k/XuIX7YoZE5v5tLo+epUnTQSexav57uHDmBsx37edAsCe9ariWtVG1lPjUXmFP/Dkzd5If9rh+oJSiIh+SEwfXrMn5CJx7iC78pyoaRUtZ/tFJdWZRlKMsH3NDAhkkRyNsWwjpyHjNzZTmczrvBL9qM5+XJpziu5sDc8i0ORUyhafNOcGn7Fj6nNwsjhIUI7RwnymsdxOf2mWPaIEdh18cGfK+LI4/OMF4VIeEhxWcwIsSY9Q1IoBmKqiQaqSD0GxUvdNvvzrQUErHQajWVuahSt/9U6W1fR6a7diGUJbKVuscvcIcXzThyKwUbeByF9M9A28cYZjQxAan9pYhv+slKu86yiTwI894dROmqCaJhCo956YxE1sra8H1KCvVc3o+i+xJp6j0Jd/k7GVtvRNKmS4e4+fJK05c5pnRoxEiKcbokePDwMvXuPIAol73sXUExr54kpsYzB/BS/xCqpjiRi0TMr5QMlu4UuUKzeCjZTIgVrOjmTF+zGG91q7jHYy+maxtMTsMiUGWZht4ZY3FimhpqWtvJSNG9Um7VD551JRzUuonu5eTiUGgmTC+sQ/5VfcpedpSJ9wQiRuaT8NtZPey+W47AH8l09rQFbVk0D74+muzeugHY5atPrmr/wBHVrO9EAmbv1MFcgxqSUZehiIUL6V6tOdde4k4XnkRDLb+DhzdGQ/ptiSBmwl4a2hJFVueG07c7Z9GuVMy3fDhI68vN4T3dH9WrL6HocSeGXZhFz22W0T67HHrk+Rwt+RNE2z2DqL2mCuWfGlCWFoUXrsPxQeMI9vnlImTyEGowG0kNj62xx05ImboH4W1oTaN1fagrtZDdPPkcr0q24aHzIKqXZIC1RpBxyAc2/vxqund2Juk7yyF8xyn0bI+nO6bRcKxP5cMaNqHD7iItxjWs1vrI1VaX8UfVq+nkus10K+U0fikG8McKSpRBgTBcO1ja3hVEnw7rYOapVLwwWUkfOrJJmL+FzDS3IefcDV5mPY/me/tSXJ4eb2iModieVOELCwlyAnchHHZYV2hEmv8WIG7MSF52WoLmXfbokI9AqucV6J834607L1NPTicz1YtFwXUDag4+z8I/3WJ9LbJCJkzEZEt5Mgr6szfoIb5PDcGbQ8E0yctWOGNDLzLnt0L2aDw/LlzAAjy/kdbgVMLjEdTblYbb3k9hXaBKKwOrycJQh/wqfZHZO5dG9i8i7c5GXtcUR+mPxGSS68pOpmfAs7FJ6HJZTnRxrj1FKnayJ5FShFcQ9SjPg460Am4CKQq3jsGkiauoRc0FVW2P+GfNWFKo1oZfp7nZ8iepzCpgG4KUkilZq467mKuKdtx/xfLsvzCRfj17vOGPt4X19M1PTmSUlYTnvxJRstGDslflQPegKyKvviBvQxnp1XGBUHINxgaTfAjMZsL+bgbznl+MNaEOVFuylFS6FUVBXg10efNU0l4RiptFY0RVeir0tk2MlRarYKB8g53VlMMbqymY3b4Gw++oUo9nOZ2pyMVm7oHV6aH0eG0X+ke4QNXFB+qiMaL3ybZcKekR5WWux7hJAWCqGfRREsmD7FbRumgHiu6P4sljBPT2fAhVPQijaXaRiDCIYG5zd0IpzQdfV/awNVI/UnXOhf1QFyS8fAtTrowH3eF4R38+l7IiKbv+YWkrx6bsNaY5dtNoVOVP4Y/NRdLFLf6okjegFsVW1twjhv6aFjgMIRrrlMk8v8xjD3+vgcabRaitS8bbqZXc+2E2lKThbGtVEQQ3zVihTidWWJ9l8jcycF1jMoJHbaDmM/ncVfofjRL28CUjshDlKMa2mE2sY1w45P38qWxWNVdMr5SWxyawBK1MOna6kZIz29A+9SzLSklH60ZfbByrSi+UdCiuqxRLAxRFlubhSMpaTvL5m6jr60cWp6AoSldRoACLYO43MIjXz46hbudqLBcuxbq/a3Bg50GyML2MJfGZcPlVimD5h0Jx2AK4PvGsXHJ7O9l+s6K0jn66YfcX7jrOZV9etbE9xh9ZUEkiDnwcRfGpWaTetIk3bf1FV6SxGN6qXbkiXUHUWLGEUuclM7nvAjK8mc7HxyYhkAaiw62L/6hQwfyOPPwdLoCzbxz03j9H5/1d1HsmA0/jpPC96A+NystcozGezXLKogBZayoJsKFxBdE87w9zqxkZ6PK1IaVHx6ispwH/tgVRX8kDcgi/TeGCDER5/nEI/lT+tYmGV+nTvqxQHJjoL8wte8EvWrRVDlPSJPcNUag3O4o3F9fj9cAiyIgPk8TfhIKfJWJcj5gZqt7G54QcetIahf8DbvS2b6APAAA=\"},\"shape\":[1000],\"dtype\":\"float32\",\"order\":\"little\"}],[\"color\",[\"green\",\"green\",\"green\",\"green\",\"green\",\"green\",\"green\",\"green\",\"green\",\"green\",\"green\",\"green\",\"green\",\"green\",\"green\",\"green\",\"green\",\"green\",\"green\",\"green\",\"green\",\"green\",\"green\",\"green\",\"green\",\"green\",\"green\",\"green\",\"green\",\"green\",\"green\",\"green\",\"green\",\"green\",\"green\",\"green\",\"green\",\"green\",\"green\",\"green\",\"green\",\"green\",\"green\",\"green\",\"green\",\"green\",\"green\",\"green\",\"green\",\"green\",\"green\",\"green\",\"green\",\"green\",\"green\",\"green\",\"green\",\"green\",\"green\",\"green\",\"green\",\"green\",\"green\",\"green\",\"green\",\"green\",\"green\",\"green\",\"green\",\"green\",\"green\",\"green\",\"green\",\"green\",\"green\",\"green\",\"green\",\"green\",\"green\",\"green\",\"green\",\"green\",\"green\",\"green\",\"green\",\"green\",\"green\",\"green\",\"green\",\"green\",\"green\",\"green\",\"green\",\"green\",\"green\",\"green\",\"green\",\"green\",\"green\",\"green\",\"green\",\"green\",\"green\",\"green\",\"green\",\"green\",\"green\",\"green\",\"green\",\"green\",\"green\",\"green\",\"green\",\"green\",\"green\",\"green\",\"green\",\"green\",\"green\",\"green\",\"green\",\"green\",\"green\",\"green\",\"green\",\"green\",\"green\",\"green\",\"green\",\"green\",\"green\",\"green\",\"green\",\"green\",\"green\",\"green\",\"green\",\"green\",\"green\",\"green\",\"green\",\"green\",\"green\",\"green\",\"green\",\"green\",\"green\",\"green\",\"green\",\"green\",\"green\",\"green\",\"green\",\"green\",\"green\",\"green\",\"green\",\"green\",\"green\",\"green\",\"green\",\"green\",\"green\",\"green\",\"green\",\"green\",\"green\",\"green\",\"green\",\"green\",\"green\",\"green\",\"green\",\"green\",\"green\",\"green\",\"green\",\"green\",\"green\",\"green\",\"green\",\"green\",\"green\",\"green\",\"green\",\"green\",\"green\",\"green\",\"green\",\"green\",\"green\",\"green\",\"green\",\"green\",\"green\",\"green\",\"green\",\"green\",\"green\",\"green\",\"green\",\"green\",\"green\",\"green\",\"green\",\"green\",\"green\",\"green\",\"green\",\"green\",\"green\",\"green\",\"green\",\"green\",\"green\",\"green\",\"green\",\"green\",\"green\",\"green\",\"green\",\"green\",\"green\",\"green\",\"green\",\"green\",\"green\",\"green\",\"green\",\"green\",\"green\",\"green\",\"green\",\"green\",\"green\",\"green\",\"green\",\"green\",\"green\",\"green\",\"green\",\"green\",\"green\",\"green\",\"green\",\"green\",\"green\",\"green\",\"green\",\"green\",\"green\",\"green\",\"green\",\"green\",\"green\",\"green\",\"green\",\"green\",\"green\",\"green\",\"green\",\"green\",\"green\",\"green\",\"green\",\"green\",\"green\",\"green\",\"green\",\"green\",\"green\",\"green\",\"green\",\"green\",\"green\",\"green\",\"green\",\"green\",\"green\",\"green\",\"green\",\"green\",\"green\",\"green\",\"green\",\"green\",\"green\",\"green\",\"green\",\"green\",\"green\",\"green\",\"green\",\"green\",\"green\",\"green\",\"green\",\"green\",\"green\",\"green\",\"green\",\"green\",\"green\",\"green\",\"green\",\"green\",\"green\",\"green\",\"green\",\"green\",\"green\",\"green\",\"green\",\"green\",\"green\",\"green\",\"green\",\"green\",\"green\",\"green\",\"green\",\"green\",\"green\",\"green\",\"green\",\"green\",\"green\",\"green\",\"green\",\"green\",\"green\",\"green\",\"green\",\"green\",\"green\",\"green\",\"green\",\"green\",\"green\",\"green\",\"green\",\"green\",\"green\",\"green\",\"green\",\"green\",\"green\",\"green\",\"green\",\"green\",\"green\",\"green\",\"green\",\"green\",\"green\",\"green\",\"green\",\"green\",\"green\",\"green\",\"green\",\"green\",\"green\",\"green\",\"green\",\"green\",\"green\",\"green\",\"green\",\"green\",\"green\",\"green\",\"green\",\"green\",\"green\",\"green\",\"green\",\"green\",\"green\",\"green\",\"green\",\"green\",\"green\",\"green\",\"green\",\"green\",\"green\",\"green\",\"green\",\"green\",\"green\",\"green\",\"green\",\"green\",\"green\",\"green\",\"green\",\"green\",\"green\",\"green\",\"green\",\"green\",\"green\",\"green\",\"green\",\"green\",\"green\",\"green\",\"green\",\"green\",\"green\",\"green\",\"green\",\"green\",\"green\",\"green\",\"green\",\"green\",\"green\",\"green\",\"green\",\"green\",\"green\",\"green\",\"green\",\"green\",\"green\",\"green\",\"green\",\"green\",\"green\",\"green\",\"green\",\"green\",\"green\",\"green\",\"green\",\"green\",\"green\",\"green\",\"green\",\"green\",\"green\",\"green\",\"green\",\"green\",\"green\",\"green\",\"green\",\"green\",\"green\",\"green\",\"green\",\"green\",\"green\",\"green\",\"green\",\"green\",\"green\",\"green\",\"green\",\"green\",\"green\",\"green\",\"green\",\"green\",\"green\",\"green\",\"green\",\"green\",\"green\",\"green\",\"green\",\"green\",\"green\",\"green\",\"green\",\"green\",\"green\",\"green\",\"green\",\"green\",\"green\",\"green\",\"green\",\"green\",\"green\",\"green\",\"green\",\"green\",\"green\",\"green\",\"green\",\"green\",\"green\",\"green\",\"green\",\"green\",\"green\",\"green\",\"green\",\"green\",\"green\",\"green\",\"green\",\"green\",\"green\",\"green\",\"green\",\"green\",\"green\",\"green\",\"green\",\"green\",\"green\",\"green\",\"green\",\"green\",\"green\",\"green\",\"green\",\"green\",\"green\",\"green\",\"green\",\"green\",\"green\",\"green\",\"green\",\"green\",\"green\",\"green\",\"green\",\"green\",\"green\",\"green\",\"green\",\"green\",\"green\",\"green\",\"green\",\"green\",\"green\",\"green\",\"green\",\"green\",\"green\",\"green\",\"green\",\"green\",\"green\",\"green\",\"green\",\"green\",\"green\",\"green\",\"green\",\"green\",\"green\",\"green\",\"green\",\"green\",\"green\",\"green\",\"green\",\"green\",\"green\",\"green\",\"green\",\"green\",\"green\",\"green\",\"green\",\"green\",\"green\",\"green\",\"green\",\"green\",\"green\",\"green\",\"green\",\"green\",\"green\",\"green\",\"green\",\"green\",\"green\",\"green\",\"green\",\"green\",\"green\",\"green\",\"green\",\"green\",\"green\",\"green\",\"green\",\"green\",\"green\",\"green\",\"green\",\"green\",\"green\",\"green\",\"green\",\"green\",\"green\",\"green\",\"green\",\"green\",\"green\",\"green\",\"green\",\"green\",\"green\",\"green\",\"green\",\"green\",\"green\",\"green\",\"green\",\"green\",\"green\",\"green\",\"green\",\"green\",\"green\",\"green\",\"green\",\"green\",\"green\",\"green\",\"green\",\"green\",\"green\",\"green\",\"green\",\"green\",\"green\",\"green\",\"green\",\"green\",\"green\",\"green\",\"green\",\"green\",\"green\",\"green\",\"green\",\"green\",\"green\",\"green\",\"green\",\"green\",\"green\",\"green\",\"green\",\"green\",\"green\",\"green\",\"green\",\"green\",\"green\",\"green\",\"green\",\"green\",\"green\",\"green\",\"green\",\"green\",\"green\",\"green\",\"green\",\"green\",\"green\",\"green\",\"green\",\"green\",\"green\",\"green\",\"green\",\"green\",\"green\",\"green\",\"green\",\"green\",\"green\",\"green\",\"green\",\"green\",\"green\",\"green\",\"green\",\"green\",\"green\",\"green\",\"green\",\"green\",\"green\",\"green\",\"green\",\"green\",\"green\",\"green\",\"green\",\"green\",\"green\",\"green\",\"green\",\"green\",\"green\",\"green\",\"green\",\"green\",\"green\",\"green\",\"green\",\"green\",\"green\",\"green\",\"green\",\"green\",\"green\",\"green\",\"green\",\"green\",\"green\",\"green\",\"green\",\"green\",\"green\",\"green\",\"green\",\"green\",\"green\",\"green\",\"green\",\"green\",\"green\",\"green\",\"green\",\"green\",\"green\",\"green\",\"green\",\"green\",\"green\",\"green\",\"green\",\"green\",\"green\",\"green\",\"green\",\"green\",\"green\",\"green\",\"green\",\"green\",\"green\",\"green\",\"green\",\"green\",\"green\",\"green\",\"green\",\"green\",\"green\",\"green\",\"green\",\"green\",\"green\",\"green\",\"green\",\"green\",\"green\",\"green\",\"green\",\"green\",\"green\",\"green\",\"green\",\"green\",\"green\",\"green\",\"green\",\"green\",\"green\",\"green\",\"green\",\"green\",\"green\",\"green\",\"green\",\"green\",\"green\",\"green\",\"green\",\"green\",\"green\",\"green\",\"green\",\"green\",\"green\",\"green\",\"green\",\"green\",\"green\",\"green\",\"green\",\"green\",\"green\",\"green\",\"green\",\"green\",\"green\",\"green\",\"green\",\"green\",\"green\",\"green\",\"green\",\"green\",\"green\",\"green\",\"green\",\"green\",\"green\",\"green\",\"green\",\"green\",\"green\",\"green\",\"green\",\"green\",\"green\",\"green\",\"green\",\"green\",\"green\",\"green\",\"green\",\"green\",\"green\",\"green\",\"green\",\"green\",\"green\",\"green\",\"green\",\"green\",\"green\",\"green\",\"green\",\"green\",\"green\",\"green\",\"green\",\"green\",\"green\",\"green\",\"green\",\"green\",\"green\",\"green\",\"green\",\"green\",\"green\",\"green\",\"green\",\"green\",\"green\",\"green\",\"green\",\"green\",\"green\",\"green\",\"green\",\"green\",\"green\",\"green\",\"green\",\"green\",\"green\",\"green\",\"green\",\"green\",\"green\",\"green\",\"green\",\"green\",\"green\",\"green\",\"green\",\"green\",\"green\",\"green\",\"green\",\"green\",\"green\",\"green\",\"green\",\"green\",\"green\",\"green\",\"green\",\"green\",\"green\",\"green\",\"green\",\"green\",\"green\",\"green\",\"green\",\"green\",\"green\",\"green\",\"green\",\"green\",\"green\",\"green\",\"green\",\"green\",\"green\",\"green\",\"green\",\"green\",\"green\",\"green\",\"green\",\"green\",\"green\",\"green\",\"green\",\"green\",\"green\",\"green\",\"green\",\"green\",\"green\",\"green\",\"green\",\"green\",\"green\",\"green\",\"green\",\"green\",\"green\",\"green\",\"green\",\"green\",\"green\",\"green\",\"green\",\"green\",\"green\",\"green\",\"green\",\"green\",\"green\",\"green\",\"green\",\"green\",\"green\",\"green\",\"green\",\"green\",\"green\",\"green\",\"green\",\"green\",\"green\",\"green\",\"green\",\"green\",\"green\",\"green\",\"green\",\"green\",\"green\",\"green\",\"green\",\"green\",\"green\",\"green\",\"green\",\"green\",\"green\",\"green\",\"green\",\"green\",\"green\",\"green\",\"green\",\"green\",\"green\",\"green\",\"green\",\"green\",\"green\",\"green\"]],[\"token\",[\"<user>\",\".\",\":\",\"rt\",\",\",\"<repeat>\",\"<hashtag>\",\"<number>\",\"<url>\",\"!\",\"i\",\"a\",\"\\\"\",\"the\",\"?\",\"you\",\"to\",\"(\",\"<allcaps>\",\"<elong>\",\")\",\"me\",\"de\",\"<smile>\",\"\\uff01\",\"que\",\"and\",\"\\u3002\",\"-\",\"my\",\"no\",\"\\u3001\",\"is\",\"it\",\"\\u2026\",\"in\",\"n\",\"for\",\"/\",\"of\",\"la\",\"'s\",\"*\",\"do\",\"n't\",\"that\",\"on\",\"y\",\"'\",\"e\",\"o\",\"u\",\"en\",\"this\",\"el\",\"so\",\"be\",\"'m\",\"with\",\"just\",\">\",\"your\",\"^\",\"like\",\"have\",\"te\",\"at\",\"\\uff1f\",\"love\",\"se\",\"are\",\"<\",\"m\",\"r\",\"if\",\"all\",\"b\",\"\\u30fb\",\"not\",\"but\",\"we\",\"es\",\"ya\",\"&\",\"follow\",\"up\",\"what\",\"get\",\"lol\",\"un\",\"\\u2665\",\"lo\",\"when\",\"was\",\"\\u201c\",\"\\u201d\",\"one\",\"por\",\"si\",\"out\",\"_\",\"mi\",\"can\",\"<sadface>\",\"\\u0645\\u0646\",\"\\u2661\",\"\\u00b4\",\"he\",\"con\",\"they\",\"now\",\"go\",\"\\u060c\",\"para\",\"los\",\"know\",\"haha\",\"good\",\"tu\",\"back\",\"~\",\"about\",\"new\",\";\",\"as\",\"day\",\"how\",\"who\",\"will\",\"want\",\"people\",\"yo\",\"eu\",\"from\",\"di\",\"time\",\"<heart>\",\"s\",\"aku\",\"da\",\"'re\",\"<lolface>\",\"una\",\"got\",\"las\",\"more\",\"x\",\"she\",\"today\",\"\\uff08\",\">>\",\"k\",\"by\",\"or\",\"\\u0641\\u064a\",\"\\uff65\",\"too\",\"le\",\"\\u00e9\",\"|\",\"[\",\"\\uff09\",\"]\",\"see\",\"why\",\"yg\",\"ca\",\"como\",\"her\",\"\\u2014\",\"q\",\"need\",\"an\",\"na\",\"\\u7b11\",\"there\",\"\\u03c9\",\"happy\",\"im\",\"mas\",\"je\",\"life\",\"really\",\"make\",\"yang\",\"shit\",\"think\",\"t\",\"\\u2764\",\"n\\u00e3o\",\"never\",\"some\",\"\\uff5e\",\"oh\",\"\\u2605\",\"did\",\"would\",\"del\",\"`\",\"d\",\"please\",\"via\",\"much\",\"fuck\",\"al\",\"dia\",\"$\",\"\\u0648\",\"right\",\"best\",\"c\",\"going\",\"\\u0627\\u0644\\u0644\\u0647\",\"pero\",\"only\",\"has\",\"\\u266a\",\"'ll\",\"twitter\",\"=\",\"hahaha\",\"its\",\"nn\",\"\\uff40\",\"\\u00bf\",\"am\",\"say\",\"<neutralface>\",\"them\",\"here\",\"\\u0644\\u0627\",\"off\",\"still\",\"dan\",\"+\",\"night\",\"w\",\"ada\",\"someone\",\"even\",\"then\",\"\\u2606\",\"ni\",\"come\",\"com\",\"always\",\"man\",\"'ve\",\"been\",\"his\",\"itu\",\"\\u0639\\u0644\\u0649\",\"-_-\",\"\\u263a\",\"over\",\"um\",\"\\u0645\\u0627\",\"hate\",\"girl\",\"ai\",\"had\",\"pra\",\"todo\",\"mais\",\"feel\",\"let\",\"ini\",\"because\",\"\\uff9f\",\"thanks\",\"ah\",\"way\",\"ever\",\"look\",\"tweet\",\"followers\",\"should\",\"our\",\"xd\",\"aja\",\"esta\",\"school\",\"him\",\"ser\",\"take\",\"than\",\"video\",\"em\",\"last\",\"wanna\",\"does\",\"us\",\"miss\",\"l\",\"ga\",\"better\",\"well\",\"could\",\"\\u25bd\",\"%\",\"apa\",\"cuando\",\"team\",\"\\u2714\",\"@\",\"ok\",\"\\u061f\",\"\\u2022\",\"vida\",\"quiero\",\"les\",\"being\",\"real\",\"down\",\"kamu\",\"everyone\",\"gonna\",\"live\",\"tonight\",\"yes\",\"work\",\"ass\",\"retweet\",\"nada\",\"sama\",\"first\",\"<<\",\"photo\",\"tomorrow\",\"where\",\"god\",\"son\",\"ke\",\"ta\",\"f\",\"home\",\"lagi\",\"thank\",\"birthday\",\"\\u2588\",\"ha\",\"great\",\"lmao\",\"omg\",\"morning\",\"m\\u00e1s\",\"mau\",\"baby\",\"dont\",\"\\uff61\",\"their\",\"p\",\"things\",\"game\",\"pas\",\"bad\",\"year\",\"yeah\",\"su\",\"bitch\",\"\\u0432\",\"stop\",\"hoy\",\"something\",\"meu\",\"tak\",\"gak\",\"world\",\"amor\",\"h\",\"\\\\\",\"ver\",\"\\uff1b\",\"porque\",\"give\",\"these\",\"\\u0627\\u0644\\u0644\\u0647\\u0645\",\"were\",\"hay\",\"sleep\",\"gue\",\"every\",\"friends\",\"uma\",\"tell\",\"amo\",\"vou\",\"bien\",\"\\u00a1\",\"again\",\"\\uff3e\",\"\\uff0f\",\"done\",\"after\",\"todos\",\"girls\",\"guys\",\"getting\",\"big\",\"wait\",\"justin\",\"eh\",\"\\u2192\",\"kan\",\"kita\",\"jajaja\",\"wish\",\"said\",\"fucking\",\"show\",\"thing\",\"next\",\"voc\\u00ea\",\"nos\",\"little\",\"tengo\",\"keep\",\"person\",\"''\",\"\\u2200\",\"hope\",\"\\u0643\\u0644\",\"hey\",\"bisa\",\"free\",\"made\",\"foto\",\"va\",\"everything\",\"iya\",\"nigga\",\"eso\",\"et\",\"watch\",\"music\",\"week\",\"talk\",\"ne\",\"solo\",\"gente\",\"udah\",\"\\uff1a\",\"--\",\"\\uff3c\",\"mejor\",\"facebook\",\"ma\",\"v\",\"phone\",\"most\",\"same\",\"okay\",\"ik\",\"before\",\"minha\",\"days\",\"g\",\"ti\",\"damn\",\"nice\",\"voy\",\"vai\",\"call\",\"long\",\"tapi\",\"http\",\"sin\",\"nunca\",\"doing\",\"other\",\"find\",\"il\",\"sa\",\"sorry\",\"nya\",\"orang\",\"\\u00b0\",\"hard\",\"mean\",\"die\",\"\\u0627\\u0644\\u0644\\u064a\",\"tem\",\"soy\",\"este\",\"kalo\",\"s\\u00f3\",\"th\",\"win\",\"nothing\",\"into\",\"face\",\"cute\",\"'d\",\"gracias\",\"lah\",\"\\u0438\",\"any\",\"play\",\"\\u2190\",\"ko\",\"text\",\"\\u2323\",\"estoy\",\"tau\",\"ur\",\"buat\",\"#\",\"cause\",\"\\u044f\",\"put\",\"kau\",\"siempre\",\"juga\",\"casa\",\"\\u0623\\u0646\",\"help\",\"start\",\"feliz\",\"old\",\"ir\",\"very\",\"care\",\"bir\",\"makes\",\"song\",\"check\",\"watching\",\"ahora\",\"jadi\",\"os\",\"may\",\"friend\",\"beautiful\",\"heart\",\"ka\",\"vc\",\"mundo\",\"\\u043d\\u0430\",\"sure\",\"tan\",\"pretty\",\"aqui\",\"\\u043d\\u0435\",\"house\",\"\\u0631\\u062a\\u0648\\u064a\\u062a\",\"\\u064a\\u0627\",\"ja\",\"true\",\"muy\",\"away\",\"already\",\"actually\",\"believe\",\"try\",\"many\",\"ma\\u00f1ana\",\"mis\",\"lu\",\"those\",\"hot\",\"qu\\u00e9\",\"mal\",\"\\u0639\\u0646\",\"though\",\"ask\",\"amazing\",\"bed\",\"}\",\"two\",\"mom\",\"d\\u00eda\",\"ve\",\"dari\",\"gameinsight\",\"stay\",\"fun\",\"around\",\"van\",\"cont\",\"ready\",\"money\",\"bu\",\"funny\",\"cool\",\"hair\",\"\\u00e0\",\"tho\",\"{\",\"wo\",\"hi\",\"name\",\"tiene\",\"hahahaha\",\"pa\",\"algo\",\"gotta\",\"\\u0648\\u0644\\u0627\",\"boy\",\"another\",\"c'est\",\"hari\",\"jajajaja\",\"having\",\"cara\",\"jaja\",\"dm\",\"looking\",\"top\",\"android\",\"dah\",\"wow\",\"\\u2591\",\"eres\",\"ben\",\"must\",\"news\",\"met\",\"est\\u00e1\",\"nih\",\"family\",\"black\",\"thought\",\"nak\",\"super\",\"end\",\"hace\",\"remember\",\"ama\",\"party\",\"cant\",\"vamos\",\"anything\",\"anyone\",\"\\u0641\\u0648\\u0644\\u0648\",\"perfect\",\"guy\",\"vez\",\"christmas\",\"dos\",\"bueno\",\"nao\",\"years\",\"vote\",\"dormir\",\"bro\",\"else\",\"quien\",\"untuk\",\"jangan\",\"myself\",\"head\",\"mind\",\"gua\",\"talking\",\"while\",\"dat\",\"food\",\"\\u0434\",\"coming\",\"wkwk\",\"trying\",\"saya\",\"mucho\",\"without\",\"wrong\",\"\\u2019s\",\"baru\",\"__\",\"hehe\",\"hacer\",\"lot\",\"followed\",\"crazy\",\"hell\",\"feeling\",\"des\",\"kok\",\"j\",\"stats\",\"j'\",\"\\u0627\\u0646\",\"tweets\",\"non\",\"cosas\",\"era\",\"high\",\"niggas\",\"change\",\"movie\",\"xx\",\"mad\",\"sih\",\"sometimes\",\"deh\",\"allah\",\"through\",\"pour\",\"ela\",\"soon\",\"gone\",\"playing\",\"smile\",\"bukan\",\"tv\",\"fans\",\"hasta\",\"akan\",\"y'\",\"looks\",\"isso\",\"\\u270c\",\"tired\",\"boys\",\"might\",\"dong\",\"lg\",\"use\",\"maybe\",\"until\",\"menos\",\"own\",\"dengan\",\"eat\",\"ou\",\"weekend\",\"\\u02d8\",\"class\",\"ele\",\"harry\",\"iphone\",\"friday\",\"single\",\"ff\",\"awesome\",\"bout\",\"muito\",\"hoje\",\"\\u00ac\",\"dios\",\"such\",\"estar\",\"j\\u00e1\",\"quando\",\"esa\",\"making\",\"\\u2501\",\"times\",\"lmfao\",\"gw\",\"moment\",\"yet\",\"aw\",\"smh\",\"banget\",\"masih\",\"qui\",\"quem\",\"\\u2013\",\"leave\",\"du\",\"une\",\"guess\",\"hit\",\"\\u0441\",\"pm\",\"since\",\"pues\",\"est\",\"job\",\"\\uff89\",\"mana\",\"bom\",\"siapa\",\"suka\",\"bieber\",\"mention\",\"lebih\",\"favorite\",\"bitches\",\"forever\",\"\\u0644\\u064a\",\"final\",\"read\",\"alguien\",\"open\",\"yourself\",\"ese\",\"che\",\"sex\",\"yaa\",\"car\",\"direction\",\"tidak\",\"seu\",\"gets\",\"left\",\"re\",\"jam\",\"enough\",\"\\u0625\\u0644\\u0627\",\"once\",\"\\u2019\",\"part\",\"cada\",\"\\u5b9a\\u671f\",\"\\u0644\\u0643\",\"een\",\"seen\",\"kak\",\"as\\u00ed\",\"nem\",\"\\u0639\\u0645\\u0644\",\"white\",\"told\",\"says\",\"esto\",\"sad\",\"mo\",\"fue\",\"yah\",\"summer\",\"\\u0647\",\"\\u2b55\",\"\\u00bb\",\"thats\",\"\\u0645\\u0639\",\"posted\",\"wants\",\"agora\",\"together\",\"fan\",\"men\",\"hear\",\"full\",\"\\u2600\",\"sigo\",\"pq\",\"dulu\",\"plus\",\"foi\",\"tudo\",\"\\u0647\\u0648\",\"ill\",\"\\u3042\",\"thinking\",\"wtf\",\"pagi\",\"mama\",\"kalau\",\"hati\",\"sexy\",\"sayang\",\"baik\",\"semua\",\"hola\",\"went\",\"vos\",\"tanto\",\"finally\",\"fb\",\"sea\",\"stupid\",\"tus\",\"seriously\",\"hora\",\"min\",\"pic\",\"estas\",\"turn\",\"hours\",\"excited\",\"nah\",\"buy\",\"saying\",\"mah\",\"break\",\"needs\",\"ce\",\"room\",\"choice\",\"far\",\"dead\",\"quero\",\"saw\",\"kids\",\"lil\",\"whole\",\"puede\",\"fall\",\"sus\",\"lost\",\"asi\",\"word\",\"\\u2639\",\"also\",\"\\u0631\\u064a\\u062a\\u0648\\u064a\\u062a\",\"probably\",\"everybody\",\"tarde\",\"run\",\"sei\",\"follback\",\"forget\",\"sweet\",\"welcome\",\"selamat\",\"\\uff3f\",\"sur\",\"place\",\"gusta\",\"sabe\",\"androidgames\",\"tp\",\"tiempo\",\"\\u0628\\u0633\",\"sou\",\"tuh\",\"vs\",\"eyes\",\"\\u0627\\u0646\\u0627\",\"picture\",\"das\",\"meet\",\"anak\",\"persona\",\"essa\",\"bored\",\"following\",\"nadie\",\"nobody\",\"dice\",\"alone\",\"sick\",\"red\",\"city\",\"cinta\",\"\\u6708\",\"linda\",\"dream\",\"story\",\"km\",\"het\",\"waiting\",\"^_^\",\"mine\",\"\\u0447\\u0442\\u043e\",\"reason\",\"kk\",\"\\u0644\\u0648\",\"online\",\"fast\",\"udh\",\"wanted\",\"op\",\"others\",\"gay\",\"n\\u2019t\",\"used\",\"sem\",\"understand\",\"moi\",\"sm\",\"aint\",\"donde\",\"bem\",\"which\",\"ng\",\"followback\",\"punya\",\"late\",\"anda\",\"tidur\",\"puedo\",\"early\",\"nd\",\"personas\",\"banyak\",\"\\u2705\",\"\\u278a\",\"trust\",\"noche\",\"tl\",\"\\uff1e\",\"\\u00ab\",\"af\",\"move\",\"pro\",\"bring\",\"ku\",\"called\",\"relationship\",\"idk\",\"hurt\",\"st\",\"pernah\",\"pessoas\",\"hello\",\"uno\",\"unfollowers\",\"cry\"]]]}}},\"view\":{\"type\":\"object\",\"name\":\"CDSView\",\"id\":\"p1211\",\"attributes\":{\"filter\":{\"type\":\"object\",\"name\":\"AllIndices\",\"id\":\"p1212\"}}},\"glyph\":{\"type\":\"object\",\"name\":\"Scatter\",\"id\":\"p1207\",\"attributes\":{\"x\":{\"type\":\"field\",\"field\":\"x\"},\"y\":{\"type\":\"field\",\"field\":\"y\"},\"size\":{\"type\":\"value\",\"value\":10},\"line_color\":{\"type\":\"field\",\"field\":\"color\"},\"line_alpha\":{\"type\":\"value\",\"value\":0.25},\"fill_color\":{\"type\":\"field\",\"field\":\"color\"},\"fill_alpha\":{\"type\":\"value\",\"value\":0.25},\"hatch_color\":{\"type\":\"field\",\"field\":\"color\"},\"hatch_alpha\":{\"type\":\"value\",\"value\":0.25}}},\"nonselection_glyph\":{\"type\":\"object\",\"name\":\"Scatter\",\"id\":\"p1208\",\"attributes\":{\"x\":{\"type\":\"field\",\"field\":\"x\"},\"y\":{\"type\":\"field\",\"field\":\"y\"},\"size\":{\"type\":\"value\",\"value\":10},\"line_color\":{\"type\":\"field\",\"field\":\"color\"},\"line_alpha\":{\"type\":\"value\",\"value\":0.1},\"fill_color\":{\"type\":\"field\",\"field\":\"color\"},\"fill_alpha\":{\"type\":\"value\",\"value\":0.1},\"hatch_color\":{\"type\":\"field\",\"field\":\"color\"},\"hatch_alpha\":{\"type\":\"value\",\"value\":0.1}}},\"muted_glyph\":{\"type\":\"object\",\"name\":\"Scatter\",\"id\":\"p1209\",\"attributes\":{\"x\":{\"type\":\"field\",\"field\":\"x\"},\"y\":{\"type\":\"field\",\"field\":\"y\"},\"size\":{\"type\":\"value\",\"value\":10},\"line_color\":{\"type\":\"field\",\"field\":\"color\"},\"line_alpha\":{\"type\":\"value\",\"value\":0.2},\"fill_color\":{\"type\":\"field\",\"field\":\"color\"},\"fill_alpha\":{\"type\":\"value\",\"value\":0.2},\"hatch_color\":{\"type\":\"field\",\"field\":\"color\"},\"hatch_alpha\":{\"type\":\"value\",\"value\":0.2}}}}}],\"toolbar\":{\"type\":\"object\",\"name\":\"Toolbar\",\"id\":\"p1178\",\"attributes\":{\"tools\":[{\"type\":\"object\",\"name\":\"PanTool\",\"id\":\"p1191\"},{\"type\":\"object\",\"name\":\"WheelZoomTool\",\"id\":\"p1192\",\"attributes\":{\"renderers\":\"auto\"}},{\"type\":\"object\",\"name\":\"BoxZoomTool\",\"id\":\"p1193\",\"attributes\":{\"dimensions\":\"both\",\"overlay\":{\"type\":\"object\",\"name\":\"BoxAnnotation\",\"id\":\"p1194\",\"attributes\":{\"syncable\":false,\"line_color\":\"black\",\"line_alpha\":1.0,\"line_width\":2,\"line_dash\":[4,4],\"fill_color\":\"lightgrey\",\"fill_alpha\":0.5,\"level\":\"overlay\",\"visible\":false,\"left\":{\"type\":\"number\",\"value\":\"nan\"},\"right\":{\"type\":\"number\",\"value\":\"nan\"},\"top\":{\"type\":\"number\",\"value\":\"nan\"},\"bottom\":{\"type\":\"number\",\"value\":\"nan\"},\"left_units\":\"canvas\",\"right_units\":\"canvas\",\"top_units\":\"canvas\",\"bottom_units\":\"canvas\",\"handles\":{\"type\":\"object\",\"name\":\"BoxInteractionHandles\",\"id\":\"p1200\",\"attributes\":{\"all\":{\"type\":\"object\",\"name\":\"AreaVisuals\",\"id\":\"p1199\",\"attributes\":{\"fill_color\":\"white\",\"hover_fill_color\":\"lightgray\"}}}}}}}},{\"type\":\"object\",\"name\":\"SaveTool\",\"id\":\"p1201\"},{\"type\":\"object\",\"name\":\"ResetTool\",\"id\":\"p1202\"},{\"type\":\"object\",\"name\":\"HelpTool\",\"id\":\"p1203\"},{\"type\":\"object\",\"name\":\"HoverTool\",\"id\":\"p1213\",\"attributes\":{\"renderers\":\"auto\",\"tooltips\":[[\"token\",\"@token\"]],\"sort_by\":null}}],\"active_scroll\":{\"id\":\"p1192\"}}},\"left\":[{\"type\":\"object\",\"name\":\"LinearAxis\",\"id\":\"p1186\",\"attributes\":{\"ticker\":{\"type\":\"object\",\"name\":\"BasicTicker\",\"id\":\"p1187\",\"attributes\":{\"mantissas\":[1,2,5]}},\"formatter\":{\"type\":\"object\",\"name\":\"BasicTickFormatter\",\"id\":\"p1188\"},\"major_label_policy\":{\"type\":\"object\",\"name\":\"AllLabels\",\"id\":\"p1189\"}}}],\"below\":[{\"type\":\"object\",\"name\":\"LinearAxis\",\"id\":\"p1181\",\"attributes\":{\"ticker\":{\"type\":\"object\",\"name\":\"BasicTicker\",\"id\":\"p1182\",\"attributes\":{\"mantissas\":[1,2,5]}},\"formatter\":{\"type\":\"object\",\"name\":\"BasicTickFormatter\",\"id\":\"p1183\"},\"major_label_policy\":{\"type\":\"object\",\"name\":\"AllLabels\",\"id\":\"p1184\"}}}],\"center\":[{\"type\":\"object\",\"name\":\"Grid\",\"id\":\"p1185\",\"attributes\":{\"axis\":{\"id\":\"p1181\"}}},{\"type\":\"object\",\"name\":\"Grid\",\"id\":\"p1190\",\"attributes\":{\"dimension\":1,\"axis\":{\"id\":\"p1186\"}}}]}}]}};\n",
              "  const render_items = [{\"docid\":\"2894b992-b498-40fc-9c9e-0da2d8bac658\",\"roots\":{\"p1170\":\"d2916995-a9a4-419d-a10d-538cc766bf6f\"},\"root_ids\":[\"p1170\"]}];\n",
              "  void root.Bokeh.embed.embed_items_notebook(docs_json, render_items);\n",
              "  }\n",
              "  if (root.Bokeh !== undefined) {\n",
              "    embed_document(root);\n",
              "  } else {\n",
              "    let attempts = 0;\n",
              "    const timer = setInterval(function(root) {\n",
              "      if (root.Bokeh !== undefined) {\n",
              "        clearInterval(timer);\n",
              "        embed_document(root);\n",
              "      } else {\n",
              "        attempts++;\n",
              "        if (attempts > 100) {\n",
              "          clearInterval(timer);\n",
              "          console.log(\"Bokeh: ERROR: Unable to run BokehJS code because BokehJS library is missing\");\n",
              "        }\n",
              "      }\n",
              "    }, 10, root)\n",
              "  }\n",
              "})(window);"
            ],
            "application/vnd.bokehjs_exec.v0+json": ""
          },
          "metadata": {
            "application/vnd.bokehjs_exec.v0+json": {
              "id": "p1170"
            }
          }
        },
        {
          "output_type": "execute_result",
          "data": {
            "text/plain": [
              "figure(id='p1170', ...)"
            ],
            "text/html": [
              "<div style=\"display: table;\"><div style=\"display: table-row;\"><div style=\"display: table-cell;\"><b title=\"bokeh.plotting._figure.figure\">figure</b>(</div><div style=\"display: table-cell;\">id&nbsp;=&nbsp;'p1170', <span id=\"p1219\" style=\"cursor: pointer;\">&hellip;)</span></div></div><div class=\"p1218\" style=\"display: none;\"><div style=\"display: table-cell;\"></div><div style=\"display: table-cell;\">above&nbsp;=&nbsp;[],</div></div><div class=\"p1218\" style=\"display: none;\"><div style=\"display: table-cell;\"></div><div style=\"display: table-cell;\">align&nbsp;=&nbsp;'auto',</div></div><div class=\"p1218\" style=\"display: none;\"><div style=\"display: table-cell;\"></div><div style=\"display: table-cell;\">aspect_ratio&nbsp;=&nbsp;None,</div></div><div class=\"p1218\" style=\"display: none;\"><div style=\"display: table-cell;\"></div><div style=\"display: table-cell;\">aspect_scale&nbsp;=&nbsp;1,</div></div><div class=\"p1218\" style=\"display: none;\"><div style=\"display: table-cell;\"></div><div style=\"display: table-cell;\">attribution&nbsp;=&nbsp;[],</div></div><div class=\"p1218\" style=\"display: none;\"><div style=\"display: table-cell;\"></div><div style=\"display: table-cell;\">background_fill_alpha&nbsp;=&nbsp;1.0,</div></div><div class=\"p1218\" style=\"display: none;\"><div style=\"display: table-cell;\"></div><div style=\"display: table-cell;\">background_fill_color&nbsp;=&nbsp;'#ffffff',</div></div><div class=\"p1218\" style=\"display: none;\"><div style=\"display: table-cell;\"></div><div style=\"display: table-cell;\">background_hatch_alpha&nbsp;=&nbsp;1.0,</div></div><div class=\"p1218\" style=\"display: none;\"><div style=\"display: table-cell;\"></div><div style=\"display: table-cell;\">background_hatch_color&nbsp;=&nbsp;'black',</div></div><div class=\"p1218\" style=\"display: none;\"><div style=\"display: table-cell;\"></div><div style=\"display: table-cell;\">background_hatch_extra&nbsp;=&nbsp;{},</div></div><div class=\"p1218\" style=\"display: none;\"><div style=\"display: table-cell;\"></div><div style=\"display: table-cell;\">background_hatch_pattern&nbsp;=&nbsp;None,</div></div><div class=\"p1218\" style=\"display: none;\"><div style=\"display: table-cell;\"></div><div style=\"display: table-cell;\">background_hatch_scale&nbsp;=&nbsp;12.0,</div></div><div class=\"p1218\" style=\"display: none;\"><div style=\"display: table-cell;\"></div><div style=\"display: table-cell;\">background_hatch_weight&nbsp;=&nbsp;1.0,</div></div><div class=\"p1218\" style=\"display: none;\"><div style=\"display: table-cell;\"></div><div style=\"display: table-cell;\">below&nbsp;=&nbsp;[LinearAxis(id='p1181', ...)],</div></div><div class=\"p1218\" style=\"display: none;\"><div style=\"display: table-cell;\"></div><div style=\"display: table-cell;\">border_fill_alpha&nbsp;=&nbsp;1.0,</div></div><div class=\"p1218\" style=\"display: none;\"><div style=\"display: table-cell;\"></div><div style=\"display: table-cell;\">border_fill_color&nbsp;=&nbsp;'#ffffff',</div></div><div class=\"p1218\" style=\"display: none;\"><div style=\"display: table-cell;\"></div><div style=\"display: table-cell;\">border_hatch_alpha&nbsp;=&nbsp;1.0,</div></div><div class=\"p1218\" style=\"display: none;\"><div style=\"display: table-cell;\"></div><div style=\"display: table-cell;\">border_hatch_color&nbsp;=&nbsp;'black',</div></div><div class=\"p1218\" style=\"display: none;\"><div style=\"display: table-cell;\"></div><div style=\"display: table-cell;\">border_hatch_extra&nbsp;=&nbsp;{},</div></div><div class=\"p1218\" style=\"display: none;\"><div style=\"display: table-cell;\"></div><div style=\"display: table-cell;\">border_hatch_pattern&nbsp;=&nbsp;None,</div></div><div class=\"p1218\" style=\"display: none;\"><div style=\"display: table-cell;\"></div><div style=\"display: table-cell;\">border_hatch_scale&nbsp;=&nbsp;12.0,</div></div><div class=\"p1218\" style=\"display: none;\"><div style=\"display: table-cell;\"></div><div style=\"display: table-cell;\">border_hatch_weight&nbsp;=&nbsp;1.0,</div></div><div class=\"p1218\" style=\"display: none;\"><div style=\"display: table-cell;\"></div><div style=\"display: table-cell;\">border_line_alpha&nbsp;=&nbsp;1.0,</div></div><div class=\"p1218\" style=\"display: none;\"><div style=\"display: table-cell;\"></div><div style=\"display: table-cell;\">border_line_cap&nbsp;=&nbsp;'butt',</div></div><div class=\"p1218\" style=\"display: none;\"><div style=\"display: table-cell;\"></div><div style=\"display: table-cell;\">border_line_color&nbsp;=&nbsp;None,</div></div><div class=\"p1218\" style=\"display: none;\"><div style=\"display: table-cell;\"></div><div style=\"display: table-cell;\">border_line_dash&nbsp;=&nbsp;[],</div></div><div class=\"p1218\" style=\"display: none;\"><div style=\"display: table-cell;\"></div><div style=\"display: table-cell;\">border_line_dash_offset&nbsp;=&nbsp;0,</div></div><div class=\"p1218\" style=\"display: none;\"><div style=\"display: table-cell;\"></div><div style=\"display: table-cell;\">border_line_join&nbsp;=&nbsp;'bevel',</div></div><div class=\"p1218\" style=\"display: none;\"><div style=\"display: table-cell;\"></div><div style=\"display: table-cell;\">border_line_width&nbsp;=&nbsp;1,</div></div><div class=\"p1218\" style=\"display: none;\"><div style=\"display: table-cell;\"></div><div style=\"display: table-cell;\">center&nbsp;=&nbsp;[Grid(id='p1185', ...), Grid(id='p1190', ...)],</div></div><div class=\"p1218\" style=\"display: none;\"><div style=\"display: table-cell;\"></div><div style=\"display: table-cell;\">context_menu&nbsp;=&nbsp;'auto',</div></div><div class=\"p1218\" style=\"display: none;\"><div style=\"display: table-cell;\"></div><div style=\"display: table-cell;\">css_classes&nbsp;=&nbsp;[],</div></div><div class=\"p1218\" style=\"display: none;\"><div style=\"display: table-cell;\"></div><div style=\"display: table-cell;\">css_variables&nbsp;=&nbsp;{},</div></div><div class=\"p1218\" style=\"display: none;\"><div style=\"display: table-cell;\"></div><div style=\"display: table-cell;\">disabled&nbsp;=&nbsp;False,</div></div><div class=\"p1218\" style=\"display: none;\"><div style=\"display: table-cell;\"></div><div style=\"display: table-cell;\">elements&nbsp;=&nbsp;[],</div></div><div class=\"p1218\" style=\"display: none;\"><div style=\"display: table-cell;\"></div><div style=\"display: table-cell;\">extra_x_ranges&nbsp;=&nbsp;{},</div></div><div class=\"p1218\" style=\"display: none;\"><div style=\"display: table-cell;\"></div><div style=\"display: table-cell;\">extra_x_scales&nbsp;=&nbsp;{},</div></div><div class=\"p1218\" style=\"display: none;\"><div style=\"display: table-cell;\"></div><div style=\"display: table-cell;\">extra_y_ranges&nbsp;=&nbsp;{},</div></div><div class=\"p1218\" style=\"display: none;\"><div style=\"display: table-cell;\"></div><div style=\"display: table-cell;\">extra_y_scales&nbsp;=&nbsp;{},</div></div><div class=\"p1218\" style=\"display: none;\"><div style=\"display: table-cell;\"></div><div style=\"display: table-cell;\">flow_mode&nbsp;=&nbsp;'block',</div></div><div class=\"p1218\" style=\"display: none;\"><div style=\"display: table-cell;\"></div><div style=\"display: table-cell;\">frame_align&nbsp;=&nbsp;True,</div></div><div class=\"p1218\" style=\"display: none;\"><div style=\"display: table-cell;\"></div><div style=\"display: table-cell;\">frame_height&nbsp;=&nbsp;None,</div></div><div class=\"p1218\" style=\"display: none;\"><div style=\"display: table-cell;\"></div><div style=\"display: table-cell;\">frame_width&nbsp;=&nbsp;None,</div></div><div class=\"p1218\" style=\"display: none;\"><div style=\"display: table-cell;\"></div><div style=\"display: table-cell;\">height&nbsp;=&nbsp;400,</div></div><div class=\"p1218\" style=\"display: none;\"><div style=\"display: table-cell;\"></div><div style=\"display: table-cell;\">height_policy&nbsp;=&nbsp;'auto',</div></div><div class=\"p1218\" style=\"display: none;\"><div style=\"display: table-cell;\"></div><div style=\"display: table-cell;\">hidpi&nbsp;=&nbsp;True,</div></div><div class=\"p1218\" style=\"display: none;\"><div style=\"display: table-cell;\"></div><div style=\"display: table-cell;\">hold_render&nbsp;=&nbsp;False,</div></div><div class=\"p1218\" style=\"display: none;\"><div style=\"display: table-cell;\"></div><div style=\"display: table-cell;\">html_attributes&nbsp;=&nbsp;{},</div></div><div class=\"p1218\" style=\"display: none;\"><div style=\"display: table-cell;\"></div><div style=\"display: table-cell;\">html_id&nbsp;=&nbsp;None,</div></div><div class=\"p1218\" style=\"display: none;\"><div style=\"display: table-cell;\"></div><div style=\"display: table-cell;\">js_event_callbacks&nbsp;=&nbsp;{},</div></div><div class=\"p1218\" style=\"display: none;\"><div style=\"display: table-cell;\"></div><div style=\"display: table-cell;\">js_property_callbacks&nbsp;=&nbsp;{},</div></div><div class=\"p1218\" style=\"display: none;\"><div style=\"display: table-cell;\"></div><div style=\"display: table-cell;\">left&nbsp;=&nbsp;[LinearAxis(id='p1186', ...)],</div></div><div class=\"p1218\" style=\"display: none;\"><div style=\"display: table-cell;\"></div><div style=\"display: table-cell;\">lod_factor&nbsp;=&nbsp;10,</div></div><div class=\"p1218\" style=\"display: none;\"><div style=\"display: table-cell;\"></div><div style=\"display: table-cell;\">lod_interval&nbsp;=&nbsp;300,</div></div><div class=\"p1218\" style=\"display: none;\"><div style=\"display: table-cell;\"></div><div style=\"display: table-cell;\">lod_threshold&nbsp;=&nbsp;2000,</div></div><div class=\"p1218\" style=\"display: none;\"><div style=\"display: table-cell;\"></div><div style=\"display: table-cell;\">lod_timeout&nbsp;=&nbsp;500,</div></div><div class=\"p1218\" style=\"display: none;\"><div style=\"display: table-cell;\"></div><div style=\"display: table-cell;\">margin&nbsp;=&nbsp;None,</div></div><div class=\"p1218\" style=\"display: none;\"><div style=\"display: table-cell;\"></div><div style=\"display: table-cell;\">match_aspect&nbsp;=&nbsp;False,</div></div><div class=\"p1218\" style=\"display: none;\"><div style=\"display: table-cell;\"></div><div style=\"display: table-cell;\">max_height&nbsp;=&nbsp;None,</div></div><div class=\"p1218\" style=\"display: none;\"><div style=\"display: table-cell;\"></div><div style=\"display: table-cell;\">max_width&nbsp;=&nbsp;None,</div></div><div class=\"p1218\" style=\"display: none;\"><div style=\"display: table-cell;\"></div><div style=\"display: table-cell;\">min_border&nbsp;=&nbsp;5,</div></div><div class=\"p1218\" style=\"display: none;\"><div style=\"display: table-cell;\"></div><div style=\"display: table-cell;\">min_border_bottom&nbsp;=&nbsp;None,</div></div><div class=\"p1218\" style=\"display: none;\"><div style=\"display: table-cell;\"></div><div style=\"display: table-cell;\">min_border_left&nbsp;=&nbsp;None,</div></div><div class=\"p1218\" style=\"display: none;\"><div style=\"display: table-cell;\"></div><div style=\"display: table-cell;\">min_border_right&nbsp;=&nbsp;None,</div></div><div class=\"p1218\" style=\"display: none;\"><div style=\"display: table-cell;\"></div><div style=\"display: table-cell;\">min_border_top&nbsp;=&nbsp;None,</div></div><div class=\"p1218\" style=\"display: none;\"><div style=\"display: table-cell;\"></div><div style=\"display: table-cell;\">min_height&nbsp;=&nbsp;None,</div></div><div class=\"p1218\" style=\"display: none;\"><div style=\"display: table-cell;\"></div><div style=\"display: table-cell;\">min_width&nbsp;=&nbsp;None,</div></div><div class=\"p1218\" style=\"display: none;\"><div style=\"display: table-cell;\"></div><div style=\"display: table-cell;\">name&nbsp;=&nbsp;None,</div></div><div class=\"p1218\" style=\"display: none;\"><div style=\"display: table-cell;\"></div><div style=\"display: table-cell;\">outline_line_alpha&nbsp;=&nbsp;1.0,</div></div><div class=\"p1218\" style=\"display: none;\"><div style=\"display: table-cell;\"></div><div style=\"display: table-cell;\">outline_line_cap&nbsp;=&nbsp;'butt',</div></div><div class=\"p1218\" style=\"display: none;\"><div style=\"display: table-cell;\"></div><div style=\"display: table-cell;\">outline_line_color&nbsp;=&nbsp;'#e5e5e5',</div></div><div class=\"p1218\" style=\"display: none;\"><div style=\"display: table-cell;\"></div><div style=\"display: table-cell;\">outline_line_dash&nbsp;=&nbsp;[],</div></div><div class=\"p1218\" style=\"display: none;\"><div style=\"display: table-cell;\"></div><div style=\"display: table-cell;\">outline_line_dash_offset&nbsp;=&nbsp;0,</div></div><div class=\"p1218\" style=\"display: none;\"><div style=\"display: table-cell;\"></div><div style=\"display: table-cell;\">outline_line_join&nbsp;=&nbsp;'bevel',</div></div><div class=\"p1218\" style=\"display: none;\"><div style=\"display: table-cell;\"></div><div style=\"display: table-cell;\">outline_line_width&nbsp;=&nbsp;1,</div></div><div class=\"p1218\" style=\"display: none;\"><div style=\"display: table-cell;\"></div><div style=\"display: table-cell;\">output_backend&nbsp;=&nbsp;'canvas',</div></div><div class=\"p1218\" style=\"display: none;\"><div style=\"display: table-cell;\"></div><div style=\"display: table-cell;\">renderers&nbsp;=&nbsp;[GlyphRenderer(id='p1210', ...)],</div></div><div class=\"p1218\" style=\"display: none;\"><div style=\"display: table-cell;\"></div><div style=\"display: table-cell;\">reset_policy&nbsp;=&nbsp;'standard',</div></div><div class=\"p1218\" style=\"display: none;\"><div style=\"display: table-cell;\"></div><div style=\"display: table-cell;\">resizable&nbsp;=&nbsp;False,</div></div><div class=\"p1218\" style=\"display: none;\"><div style=\"display: table-cell;\"></div><div style=\"display: table-cell;\">right&nbsp;=&nbsp;[],</div></div><div class=\"p1218\" style=\"display: none;\"><div style=\"display: table-cell;\"></div><div style=\"display: table-cell;\">sizing_mode&nbsp;=&nbsp;None,</div></div><div class=\"p1218\" style=\"display: none;\"><div style=\"display: table-cell;\"></div><div style=\"display: table-cell;\">styles&nbsp;=&nbsp;{},</div></div><div class=\"p1218\" style=\"display: none;\"><div style=\"display: table-cell;\"></div><div style=\"display: table-cell;\">stylesheets&nbsp;=&nbsp;[],</div></div><div class=\"p1218\" style=\"display: none;\"><div style=\"display: table-cell;\"></div><div style=\"display: table-cell;\">subscribed_events&nbsp;=&nbsp;PropertyValueSet(),</div></div><div class=\"p1218\" style=\"display: none;\"><div style=\"display: table-cell;\"></div><div style=\"display: table-cell;\">syncable&nbsp;=&nbsp;True,</div></div><div class=\"p1218\" style=\"display: none;\"><div style=\"display: table-cell;\"></div><div style=\"display: table-cell;\">tags&nbsp;=&nbsp;[],</div></div><div class=\"p1218\" style=\"display: none;\"><div style=\"display: table-cell;\"></div><div style=\"display: table-cell;\">title&nbsp;=&nbsp;Title(id='p1177', ...),</div></div><div class=\"p1218\" style=\"display: none;\"><div style=\"display: table-cell;\"></div><div style=\"display: table-cell;\">title_location&nbsp;=&nbsp;'above',</div></div><div class=\"p1218\" style=\"display: none;\"><div style=\"display: table-cell;\"></div><div style=\"display: table-cell;\">toolbar&nbsp;=&nbsp;Toolbar(id='p1178', ...),</div></div><div class=\"p1218\" style=\"display: none;\"><div style=\"display: table-cell;\"></div><div style=\"display: table-cell;\">toolbar_inner&nbsp;=&nbsp;False,</div></div><div class=\"p1218\" style=\"display: none;\"><div style=\"display: table-cell;\"></div><div style=\"display: table-cell;\">toolbar_location&nbsp;=&nbsp;'right',</div></div><div class=\"p1218\" style=\"display: none;\"><div style=\"display: table-cell;\"></div><div style=\"display: table-cell;\">toolbar_sticky&nbsp;=&nbsp;True,</div></div><div class=\"p1218\" style=\"display: none;\"><div style=\"display: table-cell;\"></div><div style=\"display: table-cell;\">visible&nbsp;=&nbsp;True,</div></div><div class=\"p1218\" style=\"display: none;\"><div style=\"display: table-cell;\"></div><div style=\"display: table-cell;\">width&nbsp;=&nbsp;600,</div></div><div class=\"p1218\" style=\"display: none;\"><div style=\"display: table-cell;\"></div><div style=\"display: table-cell;\">width_policy&nbsp;=&nbsp;'auto',</div></div><div class=\"p1218\" style=\"display: none;\"><div style=\"display: table-cell;\"></div><div style=\"display: table-cell;\">window_axis&nbsp;=&nbsp;'none',</div></div><div class=\"p1218\" style=\"display: none;\"><div style=\"display: table-cell;\"></div><div style=\"display: table-cell;\">x_range&nbsp;=&nbsp;DataRange1d(id='p1171', ...),</div></div><div class=\"p1218\" style=\"display: none;\"><div style=\"display: table-cell;\"></div><div style=\"display: table-cell;\">x_scale&nbsp;=&nbsp;LinearScale(id='p1179', ...),</div></div><div class=\"p1218\" style=\"display: none;\"><div style=\"display: table-cell;\"></div><div style=\"display: table-cell;\">y_range&nbsp;=&nbsp;DataRange1d(id='p1172', ...),</div></div><div class=\"p1218\" style=\"display: none;\"><div style=\"display: table-cell;\"></div><div style=\"display: table-cell;\">y_scale&nbsp;=&nbsp;LinearScale(id='p1180', ...))</div></div></div>\n",
              "<script>\n",
              "(function() {\n",
              "  let expanded = false;\n",
              "  const ellipsis = document.getElementById(\"p1219\");\n",
              "  ellipsis.addEventListener(\"click\", function() {\n",
              "    const rows = document.getElementsByClassName(\"p1218\");\n",
              "    for (let i = 0; i < rows.length; i++) {\n",
              "      const el = rows[i];\n",
              "      el.style.display = expanded ? \"none\" : \"table-row\";\n",
              "    }\n",
              "    ellipsis.innerHTML = expanded ? \"&hellip;)\" : \"&lsaquo;&lsaquo;&lsaquo;\";\n",
              "    expanded = !expanded;\n",
              "  });\n",
              "})();\n",
              "</script>\n"
            ]
          },
          "metadata": {},
          "execution_count": 37
        }
      ],
      "source": [
        "draw_vectors(word_tsne[:, 0], word_tsne[:, 1], color='green', token=words)"
      ]
    },
    {
      "cell_type": "markdown",
      "metadata": {
        "id": "jKyfVswYrrXN"
      },
      "source": [
        "### Visualizing phrases\n",
        "\n",
        "Word embeddings can also be used to represent short phrases. The simplest way is to take __an average__ of vectors for all tokens in the phrase with some weights.\n",
        "\n",
        "This trick is useful to identify what data are you working with: find if there are any outliers, clusters or other artefacts.\n",
        "\n",
        "Let's try this new hammer on our data!\n"
      ]
    },
    {
      "cell_type": "code",
      "execution_count": 40,
      "metadata": {
        "collapsed": true,
        "id": "QU2QcqS2rrXN"
      },
      "outputs": [],
      "source": [
        "def get_phrase_embedding(phrase):\n",
        "    \"\"\"\n",
        "    Convert phrase to a vector by aggregating its word embeddings.\n",
        "    \"\"\"\n",
        "\n",
        "    # Start with a zero vector of the correct embedding size\n",
        "    vector = np.zeros([model.vector_size], dtype='float32')\n",
        "\n",
        "    # Tokenize: lowercase the phrase and split into words\n",
        "    tokens = tokenizer.tokenize(phrase.lower())\n",
        "\n",
        "    # If `model` is a Word2Vec instance → embeddings are in model.wv\n",
        "    # If `model` is already KeyedVectors → use model directly\n",
        "    kv = model.wv if hasattr(model, \"wv\") else model\n",
        "\n",
        "    # Collect embeddings for words that exist in the vocabulary\n",
        "    valid_vectors = [kv[word] for word in tokens if word in kv]\n",
        "\n",
        "    if valid_vectors:\n",
        "        # Average embeddings\n",
        "        vector = np.mean(valid_vectors, axis=0)\n",
        "\n",
        "    return vector\n"
      ]
    },
    {
      "cell_type": "code",
      "execution_count": 41,
      "metadata": {
        "collapsed": true,
        "id": "rf2AlCHArrXN"
      },
      "outputs": [],
      "source": [
        "vector = get_phrase_embedding(\"I'm very sure. This never happened to me before...\")\n",
        "\n",
        "assert np.allclose(vector[::10],\n",
        "                   np.array([ 0.31807372, -0.02558171,  0.0933293 , -0.1002182 , -1.0278689 ,\n",
        "                             -0.16621883,  0.05083408,  0.17989802,  1.3701859 ,  0.08655966],\n",
        "                              dtype=np.float32))"
      ]
    },
    {
      "cell_type": "code",
      "execution_count": 43,
      "metadata": {
        "collapsed": true,
        "colab": {
          "base_uri": "https://localhost:8080/",
          "height": 0
        },
        "id": "oGkvAGnPrrXO",
        "outputId": "2f8e379d-f70d-4d26-debc-397341071473"
      },
      "outputs": [
        {
          "output_type": "stream",
          "name": "stdout",
          "text": [
            "Phrase vectors shape: (1001, 100)\n"
          ]
        }
      ],
      "source": [
        "# Let's only consider ~1000 phrases for the first run\n",
        "chosen_phrases = data[::len(data) // 1000]\n",
        "\n",
        "# Compute embeddings for each chosen phrase\n",
        "# We use the get_phrase_embedding function you defined earlier\n",
        "phrase_vectors = np.array([get_phrase_embedding(phrase) for phrase in chosen_phrases])\n",
        "\n",
        "print(\"Phrase vectors shape:\", phrase_vectors.shape)  # (1000, embedding_size)\n"
      ]
    },
    {
      "cell_type": "code",
      "execution_count": 44,
      "metadata": {
        "collapsed": true,
        "id": "GJVOjgwTrrXO"
      },
      "outputs": [],
      "source": [
        "assert isinstance(phrase_vectors, np.ndarray) and np.isfinite(phrase_vectors).all()\n",
        "assert phrase_vectors.shape == (len(chosen_phrases), model.vector_size)"
      ]
    },
    {
      "cell_type": "code",
      "execution_count": 45,
      "metadata": {
        "collapsed": true,
        "id": "TZ563sTQrrXO"
      },
      "outputs": [],
      "source": [
        "# map vectors into 2d space with pca, tsne or your other method of choice\n",
        "# don't forget to normalize\n",
        "\n",
        "phrase_vectors_2d = TSNE().fit_transform(phrase_vectors)\n",
        "\n",
        "phrase_vectors_2d = (phrase_vectors_2d - phrase_vectors_2d.mean(axis=0)) / phrase_vectors_2d.std(axis=0)"
      ]
    },
    {
      "cell_type": "code",
      "execution_count": 46,
      "metadata": {
        "collapsed": true,
        "colab": {
          "base_uri": "https://localhost:8080/",
          "height": 434
        },
        "id": "3FaCThiWrrXO",
        "outputId": "f954ab1f-cb7a-432e-d203-d94350e65777"
      },
      "outputs": [
        {
          "output_type": "display_data",
          "data": {
            "application/javascript": [
              "'use strict';\n",
              "(function(root) {\n",
              "  function now() {\n",
              "    return new Date();\n",
              "  }\n",
              "\n",
              "  const force = true;\n",
              "\n",
              "  if (typeof root._bokeh_onload_callbacks === \"undefined\" || force === true) {\n",
              "    root._bokeh_onload_callbacks = [];\n",
              "    root._bokeh_is_loading = undefined;\n",
              "  }\n",
              "\n",
              "const JS_MIME_TYPE = 'application/javascript';\n",
              "  const HTML_MIME_TYPE = 'text/html';\n",
              "  const EXEC_MIME_TYPE = 'application/vnd.bokehjs_exec.v0+json';\n",
              "  const CLASS_NAME = 'output_bokeh rendered_html';\n",
              "\n",
              "  /**\n",
              "   * Render data to the DOM node\n",
              "   */\n",
              "  function render(props, node) {\n",
              "    const script = document.createElement(\"script\");\n",
              "    node.appendChild(script);\n",
              "  }\n",
              "\n",
              "  /**\n",
              "   * Handle when an output is cleared or removed\n",
              "   */\n",
              "  function handleClearOutput(event, handle) {\n",
              "    function drop(id) {\n",
              "      const view = Bokeh.index.get_by_id(id)\n",
              "      if (view != null) {\n",
              "        view.model.document.clear()\n",
              "        Bokeh.index.delete(view)\n",
              "      }\n",
              "    }\n",
              "\n",
              "    const cell = handle.cell;\n",
              "\n",
              "    const id = cell.output_area._bokeh_element_id;\n",
              "    const server_id = cell.output_area._bokeh_server_id;\n",
              "\n",
              "    // Clean up Bokeh references\n",
              "    if (id != null) {\n",
              "      drop(id)\n",
              "    }\n",
              "\n",
              "    if (server_id !== undefined) {\n",
              "      // Clean up Bokeh references\n",
              "      const cmd_clean = \"from bokeh.io.state import curstate; print(curstate().uuid_to_server['\" + server_id + \"'].get_sessions()[0].document.roots[0]._id)\";\n",
              "      cell.notebook.kernel.execute(cmd_clean, {\n",
              "        iopub: {\n",
              "          output: function(msg) {\n",
              "            const id = msg.content.text.trim()\n",
              "            drop(id)\n",
              "          }\n",
              "        }\n",
              "      });\n",
              "      // Destroy server and session\n",
              "      const cmd_destroy = \"import bokeh.io.notebook as ion; ion.destroy_server('\" + server_id + \"')\";\n",
              "      cell.notebook.kernel.execute(cmd_destroy);\n",
              "    }\n",
              "  }\n",
              "\n",
              "  /**\n",
              "   * Handle when a new output is added\n",
              "   */\n",
              "  function handleAddOutput(event, handle) {\n",
              "    const output_area = handle.output_area;\n",
              "    const output = handle.output;\n",
              "\n",
              "    // limit handleAddOutput to display_data with EXEC_MIME_TYPE content only\n",
              "    if ((output.output_type != \"display_data\") || (!Object.prototype.hasOwnProperty.call(output.data, EXEC_MIME_TYPE))) {\n",
              "      return\n",
              "    }\n",
              "\n",
              "    const toinsert = output_area.element.find(\".\" + CLASS_NAME.split(' ')[0]);\n",
              "\n",
              "    if (output.metadata[EXEC_MIME_TYPE][\"id\"] !== undefined) {\n",
              "      toinsert[toinsert.length - 1].firstChild.textContent = output.data[JS_MIME_TYPE];\n",
              "      // store reference to embed id on output_area\n",
              "      output_area._bokeh_element_id = output.metadata[EXEC_MIME_TYPE][\"id\"];\n",
              "    }\n",
              "    if (output.metadata[EXEC_MIME_TYPE][\"server_id\"] !== undefined) {\n",
              "      const bk_div = document.createElement(\"div\");\n",
              "      bk_div.innerHTML = output.data[HTML_MIME_TYPE];\n",
              "      const script_attrs = bk_div.children[0].attributes;\n",
              "      for (let i = 0; i < script_attrs.length; i++) {\n",
              "        toinsert[toinsert.length - 1].firstChild.setAttribute(script_attrs[i].name, script_attrs[i].value);\n",
              "        toinsert[toinsert.length - 1].firstChild.textContent = bk_div.children[0].textContent\n",
              "      }\n",
              "      // store reference to server id on output_area\n",
              "      output_area._bokeh_server_id = output.metadata[EXEC_MIME_TYPE][\"server_id\"];\n",
              "    }\n",
              "  }\n",
              "\n",
              "  function register_renderer(events, OutputArea) {\n",
              "\n",
              "    function append_mime(data, metadata, element) {\n",
              "      // create a DOM node to render to\n",
              "      const toinsert = this.create_output_subarea(\n",
              "        metadata,\n",
              "        CLASS_NAME,\n",
              "        EXEC_MIME_TYPE\n",
              "      );\n",
              "      this.keyboard_manager.register_events(toinsert);\n",
              "      // Render to node\n",
              "      const props = {data: data, metadata: metadata[EXEC_MIME_TYPE]};\n",
              "      render(props, toinsert[toinsert.length - 1]);\n",
              "      element.append(toinsert);\n",
              "      return toinsert\n",
              "    }\n",
              "\n",
              "    /* Handle when an output is cleared or removed */\n",
              "    events.on('clear_output.CodeCell', handleClearOutput);\n",
              "    events.on('delete.Cell', handleClearOutput);\n",
              "\n",
              "    /* Handle when a new output is added */\n",
              "    events.on('output_added.OutputArea', handleAddOutput);\n",
              "\n",
              "    /**\n",
              "     * Register the mime type and append_mime function with output_area\n",
              "     */\n",
              "    OutputArea.prototype.register_mime_type(EXEC_MIME_TYPE, append_mime, {\n",
              "      /* Is output safe? */\n",
              "      safe: true,\n",
              "      /* Index of renderer in `output_area.display_order` */\n",
              "      index: 0\n",
              "    });\n",
              "  }\n",
              "\n",
              "  // register the mime type if in Jupyter Notebook environment and previously unregistered\n",
              "  if (root.Jupyter !== undefined) {\n",
              "    const events = require('base/js/events');\n",
              "    const OutputArea = require('notebook/js/outputarea').OutputArea;\n",
              "\n",
              "    if (OutputArea.prototype.mime_types().indexOf(EXEC_MIME_TYPE) == -1) {\n",
              "      register_renderer(events, OutputArea);\n",
              "    }\n",
              "  }\n",
              "  if (typeof (root._bokeh_timeout) === \"undefined\" || force === true) {\n",
              "    root._bokeh_timeout = Date.now() + 5000;\n",
              "    root._bokeh_failed_load = false;\n",
              "  }\n",
              "\n",
              "  const NB_LOAD_WARNING = {'data': {'text/html':\n",
              "     \"<div style='background-color: #fdd'>\\n\"+\n",
              "     \"<p>\\n\"+\n",
              "     \"BokehJS does not appear to have successfully loaded. If loading BokehJS from CDN, this \\n\"+\n",
              "     \"may be due to a slow or bad network connection. Possible fixes:\\n\"+\n",
              "     \"</p>\\n\"+\n",
              "     \"<ul>\\n\"+\n",
              "     \"<li>re-rerun `output_notebook()` to attempt to load from CDN again, or</li>\\n\"+\n",
              "     \"<li>use INLINE resources instead, as so:</li>\\n\"+\n",
              "     \"</ul>\\n\"+\n",
              "     \"<code>\\n\"+\n",
              "     \"from bokeh.resources import INLINE\\n\"+\n",
              "     \"output_notebook(resources=INLINE)\\n\"+\n",
              "     \"</code>\\n\"+\n",
              "     \"</div>\"}};\n",
              "\n",
              "  function display_loaded(error = null) {\n",
              "    const el = document.getElementById(null);\n",
              "    if (el != null) {\n",
              "      const html = (() => {\n",
              "        if (typeof root.Bokeh === \"undefined\") {\n",
              "          if (error == null) {\n",
              "            return \"BokehJS is loading ...\";\n",
              "          } else {\n",
              "            return \"BokehJS failed to load.\";\n",
              "          }\n",
              "        } else {\n",
              "          const prefix = `BokehJS ${root.Bokeh.version}`;\n",
              "          if (error == null) {\n",
              "            return `${prefix} successfully loaded.`;\n",
              "          } else {\n",
              "            return `${prefix} <b>encountered errors</b> while loading and may not function as expected.`;\n",
              "          }\n",
              "        }\n",
              "      })();\n",
              "      el.innerHTML = html;\n",
              "\n",
              "      if (error != null) {\n",
              "        const wrapper = document.createElement(\"div\");\n",
              "        wrapper.style.overflow = \"auto\";\n",
              "        wrapper.style.height = \"5em\";\n",
              "        wrapper.style.resize = \"vertical\";\n",
              "        const content = document.createElement(\"div\");\n",
              "        content.style.fontFamily = \"monospace\";\n",
              "        content.style.whiteSpace = \"pre-wrap\";\n",
              "        content.style.backgroundColor = \"rgb(255, 221, 221)\";\n",
              "        content.textContent = error.stack ?? error.toString();\n",
              "        wrapper.append(content);\n",
              "        el.append(wrapper);\n",
              "      }\n",
              "    } else if (Date.now() < root._bokeh_timeout) {\n",
              "      setTimeout(() => display_loaded(error), 100);\n",
              "    }\n",
              "  }\n",
              "\n",
              "  function run_callbacks() {\n",
              "    try {\n",
              "      root._bokeh_onload_callbacks.forEach(function(callback) {\n",
              "        if (callback != null)\n",
              "          callback();\n",
              "      });\n",
              "    } finally {\n",
              "      delete root._bokeh_onload_callbacks\n",
              "    }\n",
              "    console.debug(\"Bokeh: all callbacks have finished\");\n",
              "  }\n",
              "\n",
              "  function load_libs(css_urls, js_urls, callback) {\n",
              "    if (css_urls == null) css_urls = [];\n",
              "    if (js_urls == null) js_urls = [];\n",
              "\n",
              "    root._bokeh_onload_callbacks.push(callback);\n",
              "    if (root._bokeh_is_loading > 0) {\n",
              "      console.debug(\"Bokeh: BokehJS is being loaded, scheduling callback at\", now());\n",
              "      return null;\n",
              "    }\n",
              "    if (js_urls == null || js_urls.length === 0) {\n",
              "      run_callbacks();\n",
              "      return null;\n",
              "    }\n",
              "    console.debug(\"Bokeh: BokehJS not loaded, scheduling load and callback at\", now());\n",
              "    root._bokeh_is_loading = css_urls.length + js_urls.length;\n",
              "\n",
              "    function on_load() {\n",
              "      root._bokeh_is_loading--;\n",
              "      if (root._bokeh_is_loading === 0) {\n",
              "        console.debug(\"Bokeh: all BokehJS libraries/stylesheets loaded\");\n",
              "        run_callbacks()\n",
              "      }\n",
              "    }\n",
              "\n",
              "    function on_error(url) {\n",
              "      console.error(\"failed to load \" + url);\n",
              "    }\n",
              "\n",
              "    for (let i = 0; i < css_urls.length; i++) {\n",
              "      const url = css_urls[i];\n",
              "      const element = document.createElement(\"link\");\n",
              "      element.onload = on_load;\n",
              "      element.onerror = on_error.bind(null, url);\n",
              "      element.rel = \"stylesheet\";\n",
              "      element.type = \"text/css\";\n",
              "      element.href = url;\n",
              "      console.debug(\"Bokeh: injecting link tag for BokehJS stylesheet: \", url);\n",
              "      document.body.appendChild(element);\n",
              "    }\n",
              "\n",
              "    for (let i = 0; i < js_urls.length; i++) {\n",
              "      const url = js_urls[i];\n",
              "      const element = document.createElement('script');\n",
              "      element.onload = on_load;\n",
              "      element.onerror = on_error.bind(null, url);\n",
              "      element.async = false;\n",
              "      element.src = url;\n",
              "      console.debug(\"Bokeh: injecting script tag for BokehJS library: \", url);\n",
              "      document.head.appendChild(element);\n",
              "    }\n",
              "  };\n",
              "\n",
              "  function inject_raw_css(css) {\n",
              "    const element = document.createElement(\"style\");\n",
              "    element.appendChild(document.createTextNode(css));\n",
              "    document.body.appendChild(element);\n",
              "  }\n",
              "\n",
              "  const js_urls = [\"https://cdn.bokeh.org/bokeh/release/bokeh-3.8.0.min.js\", \"https://cdn.bokeh.org/bokeh/release/bokeh-gl-3.8.0.min.js\", \"https://cdn.bokeh.org/bokeh/release/bokeh-widgets-3.8.0.min.js\", \"https://cdn.bokeh.org/bokeh/release/bokeh-tables-3.8.0.min.js\", \"https://cdn.bokeh.org/bokeh/release/bokeh-mathjax-3.8.0.min.js\"];\n",
              "  const css_urls = [];\n",
              "\n",
              "  const inline_js = [    function(Bokeh) {\n",
              "      Bokeh.set_log_level(\"info\");\n",
              "    },\n",
              "function(Bokeh) {\n",
              "    }\n",
              "  ];\n",
              "\n",
              "  function run_inline_js() {\n",
              "    if (root.Bokeh !== undefined || force === true) {\n",
              "      try {\n",
              "            for (let i = 0; i < inline_js.length; i++) {\n",
              "      inline_js[i].call(root, root.Bokeh);\n",
              "    }\n",
              "\n",
              "      } catch (error) {throw error;\n",
              "      }} else if (Date.now() < root._bokeh_timeout) {\n",
              "      setTimeout(run_inline_js, 100);\n",
              "    } else if (!root._bokeh_failed_load) {\n",
              "      console.log(\"Bokeh: BokehJS failed to load within specified timeout.\");\n",
              "      root._bokeh_failed_load = true;\n",
              "    } else if (force !== true) {\n",
              "      const cell = $(document.getElementById(null)).parents('.cell').data().cell;\n",
              "      cell.output_area.append_execute_result(NB_LOAD_WARNING)\n",
              "    }\n",
              "  }\n",
              "\n",
              "  if (root._bokeh_is_loading === 0) {\n",
              "    console.debug(\"Bokeh: BokehJS loaded, going straight to plotting\");\n",
              "    run_inline_js();\n",
              "  } else {\n",
              "    load_libs(css_urls, js_urls, function() {\n",
              "      console.debug(\"Bokeh: BokehJS plotting callback run at\", now());\n",
              "      run_inline_js();\n",
              "    });\n",
              "  }\n",
              "}(window));"
            ],
            "application/vnd.bokehjs_load.v0+json": "'use strict';\n(function(root) {\n  function now() {\n    return new Date();\n  }\n\n  const force = true;\n\n  if (typeof root._bokeh_onload_callbacks === \"undefined\" || force === true) {\n    root._bokeh_onload_callbacks = [];\n    root._bokeh_is_loading = undefined;\n  }\n\n\n  if (typeof (root._bokeh_timeout) === \"undefined\" || force === true) {\n    root._bokeh_timeout = Date.now() + 5000;\n    root._bokeh_failed_load = false;\n  }\n\n  const NB_LOAD_WARNING = {'data': {'text/html':\n     \"<div style='background-color: #fdd'>\\n\"+\n     \"<p>\\n\"+\n     \"BokehJS does not appear to have successfully loaded. If loading BokehJS from CDN, this \\n\"+\n     \"may be due to a slow or bad network connection. Possible fixes:\\n\"+\n     \"</p>\\n\"+\n     \"<ul>\\n\"+\n     \"<li>re-rerun `output_notebook()` to attempt to load from CDN again, or</li>\\n\"+\n     \"<li>use INLINE resources instead, as so:</li>\\n\"+\n     \"</ul>\\n\"+\n     \"<code>\\n\"+\n     \"from bokeh.resources import INLINE\\n\"+\n     \"output_notebook(resources=INLINE)\\n\"+\n     \"</code>\\n\"+\n     \"</div>\"}};\n\n  function display_loaded(error = null) {\n    const el = document.getElementById(null);\n    if (el != null) {\n      const html = (() => {\n        if (typeof root.Bokeh === \"undefined\") {\n          if (error == null) {\n            return \"BokehJS is loading ...\";\n          } else {\n            return \"BokehJS failed to load.\";\n          }\n        } else {\n          const prefix = `BokehJS ${root.Bokeh.version}`;\n          if (error == null) {\n            return `${prefix} successfully loaded.`;\n          } else {\n            return `${prefix} <b>encountered errors</b> while loading and may not function as expected.`;\n          }\n        }\n      })();\n      el.innerHTML = html;\n\n      if (error != null) {\n        const wrapper = document.createElement(\"div\");\n        wrapper.style.overflow = \"auto\";\n        wrapper.style.height = \"5em\";\n        wrapper.style.resize = \"vertical\";\n        const content = document.createElement(\"div\");\n        content.style.fontFamily = \"monospace\";\n        content.style.whiteSpace = \"pre-wrap\";\n        content.style.backgroundColor = \"rgb(255, 221, 221)\";\n        content.textContent = error.stack ?? error.toString();\n        wrapper.append(content);\n        el.append(wrapper);\n      }\n    } else if (Date.now() < root._bokeh_timeout) {\n      setTimeout(() => display_loaded(error), 100);\n    }\n  }\n\n  function run_callbacks() {\n    try {\n      root._bokeh_onload_callbacks.forEach(function(callback) {\n        if (callback != null)\n          callback();\n      });\n    } finally {\n      delete root._bokeh_onload_callbacks\n    }\n    console.debug(\"Bokeh: all callbacks have finished\");\n  }\n\n  function load_libs(css_urls, js_urls, callback) {\n    if (css_urls == null) css_urls = [];\n    if (js_urls == null) js_urls = [];\n\n    root._bokeh_onload_callbacks.push(callback);\n    if (root._bokeh_is_loading > 0) {\n      console.debug(\"Bokeh: BokehJS is being loaded, scheduling callback at\", now());\n      return null;\n    }\n    if (js_urls == null || js_urls.length === 0) {\n      run_callbacks();\n      return null;\n    }\n    console.debug(\"Bokeh: BokehJS not loaded, scheduling load and callback at\", now());\n    root._bokeh_is_loading = css_urls.length + js_urls.length;\n\n    function on_load() {\n      root._bokeh_is_loading--;\n      if (root._bokeh_is_loading === 0) {\n        console.debug(\"Bokeh: all BokehJS libraries/stylesheets loaded\");\n        run_callbacks()\n      }\n    }\n\n    function on_error(url) {\n      console.error(\"failed to load \" + url);\n    }\n\n    for (let i = 0; i < css_urls.length; i++) {\n      const url = css_urls[i];\n      const element = document.createElement(\"link\");\n      element.onload = on_load;\n      element.onerror = on_error.bind(null, url);\n      element.rel = \"stylesheet\";\n      element.type = \"text/css\";\n      element.href = url;\n      console.debug(\"Bokeh: injecting link tag for BokehJS stylesheet: \", url);\n      document.body.appendChild(element);\n    }\n\n    for (let i = 0; i < js_urls.length; i++) {\n      const url = js_urls[i];\n      const element = document.createElement('script');\n      element.onload = on_load;\n      element.onerror = on_error.bind(null, url);\n      element.async = false;\n      element.src = url;\n      console.debug(\"Bokeh: injecting script tag for BokehJS library: \", url);\n      document.head.appendChild(element);\n    }\n  };\n\n  function inject_raw_css(css) {\n    const element = document.createElement(\"style\");\n    element.appendChild(document.createTextNode(css));\n    document.body.appendChild(element);\n  }\n\n  const js_urls = [\"https://cdn.bokeh.org/bokeh/release/bokeh-3.8.0.min.js\", \"https://cdn.bokeh.org/bokeh/release/bokeh-gl-3.8.0.min.js\", \"https://cdn.bokeh.org/bokeh/release/bokeh-widgets-3.8.0.min.js\", \"https://cdn.bokeh.org/bokeh/release/bokeh-tables-3.8.0.min.js\", \"https://cdn.bokeh.org/bokeh/release/bokeh-mathjax-3.8.0.min.js\"];\n  const css_urls = [];\n\n  const inline_js = [    function(Bokeh) {\n      Bokeh.set_log_level(\"info\");\n    },\nfunction(Bokeh) {\n    }\n  ];\n\n  function run_inline_js() {\n    if (root.Bokeh !== undefined || force === true) {\n      try {\n            for (let i = 0; i < inline_js.length; i++) {\n      inline_js[i].call(root, root.Bokeh);\n    }\n\n      } catch (error) {throw error;\n      }} else if (Date.now() < root._bokeh_timeout) {\n      setTimeout(run_inline_js, 100);\n    } else if (!root._bokeh_failed_load) {\n      console.log(\"Bokeh: BokehJS failed to load within specified timeout.\");\n      root._bokeh_failed_load = true;\n    } else if (force !== true) {\n      const cell = $(document.getElementById(null)).parents('.cell').data().cell;\n      cell.output_area.append_execute_result(NB_LOAD_WARNING)\n    }\n  }\n\n  if (root._bokeh_is_loading === 0) {\n    console.debug(\"Bokeh: BokehJS loaded, going straight to plotting\");\n    run_inline_js();\n  } else {\n    load_libs(css_urls, js_urls, function() {\n      console.debug(\"Bokeh: BokehJS plotting callback run at\", now());\n      run_inline_js();\n    });\n  }\n}(window));"
          },
          "metadata": {}
        },
        {
          "output_type": "display_data",
          "data": {
            "text/html": [
              "\n",
              "  <div id=\"b3cdc46c-f452-4ac2-9051-aead3f38c7e8\" data-root-id=\"p1223\" style=\"display: contents;\"></div>\n"
            ]
          },
          "metadata": {}
        },
        {
          "output_type": "display_data",
          "data": {
            "application/javascript": [
              "(function(root) {\n",
              "  function embed_document(root) {\n",
              "  const docs_json = {\"cca21469-21f1-46d4-ad99-babd9bfc3d00\":{\"version\":\"3.8.0\",\"title\":\"Bokeh Application\",\"config\":{\"type\":\"object\",\"name\":\"DocumentConfig\",\"id\":\"p1267\",\"attributes\":{\"notifications\":{\"type\":\"object\",\"name\":\"Notifications\",\"id\":\"p1268\"}}},\"roots\":[{\"type\":\"object\",\"name\":\"Figure\",\"id\":\"p1223\",\"attributes\":{\"height\":400,\"x_range\":{\"type\":\"object\",\"name\":\"DataRange1d\",\"id\":\"p1224\"},\"y_range\":{\"type\":\"object\",\"name\":\"DataRange1d\",\"id\":\"p1225\"},\"x_scale\":{\"type\":\"object\",\"name\":\"LinearScale\",\"id\":\"p1232\"},\"y_scale\":{\"type\":\"object\",\"name\":\"LinearScale\",\"id\":\"p1233\"},\"title\":{\"type\":\"object\",\"name\":\"Title\",\"id\":\"p1230\"},\"renderers\":[{\"type\":\"object\",\"name\":\"GlyphRenderer\",\"id\":\"p1263\",\"attributes\":{\"data_source\":{\"type\":\"object\",\"name\":\"ColumnDataSource\",\"id\":\"p1220\",\"attributes\":{\"selected\":{\"type\":\"object\",\"name\":\"Selection\",\"id\":\"p1221\",\"attributes\":{\"indices\":[],\"line_indices\":[]}},\"selection_policy\":{\"type\":\"object\",\"name\":\"UnionRenderers\",\"id\":\"p1222\"},\"data\":{\"type\":\"map\",\"entries\":[[\"x\",{\"type\":\"ndarray\",\"array\":{\"type\":\"bytes\",\"data\":\"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\"},\"shape\":[1001],\"dtype\":\"float32\",\"order\":\"little\"}],[\"y\",{\"type\":\"ndarray\",\"array\":{\"type\":\"bytes\",\"data\":\"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\"},\"shape\":[1001],\"dtype\":\"float32\",\"order\":\"little\"}],[\"color\",[\"blue\",\"blue\",\"blue\",\"blue\",\"blue\",\"blue\",\"blue\",\"blue\",\"blue\",\"blue\",\"blue\",\"blue\",\"blue\",\"blue\",\"blue\",\"blue\",\"blue\",\"blue\",\"blue\",\"blue\",\"blue\",\"blue\",\"blue\",\"blue\",\"blue\",\"blue\",\"blue\",\"blue\",\"blue\",\"blue\",\"blue\",\"blue\",\"blue\",\"blue\",\"blue\",\"blue\",\"blue\",\"blue\",\"blue\",\"blue\",\"blue\",\"blue\",\"blue\",\"blue\",\"blue\",\"blue\",\"blue\",\"blue\",\"blue\",\"blue\",\"blue\",\"blue\",\"blue\",\"blue\",\"blue\",\"blue\",\"blue\",\"blue\",\"blue\",\"blue\",\"blue\",\"blue\",\"blue\",\"blue\",\"blue\",\"blue\",\"blue\",\"blue\",\"blue\",\"blue\",\"blue\",\"blue\",\"blue\",\"blue\",\"blue\",\"blue\",\"blue\",\"blue\",\"blue\",\"blue\",\"blue\",\"blue\",\"blue\",\"blue\",\"blue\",\"blue\",\"blue\",\"blue\",\"blue\",\"blue\",\"blue\",\"blue\",\"blue\",\"blue\",\"blue\",\"blue\",\"blue\",\"blue\",\"blue\",\"blue\",\"blue\",\"blue\",\"blue\",\"blue\",\"blue\",\"blue\",\"blue\",\"blue\",\"blue\",\"blue\",\"blue\",\"blue\",\"blue\",\"blue\",\"blue\",\"blue\",\"blue\",\"blue\",\"blue\",\"blue\",\"blue\",\"blue\",\"blue\",\"blue\",\"blue\",\"blue\",\"blue\",\"blue\",\"blue\",\"blue\",\"blue\",\"blue\",\"blue\",\"blue\",\"blue\",\"blue\",\"blue\",\"blue\",\"blue\",\"blue\",\"blue\",\"blue\",\"blue\",\"blue\",\"blue\",\"blue\",\"blue\",\"blue\",\"blue\",\"blue\",\"blue\",\"blue\",\"blue\",\"blue\",\"blue\",\"blue\",\"blue\",\"blue\",\"blue\",\"blue\",\"blue\",\"blue\",\"blue\",\"blue\",\"blue\",\"blue\",\"blue\",\"blue\",\"blue\",\"blue\",\"blue\",\"blue\",\"blue\",\"blue\",\"blue\",\"blue\",\"blue\",\"blue\",\"blue\",\"blue\",\"blue\",\"blue\",\"blue\",\"blue\",\"blue\",\"blue\",\"blue\",\"blue\",\"blue\",\"blue\",\"blue\",\"blue\",\"blue\",\"blue\",\"blue\",\"blue\",\"blue\",\"blue\",\"blue\",\"blue\",\"blue\",\"blue\",\"blue\",\"blue\",\"blue\",\"blue\",\"blue\",\"blue\",\"blue\",\"blue\",\"blue\",\"blue\",\"blue\",\"blue\",\"blue\",\"blue\",\"blue\",\"blue\",\"blue\",\"blue\",\"blue\",\"blue\",\"blue\",\"blue\",\"blue\",\"blue\",\"blue\",\"blue\",\"blue\",\"blue\",\"blue\",\"blue\",\"blue\",\"blue\",\"blue\",\"blue\",\"blue\",\"blue\",\"blue\",\"blue\",\"blue\",\"blue\",\"blue\",\"blue\",\"blue\",\"blue\",\"blue\",\"blue\",\"blue\",\"blue\",\"blue\",\"blue\",\"blue\",\"blue\",\"blue\",\"blue\",\"blue\",\"blue\",\"blue\",\"blue\",\"blue\",\"blue\",\"blue\",\"blue\",\"blue\",\"blue\",\"blue\",\"blue\",\"blue\",\"blue\",\"blue\",\"blue\",\"blue\",\"blue\",\"blue\",\"blue\",\"blue\",\"blue\",\"blue\",\"blue\",\"blue\",\"blue\",\"blue\",\"blue\",\"blue\",\"blue\",\"blue\",\"blue\",\"blue\",\"blue\",\"blue\",\"blue\",\"blue\",\"blue\",\"blue\",\"blue\",\"blue\",\"blue\",\"blue\",\"blue\",\"blue\",\"blue\",\"blue\",\"blue\",\"blue\",\"blue\",\"blue\",\"blue\",\"blue\",\"blue\",\"blue\",\"blue\",\"blue\",\"blue\",\"blue\",\"blue\",\"blue\",\"blue\",\"blue\",\"blue\",\"blue\",\"blue\",\"blue\",\"blue\",\"blue\",\"blue\",\"blue\",\"blue\",\"blue\",\"blue\",\"blue\",\"blue\",\"blue\",\"blue\",\"blue\",\"blue\",\"blue\",\"blue\",\"blue\",\"blue\",\"blue\",\"blue\",\"blue\",\"blue\",\"blue\",\"blue\",\"blue\",\"blue\",\"blue\",\"blue\",\"blue\",\"blue\",\"blue\",\"blue\",\"blue\",\"blue\",\"blue\",\"blue\",\"blue\",\"blue\",\"blue\",\"blue\",\"blue\",\"blue\",\"blue\",\"blue\",\"blue\",\"blue\",\"blue\",\"blue\",\"blue\",\"blue\",\"blue\",\"blue\",\"blue\",\"blue\",\"blue\",\"blue\",\"blue\",\"blue\",\"blue\",\"blue\",\"blue\",\"blue\",\"blue\",\"blue\",\"blue\",\"blue\",\"blue\",\"blue\",\"blue\",\"blue\",\"blue\",\"blue\",\"blue\",\"blue\",\"blue\",\"blue\",\"blue\",\"blue\",\"blue\",\"blue\",\"blue\",\"blue\",\"blue\",\"blue\",\"blue\",\"blue\",\"blue\",\"blue\",\"blue\",\"blue\",\"blue\",\"blue\",\"blue\",\"blue\",\"blue\",\"blue\",\"blue\",\"blue\",\"blue\",\"blue\",\"blue\",\"blue\",\"blue\",\"blue\",\"blue\",\"blue\",\"blue\",\"blue\",\"blue\",\"blue\",\"blue\",\"blue\",\"blue\",\"blue\",\"blue\",\"blue\",\"blue\",\"blue\",\"blue\",\"blue\",\"blue\",\"blue\",\"blue\",\"blue\",\"blue\",\"blue\",\"blue\",\"blue\",\"blue\",\"blue\",\"blue\",\"blue\",\"blue\",\"blue\",\"blue\",\"blue\",\"blue\",\"blue\",\"blue\",\"blue\",\"blue\",\"blue\",\"blue\",\"blue\",\"blue\",\"blue\",\"blue\",\"blue\",\"blue\",\"blue\",\"blue\",\"blue\",\"blue\",\"blue\",\"blue\",\"blue\",\"blue\",\"blue\",\"blue\",\"blue\",\"blue\",\"blue\",\"blue\",\"blue\",\"blue\",\"blue\",\"blue\",\"blue\",\"blue\",\"blue\",\"blue\",\"blue\",\"blue\",\"blue\",\"blue\",\"blue\",\"blue\",\"blue\",\"blue\",\"blue\",\"blue\",\"blue\",\"blue\",\"blue\",\"blue\",\"blue\",\"blue\",\"blue\",\"blue\",\"blue\",\"blue\",\"blue\",\"blue\",\"blue\",\"blue\",\"blue\",\"blue\",\"blue\",\"blue\",\"blue\",\"blue\",\"blue\",\"blue\",\"blue\",\"blue\",\"blue\",\"blue\",\"blue\",\"blue\",\"blue\",\"blue\",\"blue\",\"blue\",\"blue\",\"blue\",\"blue\",\"blue\",\"blue\",\"blue\",\"blue\",\"blue\",\"blue\",\"blue\",\"blue\",\"blue\",\"blue\",\"blue\",\"blue\",\"blue\",\"blue\",\"blue\",\"blue\",\"blue\",\"blue\",\"blue\",\"blue\",\"blue\",\"blue\",\"blue\",\"blue\",\"blue\",\"blue\",\"blue\",\"blue\",\"blue\",\"blue\",\"blue\",\"blue\",\"blue\",\"blue\",\"blue\",\"blue\",\"blue\",\"blue\",\"blue\",\"blue\",\"blue\",\"blue\",\"blue\",\"blue\",\"blue\",\"blue\",\"blue\",\"blue\",\"blue\",\"blue\",\"blue\",\"blue\",\"blue\",\"blue\",\"blue\",\"blue\",\"blue\",\"blue\",\"blue\",\"blue\",\"blue\",\"blue\",\"blue\",\"blue\",\"blue\",\"blue\",\"blue\",\"blue\",\"blue\",\"blue\",\"blue\",\"blue\",\"blue\",\"blue\",\"blue\",\"blue\",\"blue\",\"blue\",\"blue\",\"blue\",\"blue\",\"blue\",\"blue\",\"blue\",\"blue\",\"blue\",\"blue\",\"blue\",\"blue\",\"blue\",\"blue\",\"blue\",\"blue\",\"blue\",\"blue\",\"blue\",\"blue\",\"blue\",\"blue\",\"blue\",\"blue\",\"blue\",\"blue\",\"blue\",\"blue\",\"blue\",\"blue\",\"blue\",\"blue\",\"blue\",\"blue\",\"blue\",\"blue\",\"blue\",\"blue\",\"blue\",\"blue\",\"blue\",\"blue\",\"blue\",\"blue\",\"blue\",\"blue\",\"blue\",\"blue\",\"blue\",\"blue\",\"blue\",\"blue\",\"blue\",\"blue\",\"blue\",\"blue\",\"blue\",\"blue\",\"blue\",\"blue\",\"blue\",\"blue\",\"blue\",\"blue\",\"blue\",\"blue\",\"blue\",\"blue\",\"blue\",\"blue\",\"blue\",\"blue\",\"blue\",\"blue\",\"blue\",\"blue\",\"blue\",\"blue\",\"blue\",\"blue\",\"blue\",\"blue\",\"blue\",\"blue\",\"blue\",\"blue\",\"blue\",\"blue\",\"blue\",\"blue\",\"blue\",\"blue\",\"blue\",\"blue\",\"blue\",\"blue\",\"blue\",\"blue\",\"blue\",\"blue\",\"blue\",\"blue\",\"blue\",\"blue\",\"blue\",\"blue\",\"blue\",\"blue\",\"blue\",\"blue\",\"blue\",\"blue\",\"blue\",\"blue\",\"blue\",\"blue\",\"blue\",\"blue\",\"blue\",\"blue\",\"blue\",\"blue\",\"blue\",\"blue\",\"blue\",\"blue\",\"blue\",\"blue\",\"blue\",\"blue\",\"blue\",\"blue\",\"blue\",\"blue\",\"blue\",\"blue\",\"blue\",\"blue\",\"blue\",\"blue\",\"blue\",\"blue\",\"blue\",\"blue\",\"blue\",\"blue\",\"blue\",\"blue\",\"blue\",\"blue\",\"blue\",\"blue\",\"blue\",\"blue\",\"blue\",\"blue\",\"blue\",\"blue\",\"blue\",\"blue\",\"blue\",\"blue\",\"blue\",\"blue\",\"blue\",\"blue\",\"blue\",\"blue\",\"blue\",\"blue\",\"blue\",\"blue\",\"blue\",\"blue\",\"blue\",\"blue\",\"blue\",\"blue\",\"blue\",\"blue\",\"blue\",\"blue\",\"blue\",\"blue\",\"blue\",\"blue\",\"blue\",\"blue\",\"blue\",\"blue\",\"blue\",\"blue\",\"blue\",\"blue\",\"blue\",\"blue\",\"blue\",\"blue\",\"blue\",\"blue\",\"blue\",\"blue\",\"blue\",\"blue\",\"blue\",\"blue\",\"blue\",\"blue\",\"blue\",\"blue\",\"blue\",\"blue\",\"blue\",\"blue\",\"blue\",\"blue\",\"blue\",\"blue\",\"blue\",\"blue\",\"blue\",\"blue\",\"blue\",\"blue\",\"blue\",\"blue\",\"blue\",\"blue\",\"blue\",\"blue\",\"blue\",\"blue\",\"blue\",\"blue\",\"blue\",\"blue\",\"blue\",\"blue\",\"blue\",\"blue\",\"blue\",\"blue\",\"blue\",\"blue\",\"blue\",\"blue\",\"blue\",\"blue\",\"blue\",\"blue\",\"blue\",\"blue\",\"blue\",\"blue\",\"blue\",\"blue\",\"blue\",\"blue\",\"blue\",\"blue\",\"blue\",\"blue\",\"blue\",\"blue\",\"blue\",\"blue\",\"blue\",\"blue\",\"blue\",\"blue\",\"blue\",\"blue\",\"blue\",\"blue\",\"blue\",\"blue\",\"blue\",\"blue\",\"blue\",\"blue\",\"blue\",\"blue\",\"blue\",\"blue\",\"blue\",\"blue\",\"blue\",\"blue\",\"blue\",\"blue\",\"blue\",\"blue\",\"blue\",\"blue\",\"blue\",\"blue\",\"blue\",\"blue\",\"blue\",\"blue\",\"blue\",\"blue\",\"blue\",\"blue\",\"blue\",\"blue\",\"blue\",\"blue\",\"blue\",\"blue\",\"blue\",\"blue\",\"blue\",\"blue\",\"blue\",\"blue\",\"blue\",\"blue\",\"blue\",\"blue\",\"blue\",\"blue\",\"blue\",\"blue\",\"blue\",\"blue\",\"blue\",\"blue\",\"blue\",\"blue\",\"blue\",\"blue\",\"blue\",\"blue\",\"blue\",\"blue\",\"blue\",\"blue\",\"blue\",\"blue\",\"blue\",\"blue\",\"blue\",\"blue\",\"blue\",\"blue\",\"blue\",\"blue\",\"blue\",\"blue\",\"blue\",\"blue\",\"blue\",\"blue\",\"blue\",\"blue\",\"blue\",\"blue\",\"blue\",\"blue\",\"blue\",\"blue\",\"blue\",\"blue\",\"blue\",\"blue\",\"blue\",\"blue\",\"blue\",\"blue\",\"blue\",\"blue\",\"blue\",\"blue\",\"blue\",\"blue\",\"blue\",\"blue\",\"blue\",\"blue\",\"blue\",\"blue\",\"blue\",\"blue\",\"blue\",\"blue\"]],[\"phrase\",[\"Can I get back with my ex even though she is pregn\",\"What is the best way to become an arms dealer in t\",\"Why doesn't Japan contribute to peace and prosperi\",\"Which is the best Panasonic air conditioner servic\",\"What did ancient Egyptians believe about the after\",\"How does one prepare for the RBI grade B officers \",\"Which institutions in Kolkata give coaching for en\",\"Will omar bravo be in fifa 17?\\n\",\"What are the pros and cons of arranged marriages?\\n\",\"What will happen if all the vegetable dies?\\n\",\"Why do people hate hypocrites?\\n\",\"What do you consider poor, middle class, wealthy a\",\"How do I concentrate on my studies?\\n\",\"What is new age psychobabble?\\n\",\"How can you tell if your man is cheating even if h\",\"Can you see yourself during lucid dreaming?\\n\",\"Which browser is most safe in terms of privacy and\",\"Can Google Assistant run on OnePlus 3T?\\n\",\"Apart from the VW Vento / Polo and Skoda Rapid, ar\",\"What is Panera Bread?\\n\",\"Do athletes live longer and healthier? If not, why\",\"Could a pitbull take on a wolf in a fight?\\n\",\"What has Obama done for Latinos/Hispanics?\\n\",\"How much is |x|^2?\\n\",\"How does operator.com work?\\n\",\"Why do people not make movies/talk about the Romas\",\"What were the major contributions of the political\",\"Company Secretaries (CS): How do I prepare for CS \",\"What are the job prospects of chemical engineers a\",\"I have never gone to a bank. How do I put money in\",\"What is the best strategy to prepare for the GATE \",\"Who is this porn star?\\n\",\"Why are specs & sunglasses so expensive?\\n\",\"I installed the movie torrent with Ultra XVid Code\",\"Can we ride scootry with learning lisence age of 1\",\"Two cards were drawn, without replacement, from a \",\"How much money is needed per month to live in indi\",\"Why do companies issue bonus shares?\\n\",\"Why are Iranians and Afghans considered white Amer\",\"Could mumps cause deafness?\\n\",\"What is meaning of sadaka?\\n\",\"What should I know before starting a YouTube caree\",\"Is the ITI College Principal is gazetted officer?\\n\",\"How do you feel now that Donald Trump is now the P\",\"What is the difference between imperial units and \",\"What is the easiest way to do effective self hypno\",\"Why has China increased its involvement in the Syr\",\"From which year CBSE class 10th exam be reintroduc\",\"Is 1080p a Blu-ray?\\n\",\"Does using mirrors to concentrate thermal energy d\",\"How do I avoid attractions by phones?\\n\",\"What are some of the effects of education can you \",\"What are the characteristics of a Pisces Sun/Libra\",\"What is the most cost-effective option to ship pac\",\"Are red and blue complementary colors?\\n\",\"Is it possible to make a material that is a superc\",\"What is the best Shonen Jump manga?\\n\",\"Are Oracle and Cisco good companies for a new grad\",\"If lighting a match is considered a chemical chang\",\"Why is Hillary so afraid of Putin?\\n\",\"Which is the best book to study electronics basics\",\"What are the basics I should know before learning \",\"Can I use Cph4 on a day to day basis?\\n\",\"Is it safe when I buy things from China?\\n\",\"Why did some ethnic minorities support Brexit?\\n\",\"How much money has tinder made?\\n\",\"What is the limit?\\n\",\"Will browsing Facebook while connected to Tor reve\",\"If I get 68.4 percent in ftre 2016 class 10 then w\",\"No product market fit: change product or market fi\",\"What makes you sad about India?\\n\",\"How do I know if someone has read my messages on w\",\"Why there is a sound when we crack our knuckles?\\n\",\"Why do I only make friends with guys?\\n\",\"What is 'open-mindedness'?\\n\",\"What is the cause of carpal tunnel syndrome?\\n\",\"What is the difference between a \\\"slow cooker\\\" and\",\"What is Hillary Clinton's stance on nuclear energy\",\"Do IIT colleges require a caste validity for an ST\",\"How do I listen a song from you?\\n\",\"Why do so many Iranians immigrate to Canada?\\n\",\"What will happen to India-U.S. relations after Tru\",\"A program that stored five words in the memory the\",\"What are ways of joining to ISRO as engineer other\",\"Can Magneto defeat Hulk?\\n\",\"What time of year is it best to visit Singapore?\\n\",\"How do I study for ib?\\n\",\"What should I do if someone doesn't reply to my em\",\"How much does Manveer Singh Phogat gets for Dangal\",\"What is it like to be cannibal?\\n\",\"How can the Android app development companies help\",\"Who would you say is the most fun person in Israel\",\"How can one improve her figure and butt size witho\",\"As a company that provides travel agencies and tou\",\"What is the most beautiful thing you saw today?\\n\",\"Is gay flirting good?\\n\",\"Can I use Stripe in Europe?\\n\",\"Will Britain leaving the European Union lead to th\",\"Why are so many East Asian immigrants so averse to\",\"Why do we need computer networking?\\n\",\"What is retina detachment?\\n\",\"Why don't more bars have mechanical bulls?\\n\",\"How do I get better understanding of C++?\\n\",\"Which is the most profitable Porsche US dealer?\\n\",\"What are the best over the ear headphones for abou\",\"Is it true that the first kill is the hardest?\\n\",\"Which is best 32 inch led tv to buy below 20,000 I\",\"I am scoring 130/506 in FiitJEE aits part test adv\",\"What kind of websites are missing from the Interne\",\"What is the best way to use free time at IITB?\\n\",\"Is it possible for me to buy my first company usin\",\"What should I do to have sex with as many women as\",\"What is the scope of Executive MBA in India?\\n\",\"Which BMW models do not have a Hofmeister Kink?\\n\",\"What is yellow journalism?\\n\",\"Why do doctors charge uninsured patients 10 times \",\"Which one is the best public sector job or private\",\"Will social media ever help to spur on the US youn\",\"How should I know a video is 360 degree?\\n\",\"Is a practice manual sufficient for the CA Final I\",\"Career Advice: Being an Indian college student, ho\",\"What are the advantages and disadvantages of Li-Fi\",\"On Snapchat, I deleted someone. Can they re-add me\",\"Are there any cereals that taste good with water?\\n\",\"Why does a woman's vagina push a mans penis out?\\n\",\"What is the British word for bullpen?\\n\",\"How hard is it for international students to get a\",\"How did Revan build his foundation of his army in \",\"What is the best way to read a fictional book? Do \",\"How do you replace a ignition lock cylinder?\\n\",\"How can I prevent business failure?\\n\",\"How often do tides occur? What causes it?\\n\",\"How do I learn Calculus on my own?\\n\",\"What is the reason for Priyanka Gandhi not changin\",\"What should I eat when I'm sick with a cold or flu\",\"What is a Business Intelligence Analyst?\\n\",\"Which sports should I start to play to paticipate \",\"How should I prepare for Java fresher interview?\\n\",\"How different are cuisines of Arab countries?\\n\",\"What is the meaning of the phrase, all is fair in \",\"Why does Quora send me a notification that my ques\",\"What are the hardest obstacles to breaking into a \",\"What makes a falling snowflake large (or not)?\\n\",\"What is the compensation for Partners/Principals a\",\"What is the difference between an array and a vect\",\"If you kiss the NC State wolf do you become an NC \",\"Is it boring (from a social perspective) to live i\",\"What would have happened if in 1971 war all 93000 \",\"What are the easiest things to do while being abro\",\"Does getting root canal cause problem in speaking \",\"What is the definition of a truncated sentence and\",\"Would I look good with a nose ring? if yes which n\",\"What are the perks of working in Amazon?\\n\",\"How can we say that climate change does not bring \",\"What it is like to meet \\\"Shahid Kapoor\\\"?\\n\",\"How does it feel when you are dead?\\n\",\"Which is the best juicer, grinder or mixer in Indi\",\"How do I learn to think more logically?\\n\",\"Which movie has the best beginning ever?\\n\",\"Which laws been enacted to prevent family members \",\"What is iPhone 6s plus cost present?\\n\",\"What is Ohm's law and amperage I?\\n\",\"What is the nicest thing a stranger has done for y\",\"Why do some heroic people who do good things choos\",\"How will Hindus react if Babri Masjid is reconstru\",\"R2I - How did you plan R2I from US if you own the \",\"How can I master C programming in 7 days?\\n\",\"What is the right way to clean ear wax?\\n\",\"What are some good games to play during class?\\n\",\"Is it possible to hack WhatsApp messenger?\\n\",\"Why do airplanes carry more weight than helicopter\",\"Shaving: Do electric shavers work better than manu\",\"Has anyone benefited, health-wise, from essential \",\"Can Students at Hogwarts have sex while there? Doe\",\"How can we enhance our efficiency with Yoga?\\n\",\"What are the best app review sites and blogs?\\n\",\"Can two companies be registered on the same addres\",\"Is it true that as per Indian law, one can't be ha\",\"Who would win in a war between Bangladesh and Myan\",\"How do you reply when someone thanks you for forgi\",\"Who would win a fight between wolverine and Batman\",\"What is one thing you wish for yourself in the fut\",\"Can you cry underwater?\\n\",\"What's the difference between SSL, TLS, and HTTPS?\",\"Why are antigravity muscles more affected in Upper\",\"In order to buy a house, does one have to rent fir\",\"What is the probability of choosing a pink ball fr\",\"Which is the best car to get under 8 lakhs?\\n\",\"Why isn't China's role in the Korean and Vietnam w\",\"What is the Laplace transform of t^(1/2) * e^ (-1/\",\"To those who told a big lie to their parents and t\",\"What is runtime polymorphism or dynamic method dis\",\"I had sex 5 days after my period, what are the cha\",\"How would you describe yourself in one tweet?\\n\",\"How do fairy tales influence creativity in humans?\",\"How do I add delay() and sound() in Dev-C++?\\n\",\"What is the pathophysiology of ADHD?\\n\",\"What are the top benefits of life insurance polici\",\"Can I get a TV from Bang & Olufsen for under $2500\",\"How is the life of an ece student at dayananda sag\",\"What is meditation?\\n\",\"Were the Ancient Greeks scientists, or just philos\",\"How does Google authenticator work?\\n\",\"Wouldn't it be better if kids were allowed to focu\",\"Can you apply for a certificate on Coursera/edX af\",\"Why do Quora engineers use large monitors?\\n\",\"How do I start an online clothing business?\\n\",\"How will the government meet the challenges of acc\",\"I saw a charge on my credit card under from a comp\",\"What is the difference between socialization and r\",\"How would the world be different if everyone spoke\",\"Who receives the fares in a cab service?\\n\",\"As a non-resident alien doing a summer internship \",\"Which is the best camera smartphone under 20k?\\n\",\"What does it mean to dream about someone before th\",\"What are the subjects in which I can apply for my \",\"What are the basics of Jainism?\\n\",\"What is the Difference between existential nihilis\",\"How can I see my girlfriend's WhatsApp chat messag\",\"What are some ways to enjoy sex with my newly marr\",\"How can I study the Bible?\\n\",\"How can someone be a friend, girlfriend, wife and \",\"What are the Snapchat usernames of punjabi celebri\",\"What is 1/2 times 1/2?\\n\",\"Where does the word restaurant come from and what \",\"What can I do with a computational linguistics deg\",\"Will trump win as president?\\n\",\"What impact will AI eventually have on how we plan\",\"Why is eating too unhealthy?\\n\",\"What if the Syrian civil war never happened?\\n\",\"How do the teachings, learning, followership and/o\",\"Did you ever been in a group of stupid people?\\n\",\"What are the multiple types of social issues?\\n\",\"Where can I find beginner NodeJS tutorials that us\",\"If I got a 7.4 CGPA in the SA1 10 class, then can \",\"Which the best time table for 10th class exams pre\",\"Elite Escorts in DHA Lahore?\\n\",\"My ex bf says he doesn't have feelings for me righ\",\"What are the questions in the interview for a fres\",\"What do you think are some of benefits to humans f\",\"Which one is the best medical college hostel in in\",\"Have you lived in a tiny house?\\n\",\"What are some things new employees should know goi\",\"Where can I hire high pressure cleaning service in\",\"How many Bollywood Actresses consume alcohol in re\",\"How does PayU earn money?\\n\",\"Is it possible to change your personality as a chi\",\"How do I apply to London School of Economics as an\",\"How do I build a profile to get accepted into a st\",\"How can I get real ghost stories?\\n\",\"Is it possible to hack NASA's New Horizons satelli\",\"What is the best way of getting good at answering \",\"How would you deal with jerks?\\n\",\"How can I do internship in Accenture India?\\n\",\"Why would an Indian girl not want to get married?\\n\",\"My WhatsApp chat backup got deleted from Google, I\",\"Is going to college really worth it or just a wast\",\"How many prophets did God send to the Jews?\\n\",\"What is the relation and difference between Artifi\",\"If you don\\u2019t have a good network, what would be th\",\"What are the best place to visit in Rio de Janeiro\",\"Which is the best college for PG in Cyber Security\",\"Which are the best English serials?\\n\",\"How do you say \\u201cWhat\\u2019s up?\\u201d in Chinese?\\n\",\"Is it bad to take expired fish oil pills because t\",\"Will there ever be a genuine Authoritarian candida\",\"Is World War III on its way right now?\\n\",\"How can you use time formats in Excel?\\n\",\"What is the best antivirus for Windows 8?\\n\",\"Why do people like Metal/Hard rock so much?\\n\",\"What are the worst smelling things in the world?\\n\",\"Could someone explain the following electives at N\",\"What's a funny thing?\\n\",\"What are the main reason of cracks?\\n\",\"How do I hitchhike in Europe?\\n\",\"What is the physical significance of quantum mecha\",\"How do we get dead people off business junk mail l\",\"Who among the four in the picture given in descrip\",\"How do I know if I authentically, genuinely, hones\",\"On average, how long does it take a letter mail fr\",\"When will One Piece have episode 517 dubbed?\\n\",\"What should I do if I fell in love with my best fr\",\"How do criminal lawyers sleep at night even when t\",\"Can I get refund for Tatkal e-ticket because train\",\"How can I buy the new Macbook 12\\\" M7 512GB model i\",\"What are the different e-governance methods used b\",\"How do I run smoother GTA V? I have intel core i3 \",\"What is the use of tanpura?\\n\",\"What are the Snapchat usernames of celebrities?\\n\",\"Which is better- cracking gate and going for IIT/i\",\"Can you lose weight without exercising?\\n\",\"What is the best way to make life more interesting\",\"Is Delhi a must for UPSC coaching?\\n\",\"Which are the best colleges for electronics and in\",\"I have been a .Net developer for over 2 years and \",\"Has a smartphone ever been taken to space? If yes \",\"What questions should I ask my boyfriend, we are b\",\"How do I delete a contact blocked in WhatsApp?\\n\",\"Is it a good time to buy real estate in Cyprus?\\n\",\"South India: Why is South India much more develope\",\"What is the formula for a hydrocarbon?\\n\",\"What if an alien comes and tells us that the physi\",\"What are the pros & cons of democracy?\\n\",\"I'm 16 years old and wanted to lose weight and bod\",\"Can I add more peers to the torrent for max speed \",\"What are the best neighborhoods to Airbnb in Chica\",\"What we will get in mahabalipuram beach sunrise or\",\"How fast can you accelerate to the speed of light?\",\"What is the difference between R-squared and Adjus\",\"How many times can women reach orgasm in a hour an\",\"Why didn't Johor, Batam & Singapore integrate more\",\"Which products are more profitable in online sell?\",\"How do I get rid of muscle?\\n\",\"What is the process of directing and casting child\",\"Is the 7th pay commission needed?\\n\",\"What are the best games that are compatible on a C\",\"What was the significance of the battle of Somme, \",\"How do you see Pakistan PM Nawaz Sharif's speech a\",\"Where can I publish my apps?\\n\",\"What was your darkest moment?\\n\",\"Why does the UK have an unwritten Constitution?\\n\",\"What are the necessary steps in documenting a mobi\",\"Why was life created? Why was life so painful?\\n\",\"How can I use explainer video to review products o\",\"What is difference between residue and error?\\n\",\"If 6.5 to 8.5 will be the safe level of pH value i\",\"I am 23 and don't know what I want. My life is ver\",\"What are your three favorite websites for reading?\",\"Why do people choose to be a GAY?\\n\",\"What is the process of death?\\n\",\"Why does light red deserve the special name \\\"pink\\\"\",\"Who are millennials?\\n\",\"What it's like doing CA articleship from Big 4s?\\n\",\"What is the most important right or freedom guaran\",\"Why do some porn stars have unprotected sex?\\n\",\"What are my reasons to live?\\n\",\"How small would a planet need to be to plainly see\",\"Some religion speaks of burning in hell after deat\",\"What does it feel like to be an IITian?\\n\",\"How does cognitive behavioural therapy work?\\n\",\"Why should you visit India?\\n\",\"I lost my Google account information. How can I re\",\"What if I port a number from Airtel to Vodafone in\",\"What are the reasons why time travel is impossible\",\"Will my iPhone alarm still go off if \\\"Do Not Distu\",\"Did South Korea cheat during the 2014 Asian Games?\",\"Take the minimum lethal volume of a gaz, put it in\",\"\\\"How to improve Project Management skills?\\\"\\n\",\"When you were small, did you ever think that your \",\"Where did the pointy \\\"S\\\" symbol come from?\\n\",\"How does it feels like to have a rich boyfriend?\\n\",\"What have you used your intelligence for?\\n\",\"What is a freewheeling diode?\\n\",\"How do we derive pi?\\n\",\"What is the importance of communication skills in \",\"How can I put icons on YouTube video titles? Also \",\"What does the phrase \\\"resonate with me\\\" mean?\\n\",\"How many types do we have of Manual testing?\\n\",\"What are IBAN numbers?\\n\",\"What is regret?\\n\",\"As a student specializing in English language, lit\",\"What is the corporate culture like at Corning? How\",\"How can I convert jazz standards to jazz guitar so\",\"How good was the surgical strike by Indian Army on\",\"What recipes are most conducive to romance?\\n\",\"What are the unknown facts about Tamil people whic\",\"Where do I find the most beautiful woman in the wo\",\"What does the grey phone icon mean on the messenge\",\"How do I share 360\\u00b0 photos on WhatsApp?\\n\",\"What is the difference between working stress meth\",\"What are the opportunities for an MBA in finance?\\n\",\"Can you patent clothing or fashion designs?\\n\",\"My in laws are apologists for Nazi war criminals a\",\"Which is the safest city in India for women?\\n\",\"What horse breed were commonly used during the \\\"Wi\",\"Is it weird to sometimes feel almost overwhelmed b\",\"Can anyone please list all the SAP SD topics a per\",\"In the filling of ibps application I put martial s\",\"In a restaurant, what are the different types of t\",\"Why does amir khan never go to any filmy awards fu\",\"What is a good inpatient drug and alcohol rehab ce\",\"Why does UV light cause contamination on optics, b\",\"How do I invest in mutual funds in India?\\n\",\"How comfortable are you with failure?\\n\",\"What skills are required to become a quant?\\n\",\"Why do startups announce fundraising?\\n\",\"What is your review of Amazon Video?\\n\",\"Why there is no team from Tamil nadu in pro kabbad\",\"How do I auto forward texts from my Verizon phone \",\"How do the Chinese people view Americans?\\n\",\"What is virgin or virginity?\\n\",\"What are the different ways of submitting a Reques\",\"Can a high school teacher legally force students t\",\"Why does water droplets form on the outer surface \",\"Which mammals have dark circles around eyes beside\",\"How do each components of a printer work?\\n\",\"What are some foods beginning with the letter W?\\n\",\"What are symptoms of a bad transmission control mo\",\"How do astronauts in ISS vote for Presidential ele\",\"What is the difference between Aim and Goal?\\n\",\"What is AT & C?\\n\",\"Who was Jackson Pollock? Was he mentally ill?\\n\",\"How do I make good vine edits?\\n\",\"How can I cut my penis?\\n\",\"How can I change my Quora profile photo?\\n\",\"My husband was here seeking asylum before we got m\",\"Is it good to use Laravel to develop a web app wit\",\"I have a mild sore throat an headache. What is tha\",\"When will a working nintendo 3DS emulator release \",\"What do we know about the health effects of vaping\",\"INSEAD: Worth the investment?\\n\",\"How is long rides in royal Enfield classic 350?\\n\",\"What famous boxers have participated on Dancing wi\",\"Will season 10 of Big Bang Theory be the final sea\",\"Can I crack KVPY (SX) with only three months left \",\"What are some little-known facts from World War II\",\"What is the most unique way of exam cheating you'v\",\"When was the last time a slam dunk broke a basketb\",\"What should I do for my excessive hair loss?\\n\",\"How do I find people's psychological weakness?\\n\",\"What is the difference between Awareness and Consc\",\"I hate everything that people around me like. Is i\",\"I think I am pretty good at thinking of a business\",\"How do you determine the thickness of a footing ba\",\"Why does vapours are formed when we pressurize alc\",\"Is it easy to adjust in German Universities withou\",\"What is UNIX and UNIX-like?\\n\",\"What is the best way to promote www.dorkyard.com?\\n\",\"What's up in Addis Abeba tonight?\\n\",\"Is there any point to going to college if you have\",\"How much would it cost to construct 800 sqft area \",\"What is an ideal wife? What is an ideal husband? W\",\"What information does port scanning provide?\\n\",\"What are the application of quasicrystals?\\n\",\"What is the determinant of the inverse of a matrix\",\"How is Brad Pitt in \\\"real Life\\\"?\\n\",\"I have a 3 yr bachelor's degree in Computer Scienc\",\"Demonetisation is good for county like India or no\",\"My parents think I am rude for being so introverte\",\"How many people have jumped off the Golden Gate br\",\"What are Osho's views on Islam?\\n\",\"Why does the government regulate health care?\\n\",\"Which phone has the best sound recording quality?\\n\",\"What is the best part of your life, and why is it \",\"Which is better hair wax or hair clay?\\n\",\"How do I charge my motorcycle battery?\\n\",\"What are the updates we get after miui 8.0.6.0?\\n\",\"Why does Robinhood need to bypass the App Store?\\n\",\"Which is a better route, Alipiri or Sri Vaari?\\n\",\"How much extra would it cost if Apple manufactured\",\"When will the next recession be?\\n\",\"What are some arguments in support of electing Don\",\"What does Russia want with Ukraine?\\n\",\"What is the difference between a recorder (block f\",\"What is the meaning of random number?\\n\",\"Which one is good for health: tea or coffee?\\n\",\"Is Texas good state for non-resident to register a\",\"What is kirchoff's law?\\n\",\"Is it wrong for a family member to keep making com\",\"My parents are forcing to marry a girl of their ch\",\"Which is better, Windows+Linux or OSX?\\n\",\"Why aren\\u2019t Christians that pray to/have a relation\",\"How much TDS will I have to pay for an RD account \",\"What is the meaning of thematic connection?\\n\",\"How should you prepare to take your maneuverabilit\",\"What are the best materials/videos/resources to ge\",\"Can a \\\"dirty\\\" finish be added back to jeans?\\n\",\"Why does my dog keep whining at night?\\n\",\"Is it bad to turn off my PC using the power button\",\"What is image processing?\\n\",\"I went to school with mostly black kids, they bull\",\"Does Donald Trump actually think he can become Pre\",\"Which are the 5 best movies you have ever seen?\\n\",\"How do I get traffic to excursions travel website?\",\"Where can I download the Android game Leo's Fortun\",\"How do I get more followers and upvotes on Quora?\\n\",\"What is a factory reset on a phone?\\n\",\"Which phone should I buy if my budget is 12000?\\n\",\"I have GPU implementation as a graduation project.\",\"What are the libertarian views on the Antarctic Tr\",\"What would the world be like if it were ruled by a\",\"How do you choose your first bank?\\n\",\"Who runs berkuliah.com?\\n\",\"What does Godel's incompleteness theorem mean for \",\"How do I delete a Gmail account?\\n\",\"If my ultimate goal is to become a vegan, should I\",\"Did the US win the war in Afghanistan?\\n\",\"How can I become a good engineering student?\\n\",\"What are some ways to increase intuition?\\n\",\"What causes depression in humans?\\n\",\"How can I control my anxiety and worries?\\n\",\"How can we jump in between the working regions of \",\"How do I stop loving someone who loves me?\\n\",\"Can personality and insecurity create a liar?\\n\",\"What is the best country and university to do a Ph\",\"How do I edit a video offline?\\n\",\"What is the rent of kiosk in an upscale mall?\\n\",\"What should I start reading if I want to attempt t\",\"Which is the best anti-virus for computers?\\n\",\"Does food unite people?\\n\",\"What do you like most about Internet?\\n\",\"What is a good model of federalism in the Philippi\",\"How do you know if a girl secretly loves you?\\n\",\"Who is the most annoying fictional character you h\",\"How do you feel when your question is unanswered o\",\"Did early humans know how babies were made?\\n\",\"If I cancel xfinity, how can I sign up as a new cu\",\"Are there any TV series similar to House MD?\\n\",\"What you need to know before buying furniture for \",\"Have you ever had a dream happen in reality?\\n\",\"Is dark matter just a scientific theory or has its\",\"How can you increase your tolerance for pain?\\n\",\"How many logical fallacies are there?\\n\",\"How do buttercream icing frosting separate?\\n\",\"Which is the cheapest cinema hall of India?\\n\",\"What do you think would be a good gre score?\\n\",\"What is the best way to update Xiaomi redmi 3 to M\",\"What does toe jam cheese taste like?\\n\",\"How do I know if a YouTube video is copyrighted?\\n\",\"How should I start a business reselling shoes?\\n\",\"How do I hire a mobile app development company?\\n\",\"What is paras pathar?\\n\",\"How is the word \\\"colony\\\" used in a sentence?\\n\",\"What is Rebecca Fugate known for?\\n\",\"What should I consider before starting my consulta\",\"Do you feel that many attractive women get away wi\",\"Why do I feel so much guilt for kissing a girl?\\n\",\"What are some good tutorials for learning Blender?\",\"Is it deceitful to befriend someone in the hopes t\",\"Who do you think BJP will put as a candidate for t\",\"Which protein supplement is best for gym to gain w\",\"What is your review of KVPY SX/SB 2016?\\n\",\"How do I get people's attention for my work?\\n\",\"What are some of your own personal stories and exp\",\"If salt concentration of the sea(3%) were differen\",\"What is the chemical name for mothballs? How was i\",\"Vitamin D receptors in the Testes?\\n\",\"How do I lose weight without working out?\\n\",\"Where can I watch anime?\\n\",\"What is BusyBox used for?\\n\",\"What would be a good desktop computer for software\",\"What are your top five favorite books and why?\\n\",\"What are some good Harry/Ginny fanfiction?\\n\",\"What are the pros and cons of having sex during pe\",\"Which device will you enjoy watching movies in: a \",\"Will there be \\\"faithless\\\" electors this election?\\n\",\"Is Donald Trump an undercover democrat?\\n\",\"Why am I the way I am?\\n\",\"Why do some women get their nipples pierced?\\n\",\"What do Delhi University girls (especially North C\",\"What is the name of this TV series?\\n\",\"My salary is below the Basic Exemption Limit, yet \",\"What is a foliated rock?\\n\",\"What are some of the best books to start learning \",\"How should I prepare for IIT-JEE 2018?\\n\",\"How do unions work?\\n\",\"Can we give neet coaching in class 11?\\n\",\"Which is the best dish TV connection in Hyderabad?\",\"How can you train a Doberman/Lab mix?\\n\",\"How do you reduce stress at work?\\n\",\"What is the best algorithm for finding the number \",\"How can I earn $250 in 2 months?\\n\",\"Why did GE buy NBC?\\n\",\"What is the highest level of c?\\n\",\"How do you mash potatoes without a masher? What el\",\"How difficult is it to learn Python?\\n\",\"How do you convert years into seconds?\\n\",\"How do you view bisexuality?\\n\",\"What is information technology? What are some exam\",\"Why are Altoids so strong?\\n\",\"How effective is email marketing?\\n\",\"Why does my tutor keep winding me up. He says he i\",\"How can I start my Tok essay which is about accura\",\"How do I repair my corrupt memory card?\\n\",\"I have 3 years to prepare for IIT JAM Physics. How\",\"What are the best Instagram hack tools that have n\",\"I am studing interior design. What are some good i\",\"What are some stupid jokes that make you laugh?\\n\",\"What are the factors affecting Real estate investm\",\"How can I get rid of white dry spot on my face? It\",\"What is it like to have an ugly wife/partner?\\n\",\"What do you love most about your life and why?\\n\",\"In the unlikely event that the Electoral College t\",\"How is life as an Engineer?\\n\",\"Where and why are the imaginary numbers used?\\n\",\"What are some good hypo-allergenic lipsticks?\\n\",\"Did the United Nations play a part in the divide o\",\"When and Why did America become a world power?\\n\",\"What are some recipes using Hormel Black Label Ham\",\"Which is the best company to invest shares on Nove\",\"The man I'm about 2 marry says when I have my peri\",\"What can be the best answer for why finance?\\n\",\"What are the best facts about the universe?\\n\",\"What's the sweetest thing you did for a bestfriend\",\"What is the difference between techno and trance m\",\"TV Sitcoms: Why do English comedy shows have peopl\",\"Does percentile system would affect neet 1 student\",\"Is there Uber in Valencia, Madrid and Barcelona?\\n\",\"Have real-life siblings ever shot intimate scenes \",\"How should I improve my writing skill for blogging\",\"Can cold weather affect a menstrual cycle?\\n\",\"How can we earn money online while studying?\\n\",\"Can a tablet keyboard be used on any kind of table\",\"What are the Upcoming development projects in Chha\",\"Where can I buy cheap Twitter followers?\\n\",\"Why do passengers from aircraft are not given a bu\",\"When should I tell my crush I like her?\\n\",\"Why does Pakistan have a better image and reputati\",\"What are Andrea Pirlo's strengths as a midfielder?\",\"From a point in space billions of light years away\",\"Will Medicaid pay for electrologist to do the shav\",\"Why do technical employees despise sales people so\",\"What are the best freelance websites for C#?\\n\",\"Will I be successful without educations?\\n\",\"How can I learn about cars?\\n\",\"What is the best question asked in an interview?\\n\",\"Why there is so much hatred against Brahmins in In\",\"How do I learn to enter journal entries online in \",\"Will CS be issuing a PR message for Boston?\\n\",\"Why do some people 'hate' drugs or people who ever\",\"How do I know my passion? What is my talent and wh\",\"How do pessimists and optimists differ?\\n\",\"How many pulleys did it take for Archimedes to lif\",\"What is the best course after 12th for a medical s\",\"What are the steps that I should follow to get in \",\"Where was the boston marathon?\\n\",\"What is it like to be in or around a bomb blast?\\n\",\"Will Trump destroy international US-companies thro\",\"Should celebrities have the right to voice their o\",\"Can I say that: \\\"A battery can be seem as a capaci\",\"What is it like to be an ENTP?\\n\",\"How do I start designing on glass?\\n\",\"What is the market risk premium formula?\\n\",\"How can I pay the parking meter if I have no coins\",\"Is it true that Obama has a secret son named \\\"Luth\",\"Which is the best coaching for IAS in up?\\n\",\"How big is the equity funding market in North Amer\",\"Which are the good government medical colleges in \",\"How do I control my hair fall?\\n\",\"Is it really worth creating Shopify themes?\\n\",\"What can cause knee pain? It only hurts when I sta\",\"Where can you find a list of common 9 letter words\",\"NSFW: Is this penis color normal or should I see a\",\"Why do most women remove the hair from their arm p\",\"Which processor is better (faster/more efficient),\",\"Which two statements are true regarding views in s\",\"What is the easiest and quickest Indian food recip\",\"What are the best local SEO companies in India?\\n\",\"How do I get rid of adult content on my Quora feed\",\"Can the zombie fungi attack humans as well?\\n\",\"If I wanted to learn about the Roman Empire,what w\",\"What are the key differences between LXDE and XFCE\",\"Can people see the sellers real name, e-mail addre\",\"Should I still watch The Matrix movie?\\n\",\"Is there any truth to the rumor that the youngest \",\"Is it ok that I don't want to hang out with my fam\",\"I am in class 9. If i want to crack IIT JEE, then \",\"Will Obama's gang stalking/surveillance program be\",\"What are some good songs to lyric text prank a fri\",\"Where can I get best quality video DJ for party in\",\"How long does it take for your hair to grow?\\n\",\"Should I update my Redmi 3s from MIUI 7 to MIUI 8?\",\"How do muscles work?\\n\",\"WHAT IS THE BEST ROUT FOR NEPAL PASUPATI NATH TEMP\",\"How to make a website similar to feedwiser.com in \",\"Why does India so scared of CPEC?\\n\",\"What did your first sex feel like as a girl?\\n\",\"In International ODI/T20 cricket matches, if a bat\",\"Why can humans feel acceleration, but not constant\",\"Can the Microsoft Surface Pro 4 run AutoCAD?\\n\",\"What are the differences between stock Crown Victo\",\"What are the good ways to download Lynda.com's tut\",\"How much is the average salary package for a 1.5 y\",\"How can you reduce the barriers of communication?\\n\",\"Why would someone use Instagram Stories over Snapc\",\"Whiskey: How many 'shots' are in a fifth of Jack D\",\"What might happen now that President-elect Donald \",\"How do I write a waiver letter for school?\\n\",\"I am interested in persuing ma industrial psycholo\",\"Does modafinil shows up on a drug test? Because my\",\"Is it possible to get high off Vyvanse?\\n\",\"Is an agnostic necessarily a skeptic, and how?\\n\",\"Where can I get best support in Sydney for buying \",\"What are the duties of a lieutenant in Indian army\",\"Why is smileys not used on Quora?\\n\",\"What does it feel like for a man when someone who \",\"How does post graduation permit impact .lets say I\",\"Online Payment Gateways and Processing: What is th\",\"What are the best books to learn c programing lang\",\"Solid State Physics: What is The Theory of Alloys?\",\"How do I fill in my first name in a PAN card dupli\",\"Why is egg yolk not good for you?\\n\",\"Anatomy of Female Pelvis: Do women really have an \",\"How much does it cost to develop mobile applicatio\",\"Who is the most honest Game of Thrones character?\\n\",\"What is a high quality Apple MacBook Air charger?\\n\",\"Where and how is the WWE championship belt made?\\n\",\"What is green communication?\\n\",\"I have been a good student since chiild hood but j\",\"I'm solving exercises of artificial neural network\",\"Compared to your own compensation, and in consider\",\"How can I keep browsing Quora forever?\\n\",\"Having built web stuff the old way (PHP/MySQL) bac\",\"Is our new currency note of Rs.2000 equipped with \",\"What's the best way to join a startup in DC?\\n\",\"What would happen if we added a second Earth of eq\",\"When will piracy on Android stop?\\n\",\"What do you mean by executive consultant and suppo\",\"Why do I always feel like I am missing something?\\n\",\"What does a user see when he/she gets a new messag\",\"How can I become a web developer?\\n\",\"Is there any good alternative softwares to Tally?\\n\",\"Would you have sex during period?\\n\",\"Are there prominent Bangladeshi Hindus?\\n\",\"I have registered for PhD (no NET) (phy) in 2013, \",\"I changed my name, but the person did a mistake. M\",\"At what age do your breasts stop growing?\\n\",\"How do I get a girl's phone number in a library?\\n\",\"I am into a habit of over thinking things. How do \",\"What is the average salary of a civil engineer?\\n\",\"What is the difference between rote learning vs me\",\"What are the ways to compete in the Olympics in 20\",\"What trivia (and/or little-known facts) do you fin\",\"Xiaomi Redmi note 3: Which is the best colour to b\",\"What does \\\" the Hadamard Perron theorem\\\" means?\\n\",\"Is there a way to see the viewing history and chat\",\"What is the best place for trekking in Goa?\\n\",\"How does an instant messenger work?\\n\",\"What are the disadvantages of the World Trade Orga\",\"Why does the US military not use AK series rifles?\",\"Does Moto m have gorilla glass?\\n\",\"What is the hierarchy of an associate consultant a\",\"What are some major landforms in Texas, and how do\",\"What other jobs can a medical degree holder do mea\",\"MY HP DEXTOP DOESNOT CONNECT WIFI WHY?\\n\",\"How can I get motivated to workout?\\n\",\"What should I gift it to my mom on her birthday?\\n\",\"Which is the best video you have ever seen?\\n\",\"I was selected in campus and was issued a joining \",\"What makes a poem a good way to express emotions? \",\"What would happen if I cut down a tree outside my \",\"Can you make money in Amway?\\n\",\"Body Weight: How many pounds can I gain every week\",\"What are the impacts (both positive & negative) of\",\"I forgot the password which I used to login n n lo\",\"What are the best websites for career?\\n\",\"What is your favourite episode of the office (USA)\",\"Why is time slower down near heavy objects?\\n\",\"How do l update any version after rooting the mobi\",\"Why is 3 am called the witching hour?\\n\",\"How do I run a shell script from Java code?\\n\",\"What are the advertising campaigns of 2011?\\n\",\"Should I opt for computer science if I don't take \",\"What are the polymers of protein?\\n\",\"How much better will the JWST be than Hubble?\\n\",\"What are the greatest examples of absence of mind?\",\"How can I understand the STOCK market from the bas\",\"How do I make Gazpacho?\\n\",\"What is the typical role of a brand manager?\\n\",\"Who are the top 5 hottest women ever?\\n\",\"What is the name of the game that Aamir Khan was r\",\"How long does it take to learn dance?\\n\",\"What's the funniest thing that's happened to you a\",\"Why are metals malleable and ductile?\\n\",\"List of national daily in India?\\n\",\"Are Volvos actually safer than comparable cars?\\n\",\"Can you tell who has been looking at your Instagra\",\"A ball dropped from the roof of a building takes 4\",\"What percentage of Hillary Clinton's supporters ha\",\"Do you think you are beautiful?\\n\",\"Which are the free email marketing tools?\\n\",\"What topic of discussion do people hate the most? \",\"What is the point in having hyper-politicised stud\",\"Why Steve Jobs is considered as innovator?\\n\",\"How long would it take an average programmer to wr\",\"Why are conservatives defending Holly Fisher? (see\",\"What is so important about Adam Smith's pin factor\",\"What is the Arizona bark scorpion, and how do anim\",\"How do I stop smoking cigarettes?\\n\",\"What are the functions of a computer's motherboard\",\"How can tea bags help for styes?\\n\",\"How can I get a patent for my really effective inn\",\"Can India ever become 'Sone Ki Chidiya' again?\\n\",\"Is there any way to play Android games LAN multipl\",\"Why should I ask my first question?\\n\",\"Who are the top writers on Hinduism on Quora? Who \",\"How do I wake up at 4:00 A.M.?\\n\",\"Why is Quora moderation collapsing all my answers?\",\"In an honest assessment, what do you think of Trum\",\"What type of bonding is present in a coordinate bo\",\"Is it possible to delete your Wikipedia account hi\",\"I'm a +2 CBSE non-medical student. Is there any pr\",\"Are there any limitations as to setting up a forei\",\"How will the drought in California affect its econ\",\"What is Informatica online training?\\n\",\"Is it compulsory for a Web designer and developer \",\"How could the US realistically pay off its debt?\\n\",\"Who is Barry Soetoro?\\n\",\"How do I solve [math]2x^3-x^2+11x+3=0[/math]?\\n\",\"What are some hobbies couples can do at home?\\n\",\"How have meerkats adapted to the desert?\\n\",\"What causes dizziness when you lay down?\\n\",\"What should one do after a civil engineering degre\",\"What are the advantages of hiring skip bins servic\",\"Why is it necessary that singers lip-sync?\\n\",\"How can I turn off the screen overlay detected on \",\"How do you clean or polish a pair of Woodland shoe\",\"What are some classes you wish you took in high sc\",\"What is the formula of [math](a+b)^3[/math]?\\n\",\"What is it like to commit yourself to a psychiatri\",\"Is there any way to slow or reverse the late effec\",\"What would the implications be if we discovered th\",\"Any other program to help on code contribution for\",\"What is the bond order of [math]H_2[/math]?\\n\",\"What is the best way to create a website without c\",\"What were some causes and effects of the French Re\",\"What are some catchy headlines for a dating site?\\n\",\"Should I get Company of Heroes, World in Conflict \",\"How do I remove a person from a group in Skype?\\n\",\"Why was Manmohan Singh briefed by PM Modi after su\",\"Does anybody want to learn Chinese?\\n\",\"Is Xiaomi going the Nokia way to oblivion?\\n\",\"Should I buy hp 17.3 AMD laptop or lenovo 17.3 i5 \",\"Which is better a government job or a software job\",\"How can the word \\\"credulity\\\" be used in a sentence\",\"Does uber track time on app?\\n\",\"How do I get over direct rejection?\\n\",\"How can any institute get an ISO certificate?\\n\",\"What are the best pranks?\\n\",\"Are non-solicit agreements enforceable if the pers\",\"Which phone is best in 2016 for a 18 years boy my \",\"What is the definition of an archetypal hero?\\n\",\"Why are some \\\"ugly\\\" people still very attractive?\\n\",\"What are the chances of Donald Trump's impeachment\",\"What would a society based on laws enforcing only \",\"What is the full form of \\\"veto\\\" power?\\n\",\"How much do people get paid to do a TED talk?\\n\",\"What does it mean to say \\\"enriching herself off of\",\"How can I be more persuasive at work?\\n\",\"What is the corporate culture like at National Bev\",\"What is the fastest way to get a PAN card?\\n\",\"Who will win in America presidential elections in \",\"How do I solve this differential problem?\\n\",\"How is Banjara's Saffron Facial Kit used?\\n\",\"How do you understand life?\\n\",\"Will an MS from NUS in electrical engineering prov\",\"How does one create a strong password? Any tips?\\n\",\"Who was the best dressed at the 2016 Emmy's?\\n\",\"What is the cost of manufacturing a SIM card?\\n\",\"Are you tolerant?\\n\",\"Is [math]\\\\{1,2,3\\\\}[/math] a compact subset of a me\",\"What kind of energy is involved in hearing and vis\",\"What happened with Lehman Brothers?\\n\",\"What is a good web page publisher?\\n\",\"Why does eating radishes cause diarrhea?\\n\",\"How do I encrypt the data on my Android phone?\\n\",\"If there were an Oscar for \\\"Best Line in a Movie\\\",\",\"Why are tyres black?\\n\",\"What is the best way to unlock a Motorola Droid Bi\",\"Is a $45 a month job worth the experience?\\n\",\"Should I settle in Canada or Japan?\\n\",\"How is the appraisal process in Accenture? How wil\",\"How does sand turn into glass?\\n\",\"What effect will increased automation of jobs and \",\"I am 25 years old Indian guy, want to settle in Ne\",\"What are some Raksha Bandhan gift suggestions for \",\"How do I write a multi-dimensional villain that is\",\"Why is there no nucleus in a red blood cell?\\n\",\"Why do Quora allow anonymous fake questions from A\",\"Is it possible to merge a foursquare venue into a \",\"How do I find out if I have Siri on my phone?\\n\",\"Why do I feel like I'm not living my life?\\n\",\"What will happen to global stock market if Donald \",\"What makes weeds grow so much faster and easier th\",\"Do people with extremely high IQ need higher sugar\",\"What should teaching assistants do?\\n\",\"Why is Perth one of the most liveable cities in th\",\"How do you get to the entrance for Resolution Cave\",\"How do I get involved in research as an undergradu\",\"If you have one option to remove anything, what wi\",\"What are the risk after angioplasty?\\n\",\"Why can't men read the signals women give off when\",\"How can a non-EU medical graduate get into residen\",\"How do I stay active?\\n\",\"I'm going to Paris. What is the equivalent \\\"neighb\",\"How do I get rid of dandruff, or at least prevent \",\"Is Medicaid going to pay for the electrologist for\",\"When Australia became a nation in 1901, Did aborig\",\"What is the difference between SSL and Sitelock?\\n\",\"What are some unsolved problems in deep machine le\",\"What's the difference between computer engineering\",\"Is it possible to get a decent job after completin\",\"What is the difference between MG & BG in railway \",\"How do I control an Arduino with a Raspberry Pi?\\n\",\"What is the best field to pursue MS after doing el\",\"What is the difference between Directx and graphic\",\"How do I wirelessly charge the electrical devices \",\"Can you upload Numbers sheets from iPad to Google \",\"What's the best movie franchise you have ever watc\",\"If light does not have mass, then how can it be ab\",\"Why is the book of Esther in the Bible?\\n\",\"What makes comic books worth reading?\\n\",\"What are the advantages of outsourcing property ma\",\"What is a Quora credit competition?\\n\",\"Are data analyst/data science jobs boring?\\n\",\"Why don't satellites crash into each other?\\n\",\"How do dermatologists remove blackheads?\\n\",\"How can I choose between my dad and my mom?\\n\",\"Can you really not change people?\\n\",\"Being a non believer of a spiritual entity, I have\",\"Is black coffee fattening? If so, what makes it fa\",\"The education system is outdated. What would you d\",\"Who are the founders of Quora?\\n\",\"What is it like to be a landlord?\\n\",\"How many stamps do I need to send a letter to germ\",\"My father just recently got married. His wife goes\",\"Which countries are best to migrate from the US?\\n\",\"Can any one tell me a basketball club in Bangalore\",\"How can Spotify download songs offline?\\n\",\"How do I make money online for free in Spain?\\n\",\"Why is Tornado Alley prone to tornadoes?\\n\",\"How does helium change the inhaler's voice?\\n\",\"What is a bedding ceremony in Game of Thrones?\\n\",\"What is it like living in former East Germany as a\",\"Did the USA or NATO commit any war crimes in Iraq?\",\"Why don't we capture terrorist and behead them?\\n\",\"What is your favorite quote (books, movies, people\",\"What mixes well with peach vodka?\\n\",\"Which Patanjali products contain cow urine?\\n\",\"Why are three phases denoted by RYB?\\n\",\"Where could I learn JavaScript online?\\n\",\"Is it appropriate to wear a sports bra simply to t\",\"What are the differences between Jenkins CI and Dr\",\"T right do you think we should be entitled to?\\n\",\"What was the public's reaction to Crystal Pepsi?\\n\",\"How can I crack MH-CET 2017 engineering by self-st\",\"What is the way to become a dental hygienist in th\",\"Why do solving math/statistics problems causes my \",\"Does your name sound as awkward to others as it so\",\"What is the proper format of writing formal-inform\",\"How does doc2vec represent feature vector of a doc\",\"Why are software development task estimations regu\",\"How can I set up molecular pathology lab?\\n\",\"How do I score a rank in CA - IPCC?\\n\",\"What are some examples of strong organic acids?\\n\",\"What can be a good hindi (indian) name for a tea b\",\"Is the Google host matching process different for \",\"Is Cuba considered part of Latin America?\\n\",\"Does the following script (\\u0256\\u2200\\u0f61\\u0632\\u2202 \\u0250\\u0167 \\u01ab\\u04bf\\u03de\\u026e\\u2609 \\u027d\\u03c6\\u0289\\u029b\\u0195), \",\"How can I increase my website's DA?\\n\",\"Is it normal to imagine having sex with other guy \",\"What is the percent purity (approx) of consumable \",\"Do soulmates just come walking into your life when\",\"If I use marijuana with my boyfriend, is there a p\",\"Can you analyze everything in soil?\\n\",\"What difference it would make if India Nuked and K\",\"What are the advantages of a dominant party system\",\"What were some things India did not do but takes c\",\"How many total women have accused Bill Clinton of \",\"Why do I wish some fictional characters existed?\\n\",\"Where can I find best hotel at Ranikhet?\\n\",\"How do I make good memes?\\n\",\"What are some of the common sayings or proverbs in\",\"What kind of writing style makes someone a \\\"dark w\",\"Are Trump and Hillary really the best America has \",\"How can I make my career in embedded system and ro\",\"Will adding a USB to VGA adapter always give an ex\",\"We will never be able to see our own faces with ou\",\"What are the ways you can stop a friend from pitch\",\"What is the average time for preparation of IAS?\\n\",\"How can I learn new things quickly?\\n\",\"What is the definition of political courage?\\n\",\"What makes death scary?\\n\",\"I'm really pretty but I don't want to be I hate th\",\"Is Assam Down Town University good?\\n\",\"How do the brain structures of bonobos change as t\",\"What's the biggest scam?\\n\",\"Does the US government have an alien flying saucer\",\"I need to gain weight, but I don't have abs. It's \",\"Why should I study Calculus?\\n\",\"Do you think your childhood contributed to your fi\",\"How does the Goods and Services Tax (GST) works?\\n\",\"Where can I download Cisco 500-285 exam dumps?\\n\",\"How do I can make a second nation in Cybernations \",\"Did Neil Armstrong really land on the moon?\\n\",\"Why is Devil any other than God head of state?\\n\",\"How do I stop being possessive over my girlfriend?\",\"How does Kongregate compute the statistics of adve\",\"Who is the best nuero physician at NIMHANS, Bangal\",\"What are nonprofit organizations?\\n\",\"I want to know the process of starting outbound ca\",\"Which are some of the best hotels to stay in Helsi\",\"What is good about Deloitte Chicago?\\n\",\"How do I recover data from a formatted hard drive?\",\"Could India and Pakistan unite again?\\n\",\"How often should I massage my face with Argan oil?\",\"How is psychodynamic therapy different from psycho\",\"What are some of Barack Obama's character traits?\\n\",\"Would it make sense to replace the B-52's 8 1960s \",\"Is it possible to bring forward my flight date of \",\"How can I learn marathons?\\n\"]]]}}},\"view\":{\"type\":\"object\",\"name\":\"CDSView\",\"id\":\"p1264\",\"attributes\":{\"filter\":{\"type\":\"object\",\"name\":\"AllIndices\",\"id\":\"p1265\"}}},\"glyph\":{\"type\":\"object\",\"name\":\"Scatter\",\"id\":\"p1260\",\"attributes\":{\"x\":{\"type\":\"field\",\"field\":\"x\"},\"y\":{\"type\":\"field\",\"field\":\"y\"},\"size\":{\"type\":\"value\",\"value\":20},\"line_color\":{\"type\":\"field\",\"field\":\"color\"},\"line_alpha\":{\"type\":\"value\",\"value\":0.25},\"fill_color\":{\"type\":\"field\",\"field\":\"color\"},\"fill_alpha\":{\"type\":\"value\",\"value\":0.25},\"hatch_color\":{\"type\":\"field\",\"field\":\"color\"},\"hatch_alpha\":{\"type\":\"value\",\"value\":0.25}}},\"nonselection_glyph\":{\"type\":\"object\",\"name\":\"Scatter\",\"id\":\"p1261\",\"attributes\":{\"x\":{\"type\":\"field\",\"field\":\"x\"},\"y\":{\"type\":\"field\",\"field\":\"y\"},\"size\":{\"type\":\"value\",\"value\":20},\"line_color\":{\"type\":\"field\",\"field\":\"color\"},\"line_alpha\":{\"type\":\"value\",\"value\":0.1},\"fill_color\":{\"type\":\"field\",\"field\":\"color\"},\"fill_alpha\":{\"type\":\"value\",\"value\":0.1},\"hatch_color\":{\"type\":\"field\",\"field\":\"color\"},\"hatch_alpha\":{\"type\":\"value\",\"value\":0.1}}},\"muted_glyph\":{\"type\":\"object\",\"name\":\"Scatter\",\"id\":\"p1262\",\"attributes\":{\"x\":{\"type\":\"field\",\"field\":\"x\"},\"y\":{\"type\":\"field\",\"field\":\"y\"},\"size\":{\"type\":\"value\",\"value\":20},\"line_color\":{\"type\":\"field\",\"field\":\"color\"},\"line_alpha\":{\"type\":\"value\",\"value\":0.2},\"fill_color\":{\"type\":\"field\",\"field\":\"color\"},\"fill_alpha\":{\"type\":\"value\",\"value\":0.2},\"hatch_color\":{\"type\":\"field\",\"field\":\"color\"},\"hatch_alpha\":{\"type\":\"value\",\"value\":0.2}}}}}],\"toolbar\":{\"type\":\"object\",\"name\":\"Toolbar\",\"id\":\"p1231\",\"attributes\":{\"tools\":[{\"type\":\"object\",\"name\":\"PanTool\",\"id\":\"p1244\"},{\"type\":\"object\",\"name\":\"WheelZoomTool\",\"id\":\"p1245\",\"attributes\":{\"renderers\":\"auto\"}},{\"type\":\"object\",\"name\":\"BoxZoomTool\",\"id\":\"p1246\",\"attributes\":{\"dimensions\":\"both\",\"overlay\":{\"type\":\"object\",\"name\":\"BoxAnnotation\",\"id\":\"p1247\",\"attributes\":{\"syncable\":false,\"line_color\":\"black\",\"line_alpha\":1.0,\"line_width\":2,\"line_dash\":[4,4],\"fill_color\":\"lightgrey\",\"fill_alpha\":0.5,\"level\":\"overlay\",\"visible\":false,\"left\":{\"type\":\"number\",\"value\":\"nan\"},\"right\":{\"type\":\"number\",\"value\":\"nan\"},\"top\":{\"type\":\"number\",\"value\":\"nan\"},\"bottom\":{\"type\":\"number\",\"value\":\"nan\"},\"left_units\":\"canvas\",\"right_units\":\"canvas\",\"top_units\":\"canvas\",\"bottom_units\":\"canvas\",\"handles\":{\"type\":\"object\",\"name\":\"BoxInteractionHandles\",\"id\":\"p1253\",\"attributes\":{\"all\":{\"type\":\"object\",\"name\":\"AreaVisuals\",\"id\":\"p1252\",\"attributes\":{\"fill_color\":\"white\",\"hover_fill_color\":\"lightgray\"}}}}}}}},{\"type\":\"object\",\"name\":\"SaveTool\",\"id\":\"p1254\"},{\"type\":\"object\",\"name\":\"ResetTool\",\"id\":\"p1255\"},{\"type\":\"object\",\"name\":\"HelpTool\",\"id\":\"p1256\"},{\"type\":\"object\",\"name\":\"HoverTool\",\"id\":\"p1266\",\"attributes\":{\"renderers\":\"auto\",\"tooltips\":[[\"phrase\",\"@phrase\"]],\"sort_by\":null}}],\"active_scroll\":{\"id\":\"p1245\"}}},\"left\":[{\"type\":\"object\",\"name\":\"LinearAxis\",\"id\":\"p1239\",\"attributes\":{\"ticker\":{\"type\":\"object\",\"name\":\"BasicTicker\",\"id\":\"p1240\",\"attributes\":{\"mantissas\":[1,2,5]}},\"formatter\":{\"type\":\"object\",\"name\":\"BasicTickFormatter\",\"id\":\"p1241\"},\"major_label_policy\":{\"type\":\"object\",\"name\":\"AllLabels\",\"id\":\"p1242\"}}}],\"below\":[{\"type\":\"object\",\"name\":\"LinearAxis\",\"id\":\"p1234\",\"attributes\":{\"ticker\":{\"type\":\"object\",\"name\":\"BasicTicker\",\"id\":\"p1235\",\"attributes\":{\"mantissas\":[1,2,5]}},\"formatter\":{\"type\":\"object\",\"name\":\"BasicTickFormatter\",\"id\":\"p1236\"},\"major_label_policy\":{\"type\":\"object\",\"name\":\"AllLabels\",\"id\":\"p1237\"}}}],\"center\":[{\"type\":\"object\",\"name\":\"Grid\",\"id\":\"p1238\",\"attributes\":{\"axis\":{\"id\":\"p1234\"}}},{\"type\":\"object\",\"name\":\"Grid\",\"id\":\"p1243\",\"attributes\":{\"dimension\":1,\"axis\":{\"id\":\"p1239\"}}}]}}]}};\n",
              "  const render_items = [{\"docid\":\"cca21469-21f1-46d4-ad99-babd9bfc3d00\",\"roots\":{\"p1223\":\"b3cdc46c-f452-4ac2-9051-aead3f38c7e8\"},\"root_ids\":[\"p1223\"]}];\n",
              "  void root.Bokeh.embed.embed_items_notebook(docs_json, render_items);\n",
              "  }\n",
              "  if (root.Bokeh !== undefined) {\n",
              "    embed_document(root);\n",
              "  } else {\n",
              "    let attempts = 0;\n",
              "    const timer = setInterval(function(root) {\n",
              "      if (root.Bokeh !== undefined) {\n",
              "        clearInterval(timer);\n",
              "        embed_document(root);\n",
              "      } else {\n",
              "        attempts++;\n",
              "        if (attempts > 100) {\n",
              "          clearInterval(timer);\n",
              "          console.log(\"Bokeh: ERROR: Unable to run BokehJS code because BokehJS library is missing\");\n",
              "        }\n",
              "      }\n",
              "    }, 10, root)\n",
              "  }\n",
              "})(window);"
            ],
            "application/vnd.bokehjs_exec.v0+json": ""
          },
          "metadata": {
            "application/vnd.bokehjs_exec.v0+json": {
              "id": "p1223"
            }
          }
        },
        {
          "output_type": "execute_result",
          "data": {
            "text/plain": [
              "figure(id='p1223', ...)"
            ],
            "text/html": [
              "<div style=\"display: table;\"><div style=\"display: table-row;\"><div style=\"display: table-cell;\"><b title=\"bokeh.plotting._figure.figure\">figure</b>(</div><div style=\"display: table-cell;\">id&nbsp;=&nbsp;'p1223', <span id=\"p1272\" style=\"cursor: pointer;\">&hellip;)</span></div></div><div class=\"p1271\" style=\"display: none;\"><div style=\"display: table-cell;\"></div><div style=\"display: table-cell;\">above&nbsp;=&nbsp;[],</div></div><div class=\"p1271\" style=\"display: none;\"><div style=\"display: table-cell;\"></div><div style=\"display: table-cell;\">align&nbsp;=&nbsp;'auto',</div></div><div class=\"p1271\" style=\"display: none;\"><div style=\"display: table-cell;\"></div><div style=\"display: table-cell;\">aspect_ratio&nbsp;=&nbsp;None,</div></div><div class=\"p1271\" style=\"display: none;\"><div style=\"display: table-cell;\"></div><div style=\"display: table-cell;\">aspect_scale&nbsp;=&nbsp;1,</div></div><div class=\"p1271\" style=\"display: none;\"><div style=\"display: table-cell;\"></div><div style=\"display: table-cell;\">attribution&nbsp;=&nbsp;[],</div></div><div class=\"p1271\" style=\"display: none;\"><div style=\"display: table-cell;\"></div><div style=\"display: table-cell;\">background_fill_alpha&nbsp;=&nbsp;1.0,</div></div><div class=\"p1271\" style=\"display: none;\"><div style=\"display: table-cell;\"></div><div style=\"display: table-cell;\">background_fill_color&nbsp;=&nbsp;'#ffffff',</div></div><div class=\"p1271\" style=\"display: none;\"><div style=\"display: table-cell;\"></div><div style=\"display: table-cell;\">background_hatch_alpha&nbsp;=&nbsp;1.0,</div></div><div class=\"p1271\" style=\"display: none;\"><div style=\"display: table-cell;\"></div><div style=\"display: table-cell;\">background_hatch_color&nbsp;=&nbsp;'black',</div></div><div class=\"p1271\" style=\"display: none;\"><div style=\"display: table-cell;\"></div><div style=\"display: table-cell;\">background_hatch_extra&nbsp;=&nbsp;{},</div></div><div class=\"p1271\" style=\"display: none;\"><div style=\"display: table-cell;\"></div><div style=\"display: table-cell;\">background_hatch_pattern&nbsp;=&nbsp;None,</div></div><div class=\"p1271\" style=\"display: none;\"><div style=\"display: table-cell;\"></div><div style=\"display: table-cell;\">background_hatch_scale&nbsp;=&nbsp;12.0,</div></div><div class=\"p1271\" style=\"display: none;\"><div style=\"display: table-cell;\"></div><div style=\"display: table-cell;\">background_hatch_weight&nbsp;=&nbsp;1.0,</div></div><div class=\"p1271\" style=\"display: none;\"><div style=\"display: table-cell;\"></div><div style=\"display: table-cell;\">below&nbsp;=&nbsp;[LinearAxis(id='p1234', ...)],</div></div><div class=\"p1271\" style=\"display: none;\"><div style=\"display: table-cell;\"></div><div style=\"display: table-cell;\">border_fill_alpha&nbsp;=&nbsp;1.0,</div></div><div class=\"p1271\" style=\"display: none;\"><div style=\"display: table-cell;\"></div><div style=\"display: table-cell;\">border_fill_color&nbsp;=&nbsp;'#ffffff',</div></div><div class=\"p1271\" style=\"display: none;\"><div style=\"display: table-cell;\"></div><div style=\"display: table-cell;\">border_hatch_alpha&nbsp;=&nbsp;1.0,</div></div><div class=\"p1271\" style=\"display: none;\"><div style=\"display: table-cell;\"></div><div style=\"display: table-cell;\">border_hatch_color&nbsp;=&nbsp;'black',</div></div><div class=\"p1271\" style=\"display: none;\"><div style=\"display: table-cell;\"></div><div style=\"display: table-cell;\">border_hatch_extra&nbsp;=&nbsp;{},</div></div><div class=\"p1271\" style=\"display: none;\"><div style=\"display: table-cell;\"></div><div style=\"display: table-cell;\">border_hatch_pattern&nbsp;=&nbsp;None,</div></div><div class=\"p1271\" style=\"display: none;\"><div style=\"display: table-cell;\"></div><div style=\"display: table-cell;\">border_hatch_scale&nbsp;=&nbsp;12.0,</div></div><div class=\"p1271\" style=\"display: none;\"><div style=\"display: table-cell;\"></div><div style=\"display: table-cell;\">border_hatch_weight&nbsp;=&nbsp;1.0,</div></div><div class=\"p1271\" style=\"display: none;\"><div style=\"display: table-cell;\"></div><div style=\"display: table-cell;\">border_line_alpha&nbsp;=&nbsp;1.0,</div></div><div class=\"p1271\" style=\"display: none;\"><div style=\"display: table-cell;\"></div><div style=\"display: table-cell;\">border_line_cap&nbsp;=&nbsp;'butt',</div></div><div class=\"p1271\" style=\"display: none;\"><div style=\"display: table-cell;\"></div><div style=\"display: table-cell;\">border_line_color&nbsp;=&nbsp;None,</div></div><div class=\"p1271\" style=\"display: none;\"><div style=\"display: table-cell;\"></div><div style=\"display: table-cell;\">border_line_dash&nbsp;=&nbsp;[],</div></div><div class=\"p1271\" style=\"display: none;\"><div style=\"display: table-cell;\"></div><div style=\"display: table-cell;\">border_line_dash_offset&nbsp;=&nbsp;0,</div></div><div class=\"p1271\" style=\"display: none;\"><div style=\"display: table-cell;\"></div><div style=\"display: table-cell;\">border_line_join&nbsp;=&nbsp;'bevel',</div></div><div class=\"p1271\" style=\"display: none;\"><div style=\"display: table-cell;\"></div><div style=\"display: table-cell;\">border_line_width&nbsp;=&nbsp;1,</div></div><div class=\"p1271\" style=\"display: none;\"><div style=\"display: table-cell;\"></div><div style=\"display: table-cell;\">center&nbsp;=&nbsp;[Grid(id='p1238', ...), Grid(id='p1243', ...)],</div></div><div class=\"p1271\" style=\"display: none;\"><div style=\"display: table-cell;\"></div><div style=\"display: table-cell;\">context_menu&nbsp;=&nbsp;'auto',</div></div><div class=\"p1271\" style=\"display: none;\"><div style=\"display: table-cell;\"></div><div style=\"display: table-cell;\">css_classes&nbsp;=&nbsp;[],</div></div><div class=\"p1271\" style=\"display: none;\"><div style=\"display: table-cell;\"></div><div style=\"display: table-cell;\">css_variables&nbsp;=&nbsp;{},</div></div><div class=\"p1271\" style=\"display: none;\"><div style=\"display: table-cell;\"></div><div style=\"display: table-cell;\">disabled&nbsp;=&nbsp;False,</div></div><div class=\"p1271\" style=\"display: none;\"><div style=\"display: table-cell;\"></div><div style=\"display: table-cell;\">elements&nbsp;=&nbsp;[],</div></div><div class=\"p1271\" style=\"display: none;\"><div style=\"display: table-cell;\"></div><div style=\"display: table-cell;\">extra_x_ranges&nbsp;=&nbsp;{},</div></div><div class=\"p1271\" style=\"display: none;\"><div style=\"display: table-cell;\"></div><div style=\"display: table-cell;\">extra_x_scales&nbsp;=&nbsp;{},</div></div><div class=\"p1271\" style=\"display: none;\"><div style=\"display: table-cell;\"></div><div style=\"display: table-cell;\">extra_y_ranges&nbsp;=&nbsp;{},</div></div><div class=\"p1271\" style=\"display: none;\"><div style=\"display: table-cell;\"></div><div style=\"display: table-cell;\">extra_y_scales&nbsp;=&nbsp;{},</div></div><div class=\"p1271\" style=\"display: none;\"><div style=\"display: table-cell;\"></div><div style=\"display: table-cell;\">flow_mode&nbsp;=&nbsp;'block',</div></div><div class=\"p1271\" style=\"display: none;\"><div style=\"display: table-cell;\"></div><div style=\"display: table-cell;\">frame_align&nbsp;=&nbsp;True,</div></div><div class=\"p1271\" style=\"display: none;\"><div style=\"display: table-cell;\"></div><div style=\"display: table-cell;\">frame_height&nbsp;=&nbsp;None,</div></div><div class=\"p1271\" style=\"display: none;\"><div style=\"display: table-cell;\"></div><div style=\"display: table-cell;\">frame_width&nbsp;=&nbsp;None,</div></div><div class=\"p1271\" style=\"display: none;\"><div style=\"display: table-cell;\"></div><div style=\"display: table-cell;\">height&nbsp;=&nbsp;400,</div></div><div class=\"p1271\" style=\"display: none;\"><div style=\"display: table-cell;\"></div><div style=\"display: table-cell;\">height_policy&nbsp;=&nbsp;'auto',</div></div><div class=\"p1271\" style=\"display: none;\"><div style=\"display: table-cell;\"></div><div style=\"display: table-cell;\">hidpi&nbsp;=&nbsp;True,</div></div><div class=\"p1271\" style=\"display: none;\"><div style=\"display: table-cell;\"></div><div style=\"display: table-cell;\">hold_render&nbsp;=&nbsp;False,</div></div><div class=\"p1271\" style=\"display: none;\"><div style=\"display: table-cell;\"></div><div style=\"display: table-cell;\">html_attributes&nbsp;=&nbsp;{},</div></div><div class=\"p1271\" style=\"display: none;\"><div style=\"display: table-cell;\"></div><div style=\"display: table-cell;\">html_id&nbsp;=&nbsp;None,</div></div><div class=\"p1271\" style=\"display: none;\"><div style=\"display: table-cell;\"></div><div style=\"display: table-cell;\">js_event_callbacks&nbsp;=&nbsp;{},</div></div><div class=\"p1271\" style=\"display: none;\"><div style=\"display: table-cell;\"></div><div style=\"display: table-cell;\">js_property_callbacks&nbsp;=&nbsp;{},</div></div><div class=\"p1271\" style=\"display: none;\"><div style=\"display: table-cell;\"></div><div style=\"display: table-cell;\">left&nbsp;=&nbsp;[LinearAxis(id='p1239', ...)],</div></div><div class=\"p1271\" style=\"display: none;\"><div style=\"display: table-cell;\"></div><div style=\"display: table-cell;\">lod_factor&nbsp;=&nbsp;10,</div></div><div class=\"p1271\" style=\"display: none;\"><div style=\"display: table-cell;\"></div><div style=\"display: table-cell;\">lod_interval&nbsp;=&nbsp;300,</div></div><div class=\"p1271\" style=\"display: none;\"><div style=\"display: table-cell;\"></div><div style=\"display: table-cell;\">lod_threshold&nbsp;=&nbsp;2000,</div></div><div class=\"p1271\" style=\"display: none;\"><div style=\"display: table-cell;\"></div><div style=\"display: table-cell;\">lod_timeout&nbsp;=&nbsp;500,</div></div><div class=\"p1271\" style=\"display: none;\"><div style=\"display: table-cell;\"></div><div style=\"display: table-cell;\">margin&nbsp;=&nbsp;None,</div></div><div class=\"p1271\" style=\"display: none;\"><div style=\"display: table-cell;\"></div><div style=\"display: table-cell;\">match_aspect&nbsp;=&nbsp;False,</div></div><div class=\"p1271\" style=\"display: none;\"><div style=\"display: table-cell;\"></div><div style=\"display: table-cell;\">max_height&nbsp;=&nbsp;None,</div></div><div class=\"p1271\" style=\"display: none;\"><div style=\"display: table-cell;\"></div><div style=\"display: table-cell;\">max_width&nbsp;=&nbsp;None,</div></div><div class=\"p1271\" style=\"display: none;\"><div style=\"display: table-cell;\"></div><div style=\"display: table-cell;\">min_border&nbsp;=&nbsp;5,</div></div><div class=\"p1271\" style=\"display: none;\"><div style=\"display: table-cell;\"></div><div style=\"display: table-cell;\">min_border_bottom&nbsp;=&nbsp;None,</div></div><div class=\"p1271\" style=\"display: none;\"><div style=\"display: table-cell;\"></div><div style=\"display: table-cell;\">min_border_left&nbsp;=&nbsp;None,</div></div><div class=\"p1271\" style=\"display: none;\"><div style=\"display: table-cell;\"></div><div style=\"display: table-cell;\">min_border_right&nbsp;=&nbsp;None,</div></div><div class=\"p1271\" style=\"display: none;\"><div style=\"display: table-cell;\"></div><div style=\"display: table-cell;\">min_border_top&nbsp;=&nbsp;None,</div></div><div class=\"p1271\" style=\"display: none;\"><div style=\"display: table-cell;\"></div><div style=\"display: table-cell;\">min_height&nbsp;=&nbsp;None,</div></div><div class=\"p1271\" style=\"display: none;\"><div style=\"display: table-cell;\"></div><div style=\"display: table-cell;\">min_width&nbsp;=&nbsp;None,</div></div><div class=\"p1271\" style=\"display: none;\"><div style=\"display: table-cell;\"></div><div style=\"display: table-cell;\">name&nbsp;=&nbsp;None,</div></div><div class=\"p1271\" style=\"display: none;\"><div style=\"display: table-cell;\"></div><div style=\"display: table-cell;\">outline_line_alpha&nbsp;=&nbsp;1.0,</div></div><div class=\"p1271\" style=\"display: none;\"><div style=\"display: table-cell;\"></div><div style=\"display: table-cell;\">outline_line_cap&nbsp;=&nbsp;'butt',</div></div><div class=\"p1271\" style=\"display: none;\"><div style=\"display: table-cell;\"></div><div style=\"display: table-cell;\">outline_line_color&nbsp;=&nbsp;'#e5e5e5',</div></div><div class=\"p1271\" style=\"display: none;\"><div style=\"display: table-cell;\"></div><div style=\"display: table-cell;\">outline_line_dash&nbsp;=&nbsp;[],</div></div><div class=\"p1271\" style=\"display: none;\"><div style=\"display: table-cell;\"></div><div style=\"display: table-cell;\">outline_line_dash_offset&nbsp;=&nbsp;0,</div></div><div class=\"p1271\" style=\"display: none;\"><div style=\"display: table-cell;\"></div><div style=\"display: table-cell;\">outline_line_join&nbsp;=&nbsp;'bevel',</div></div><div class=\"p1271\" style=\"display: none;\"><div style=\"display: table-cell;\"></div><div style=\"display: table-cell;\">outline_line_width&nbsp;=&nbsp;1,</div></div><div class=\"p1271\" style=\"display: none;\"><div style=\"display: table-cell;\"></div><div style=\"display: table-cell;\">output_backend&nbsp;=&nbsp;'canvas',</div></div><div class=\"p1271\" style=\"display: none;\"><div style=\"display: table-cell;\"></div><div style=\"display: table-cell;\">renderers&nbsp;=&nbsp;[GlyphRenderer(id='p1263', ...)],</div></div><div class=\"p1271\" style=\"display: none;\"><div style=\"display: table-cell;\"></div><div style=\"display: table-cell;\">reset_policy&nbsp;=&nbsp;'standard',</div></div><div class=\"p1271\" style=\"display: none;\"><div style=\"display: table-cell;\"></div><div style=\"display: table-cell;\">resizable&nbsp;=&nbsp;False,</div></div><div class=\"p1271\" style=\"display: none;\"><div style=\"display: table-cell;\"></div><div style=\"display: table-cell;\">right&nbsp;=&nbsp;[],</div></div><div class=\"p1271\" style=\"display: none;\"><div style=\"display: table-cell;\"></div><div style=\"display: table-cell;\">sizing_mode&nbsp;=&nbsp;None,</div></div><div class=\"p1271\" style=\"display: none;\"><div style=\"display: table-cell;\"></div><div style=\"display: table-cell;\">styles&nbsp;=&nbsp;{},</div></div><div class=\"p1271\" style=\"display: none;\"><div style=\"display: table-cell;\"></div><div style=\"display: table-cell;\">stylesheets&nbsp;=&nbsp;[],</div></div><div class=\"p1271\" style=\"display: none;\"><div style=\"display: table-cell;\"></div><div style=\"display: table-cell;\">subscribed_events&nbsp;=&nbsp;PropertyValueSet(),</div></div><div class=\"p1271\" style=\"display: none;\"><div style=\"display: table-cell;\"></div><div style=\"display: table-cell;\">syncable&nbsp;=&nbsp;True,</div></div><div class=\"p1271\" style=\"display: none;\"><div style=\"display: table-cell;\"></div><div style=\"display: table-cell;\">tags&nbsp;=&nbsp;[],</div></div><div class=\"p1271\" style=\"display: none;\"><div style=\"display: table-cell;\"></div><div style=\"display: table-cell;\">title&nbsp;=&nbsp;Title(id='p1230', ...),</div></div><div class=\"p1271\" style=\"display: none;\"><div style=\"display: table-cell;\"></div><div style=\"display: table-cell;\">title_location&nbsp;=&nbsp;'above',</div></div><div class=\"p1271\" style=\"display: none;\"><div style=\"display: table-cell;\"></div><div style=\"display: table-cell;\">toolbar&nbsp;=&nbsp;Toolbar(id='p1231', ...),</div></div><div class=\"p1271\" style=\"display: none;\"><div style=\"display: table-cell;\"></div><div style=\"display: table-cell;\">toolbar_inner&nbsp;=&nbsp;False,</div></div><div class=\"p1271\" style=\"display: none;\"><div style=\"display: table-cell;\"></div><div style=\"display: table-cell;\">toolbar_location&nbsp;=&nbsp;'right',</div></div><div class=\"p1271\" style=\"display: none;\"><div style=\"display: table-cell;\"></div><div style=\"display: table-cell;\">toolbar_sticky&nbsp;=&nbsp;True,</div></div><div class=\"p1271\" style=\"display: none;\"><div style=\"display: table-cell;\"></div><div style=\"display: table-cell;\">visible&nbsp;=&nbsp;True,</div></div><div class=\"p1271\" style=\"display: none;\"><div style=\"display: table-cell;\"></div><div style=\"display: table-cell;\">width&nbsp;=&nbsp;600,</div></div><div class=\"p1271\" style=\"display: none;\"><div style=\"display: table-cell;\"></div><div style=\"display: table-cell;\">width_policy&nbsp;=&nbsp;'auto',</div></div><div class=\"p1271\" style=\"display: none;\"><div style=\"display: table-cell;\"></div><div style=\"display: table-cell;\">window_axis&nbsp;=&nbsp;'none',</div></div><div class=\"p1271\" style=\"display: none;\"><div style=\"display: table-cell;\"></div><div style=\"display: table-cell;\">x_range&nbsp;=&nbsp;DataRange1d(id='p1224', ...),</div></div><div class=\"p1271\" style=\"display: none;\"><div style=\"display: table-cell;\"></div><div style=\"display: table-cell;\">x_scale&nbsp;=&nbsp;LinearScale(id='p1232', ...),</div></div><div class=\"p1271\" style=\"display: none;\"><div style=\"display: table-cell;\"></div><div style=\"display: table-cell;\">y_range&nbsp;=&nbsp;DataRange1d(id='p1225', ...),</div></div><div class=\"p1271\" style=\"display: none;\"><div style=\"display: table-cell;\"></div><div style=\"display: table-cell;\">y_scale&nbsp;=&nbsp;LinearScale(id='p1233', ...))</div></div></div>\n",
              "<script>\n",
              "(function() {\n",
              "  let expanded = false;\n",
              "  const ellipsis = document.getElementById(\"p1272\");\n",
              "  ellipsis.addEventListener(\"click\", function() {\n",
              "    const rows = document.getElementsByClassName(\"p1271\");\n",
              "    for (let i = 0; i < rows.length; i++) {\n",
              "      const el = rows[i];\n",
              "      el.style.display = expanded ? \"none\" : \"table-row\";\n",
              "    }\n",
              "    ellipsis.innerHTML = expanded ? \"&hellip;)\" : \"&lsaquo;&lsaquo;&lsaquo;\";\n",
              "    expanded = !expanded;\n",
              "  });\n",
              "})();\n",
              "</script>\n"
            ]
          },
          "metadata": {},
          "execution_count": 46
        }
      ],
      "source": [
        "draw_vectors(phrase_vectors_2d[:, 0], phrase_vectors_2d[:, 1],\n",
        "             phrase=[phrase[:50] for phrase in chosen_phrases],\n",
        "             radius=20,)"
      ]
    },
    {
      "cell_type": "markdown",
      "metadata": {
        "id": "SG5E8a8mrrXO"
      },
      "source": [
        "Finally, let's build a simple \"similar question\" engine with phrase embeddings we've built."
      ]
    },
    {
      "cell_type": "code",
      "execution_count": 47,
      "metadata": {
        "collapsed": true,
        "id": "tytCN2mWrrXO"
      },
      "outputs": [],
      "source": [
        "# compute vector embedding for all lines in data\n",
        "data_vectors = np.array([get_phrase_embedding(l) for l in data])"
      ]
    },
    {
      "cell_type": "code",
      "execution_count": 60,
      "metadata": {
        "collapsed": true,
        "colab": {
          "base_uri": "https://localhost:8080/",
          "height": 0
        },
        "id": "J8prrD-krrXO",
        "outputId": "6891d975-dd1c-4b9a-e52f-ef48c2dba217"
      },
      "outputs": [
        {
          "output_type": "stream",
          "name": "stdout",
          "text": [
            "How do I get to the dark web?\n",
            "What should I do to enter hollywood?\n",
            "How do I use the Greenify app?\n",
            "What can I do to save the world?\n",
            "How do I win this?\n",
            "How do I think out of the box? How do I learn to think out of the box?\n",
            "How do I find the 5th dimension?\n",
            "How do I use the pad in MMA?\n",
            "How do I estimate the competition?\n",
            "What do I do to enter the line of event management?\n",
            "\n"
          ]
        },
        {
          "output_type": "stream",
          "name": "stderr",
          "text": [
            "/tmp/ipython-input-2204309157.py:18: RuntimeWarning: invalid value encountered in divide\n",
            "  data_norm = data_vectors / np.linalg.norm(data_vectors, axis=1, keepdims=True)\n"
          ]
        }
      ],
      "source": [
        "import numpy as np\n",
        "\n",
        "def find_nearest(query, k=10):\n",
        "    \"\"\"\n",
        "    given text line (query), return k most similar lines from data, sorted from most to least similar\n",
        "    similarity should be measured as cosine between query and line embedding vectors\n",
        "    \"\"\"\n",
        "\n",
        "    # --- Step 1: Convert query into a vector using get_phrase_embedding ---\n",
        "    query_vector = get_phrase_embedding(query)\n",
        "\n",
        "    # Handle case where query has no words in vocabulary\n",
        "    if np.all(query_vector == 0) and not any(get_phrase_embedding(w).any() for w in query.split()):\n",
        "        return []\n",
        "\n",
        "    # --- Step 2: Normalize vectors for cosine similarity ---\n",
        "    query_vector = query_vector / np.linalg.norm(query_vector)\n",
        "    data_norm = data_vectors / np.linalg.norm(data_vectors, axis=1, keepdims=True)\n",
        "\n",
        "    # --- Step 3: Compute cosine similarity between query and all data vectors ---\n",
        "    sims = np.dot(data_norm, query_vector)\n",
        "\n",
        "    # --- Step 4: Get indices of top-k most similar phrases ---\n",
        "    # argpartition is efficient for top-k selection\n",
        "    top_k_idx = np.argpartition(-sims, k)[:k]\n",
        "    # sort those indices by actual similarity score (highest first)\n",
        "    top_k_idx = top_k_idx[np.argsort(-sims[top_k_idx])]\n",
        "\n",
        "    # --- Step 5: Return the actual lines from data ---\n",
        "    return [data[i] for i in top_k_idx]\n",
        "\n",
        "\n",
        "# --- Test the function ---\n",
        "results = find_nearest(query=\"How do i enter the matrix?\", k=10)\n",
        "\n",
        "print(''.join(results))\n",
        "\n",
        "# Assertions from your notebook\n",
        "assert len(results) == 10 and isinstance(results[0], str)\n",
        "assert results[0] == 'How do I get to the dark web?\\n'\n",
        "assert results[3] == 'What can I do to save the world?\\n'"
      ]
    },
    {
      "cell_type": "code",
      "execution_count": 61,
      "metadata": {
        "collapsed": true,
        "colab": {
          "base_uri": "https://localhost:8080/",
          "height": 0
        },
        "id": "72Fxa5AZrrXX",
        "outputId": "3b1da7b5-2913-4106-fd40-397eaed5e74e"
      },
      "outputs": [
        {
          "output_type": "stream",
          "name": "stderr",
          "text": [
            "/tmp/ipython-input-2204309157.py:18: RuntimeWarning: invalid value encountered in divide\n",
            "  data_norm = data_vectors / np.linalg.norm(data_vectors, axis=1, keepdims=True)\n"
          ]
        },
        {
          "output_type": "execute_result",
          "data": {
            "text/plain": [
              "['What does Donald Trump think about Israel?\\n',\n",
              " 'What books does Donald Trump like?\\n',\n",
              " 'What does Donald Trump think of India?\\n',\n",
              " 'What does India think of Donald Trump?\\n',\n",
              " 'What does Donald Trump think of China?\\n',\n",
              " 'What does Donald Trump think about Pakistan?\\n',\n",
              " 'What companies does Donald Trump own?\\n',\n",
              " 'What does Dushka Zapata think about Donald Trump?\\n',\n",
              " 'How does it feel to date Ivanka Trump?\\n',\n",
              " 'What does salesforce mean?\\n']"
            ]
          },
          "metadata": {},
          "execution_count": 61
        }
      ],
      "source": [
        "find_nearest(query=\"How does Trump?\", k=10)"
      ]
    },
    {
      "cell_type": "code",
      "execution_count": 62,
      "metadata": {
        "collapsed": true,
        "colab": {
          "base_uri": "https://localhost:8080/",
          "height": 0
        },
        "id": "5qRC9zIMrrXX",
        "outputId": "4dbaa812-d300-49f2-e925-876863d45778"
      },
      "outputs": [
        {
          "output_type": "stream",
          "name": "stderr",
          "text": [
            "/tmp/ipython-input-2204309157.py:18: RuntimeWarning: invalid value encountered in divide\n",
            "  data_norm = data_vectors / np.linalg.norm(data_vectors, axis=1, keepdims=True)\n"
          ]
        },
        {
          "output_type": "execute_result",
          "data": {
            "text/plain": [
              "[\"Why don't I get a date?\\n\",\n",
              " \"Why do you always answer a question with a question? I don't, or do I?\\n\",\n",
              " \"Why can't I ask a question anonymously?\\n\",\n",
              " \"Why don't I get a girlfriend?\\n\",\n",
              " \"Why don't I have a boyfriend?\\n\",\n",
              " \"I don't have no question?\\n\",\n",
              " \"Why can't I take a joke?\\n\",\n",
              " \"Why don't I ever get a girl?\\n\",\n",
              " \"Can I ask a girl out that I don't know?\\n\",\n",
              " \"Why don't I have a girlfriend?\\n\"]"
            ]
          },
          "metadata": {},
          "execution_count": 62
        }
      ],
      "source": [
        "find_nearest(query=\"Why don't i ask a question myself?\", k=10)"
      ]
    },
    {
      "cell_type": "markdown",
      "metadata": {
        "collapsed": true,
        "id": "rD2ur1bhrrXX"
      },
      "source": [
        "__Now what?__\n",
        "* Try running TSNE on all data, not just 1000 phrases\n",
        "* See what other embeddings are there in the model zoo: `gensim.downloader.info()`\n",
        "* Take a look at [FastText](https://github.com/facebookresearch/fastText) embeddings\n",
        "* Optimize find_nearest with locality-sensitive hashing: use [nearpy](https://github.com/pixelogik/NearPy) or `sklearn.neighbors`."
      ]
    },
    {
      "cell_type": "code",
      "source": [
        "from sklearn.decomposition import TruncatedSVD\n",
        "from sklearn.feature_extraction.text import TfidfVectorizer\n",
        "\n",
        "# Example corpus\n",
        "docs = [\n",
        "    \"The cat sat on the mat\",\n",
        "    \"Dogs and cats are great pets\",\n",
        "    \"I love eating an apple\",\n",
        "    \"The dog chased the cat\"\n",
        "]\n",
        "\n",
        "# Step 1: Convert to TF-IDF matrix\n",
        "vectorizer = TfidfVectorizer()\n",
        "X = vectorizer.fit_transform(docs)\n",
        "\n",
        "# Step 2: Apply Truncated SVD (LSA)\n",
        "svd = TruncatedSVD(n_components=2)  # reduce to 2D\n",
        "X_svd = svd.fit_transform(X)\n",
        "\n",
        "print(\"Word-topic matrix shape:\", X_svd.shape)\n"
      ],
      "metadata": {
        "colab": {
          "base_uri": "https://localhost:8080/",
          "height": 0
        },
        "id": "hL1X_Br0Hphw",
        "outputId": "6ab86467-389c-4186-c5c6-b627bf9823db"
      },
      "execution_count": 63,
      "outputs": [
        {
          "output_type": "stream",
          "name": "stdout",
          "text": [
            "Word-topic matrix shape: (4, 2)\n"
          ]
        }
      ]
    },
    {
      "cell_type": "code",
      "source": [
        "X_svd"
      ],
      "metadata": {
        "colab": {
          "base_uri": "https://localhost:8080/",
          "height": 0
        },
        "id": "yBT3KmLBHsLo",
        "outputId": "046d8313-e6b0-4d3c-bd5d-5ec66239a4ce"
      },
      "execution_count": 64,
      "outputs": [
        {
          "output_type": "execute_result",
          "data": {
            "text/plain": [
              "array([[ 8.82162501e-01, -1.43967196e-17],\n",
              "       [ 2.43683943e-17,  2.78286550e-16],\n",
              "       [ 1.31945003e-16,  1.00000000e+00],\n",
              "       [ 8.82162501e-01, -1.64103451e-16]])"
            ]
          },
          "metadata": {},
          "execution_count": 64
        }
      ]
    },
    {
      "cell_type": "code",
      "source": [
        "X.toarray()"
      ],
      "metadata": {
        "colab": {
          "base_uri": "https://localhost:8080/",
          "height": 0
        },
        "id": "FXEXxx0jHvu5",
        "outputId": "394def00-48c4-41d3-ec55-4cf49341314f"
      },
      "execution_count": 66,
      "outputs": [
        {
          "output_type": "execute_result",
          "data": {
            "text/plain": [
              "array([[0.        , 0.        , 0.        , 0.        , 0.31901032,\n",
              "        0.        , 0.        , 0.        , 0.        , 0.        ,\n",
              "        0.        , 0.        , 0.40462414, 0.40462414, 0.        ,\n",
              "        0.40462414, 0.63802064],\n",
              "       [0.        , 0.40824829, 0.        , 0.40824829, 0.        ,\n",
              "        0.40824829, 0.        , 0.        , 0.40824829, 0.        ,\n",
              "        0.40824829, 0.        , 0.        , 0.        , 0.40824829,\n",
              "        0.        , 0.        ],\n",
              "       [0.5       , 0.        , 0.5       , 0.        , 0.        ,\n",
              "        0.        , 0.        , 0.        , 0.        , 0.5       ,\n",
              "        0.        , 0.5       , 0.        , 0.        , 0.        ,\n",
              "        0.        , 0.        ],\n",
              "       [0.        , 0.        , 0.        , 0.        , 0.34884223,\n",
              "        0.        , 0.44246214, 0.44246214, 0.        , 0.        ,\n",
              "        0.        , 0.        , 0.        , 0.        , 0.        ,\n",
              "        0.        , 0.69768446]])"
            ]
          },
          "metadata": {},
          "execution_count": 66
        }
      ]
    },
    {
      "cell_type": "code",
      "source": [],
      "metadata": {
        "id": "EExfR2eYHyZI"
      },
      "execution_count": null,
      "outputs": []
    }
  ],
  "metadata": {
    "kernelspec": {
      "display_name": "Python 3",
      "language": "python",
      "name": "python3"
    },
    "language_info": {
      "codemirror_mode": {
        "name": "ipython",
        "version": 3
      },
      "file_extension": ".py",
      "mimetype": "text/x-python",
      "name": "python",
      "nbconvert_exporter": "python",
      "pygments_lexer": "ipython3",
      "version": "3.5.2"
    },
    "colab": {
      "provenance": []
    }
  },
  "nbformat": 4,
  "nbformat_minor": 0
}